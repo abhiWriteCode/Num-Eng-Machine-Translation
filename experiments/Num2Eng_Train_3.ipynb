{
  "nbformat": 4,
  "nbformat_minor": 0,
  "metadata": {
    "colab": {
      "name": "Num2Eng Train - 3",
      "provenance": [],
      "collapsed_sections": [],
      "toc_visible": true
    },
    "kernelspec": {
      "name": "python3",
      "display_name": "Python 3"
    },
    "widgets": {
      "application/vnd.jupyter.widget-state+json": {
        "5019a550e6ca4df4ac7026234168d7c7": {
          "model_module": "@jupyter-widgets/controls",
          "model_name": "HBoxModel",
          "state": {
            "_view_name": "HBoxView",
            "_dom_classes": [],
            "_model_name": "HBoxModel",
            "_view_module": "@jupyter-widgets/controls",
            "_model_module_version": "1.5.0",
            "_view_count": null,
            "_view_module_version": "1.5.0",
            "box_style": "",
            "layout": "IPY_MODEL_3fe4ebcac61f4cbba356f5e2d06ca21d",
            "_model_module": "@jupyter-widgets/controls",
            "children": [
              "IPY_MODEL_34d367de7e8e4a25b6045e0671cee82c",
              "IPY_MODEL_eba519023121409089dad964c8f78098"
            ]
          }
        },
        "3fe4ebcac61f4cbba356f5e2d06ca21d": {
          "model_module": "@jupyter-widgets/base",
          "model_name": "LayoutModel",
          "state": {
            "_view_name": "LayoutView",
            "grid_template_rows": null,
            "right": null,
            "justify_content": null,
            "_view_module": "@jupyter-widgets/base",
            "overflow": null,
            "_model_module_version": "1.2.0",
            "_view_count": null,
            "flex_flow": null,
            "width": null,
            "min_width": null,
            "border": null,
            "align_items": null,
            "bottom": null,
            "_model_module": "@jupyter-widgets/base",
            "top": null,
            "grid_column": null,
            "overflow_y": null,
            "overflow_x": null,
            "grid_auto_flow": null,
            "grid_area": null,
            "grid_template_columns": null,
            "flex": null,
            "_model_name": "LayoutModel",
            "justify_items": null,
            "grid_row": null,
            "max_height": null,
            "align_content": null,
            "visibility": null,
            "align_self": null,
            "height": null,
            "min_height": null,
            "padding": null,
            "grid_auto_rows": null,
            "grid_gap": null,
            "max_width": null,
            "order": null,
            "_view_module_version": "1.2.0",
            "grid_template_areas": null,
            "object_position": null,
            "object_fit": null,
            "grid_auto_columns": null,
            "margin": null,
            "display": null,
            "left": null
          }
        },
        "34d367de7e8e4a25b6045e0671cee82c": {
          "model_module": "@jupyter-widgets/controls",
          "model_name": "FloatProgressModel",
          "state": {
            "_view_name": "ProgressView",
            "style": "IPY_MODEL_0ff47c15dbea42ccb37b81a2bcdb174a",
            "_dom_classes": [],
            "description": "Downloading: 100%",
            "_model_name": "FloatProgressModel",
            "bar_style": "success",
            "max": 1197,
            "_view_module": "@jupyter-widgets/controls",
            "_model_module_version": "1.5.0",
            "value": 1197,
            "_view_count": null,
            "_view_module_version": "1.5.0",
            "orientation": "horizontal",
            "min": 0,
            "description_tooltip": null,
            "_model_module": "@jupyter-widgets/controls",
            "layout": "IPY_MODEL_a2a90d5b68ff416094f743e3f9f67c3f"
          }
        },
        "eba519023121409089dad964c8f78098": {
          "model_module": "@jupyter-widgets/controls",
          "model_name": "HTMLModel",
          "state": {
            "_view_name": "HTMLView",
            "style": "IPY_MODEL_d68f445e855a4cd2bcb72ae3b5161545",
            "_dom_classes": [],
            "description": "",
            "_model_name": "HTMLModel",
            "placeholder": "​",
            "_view_module": "@jupyter-widgets/controls",
            "_model_module_version": "1.5.0",
            "value": " 1.20k/1.20k [00:00&lt;00:00, 3.90kB/s]",
            "_view_count": null,
            "_view_module_version": "1.5.0",
            "description_tooltip": null,
            "_model_module": "@jupyter-widgets/controls",
            "layout": "IPY_MODEL_fa222d4a78034d3e819f905f3abce6c5"
          }
        },
        "0ff47c15dbea42ccb37b81a2bcdb174a": {
          "model_module": "@jupyter-widgets/controls",
          "model_name": "ProgressStyleModel",
          "state": {
            "_view_name": "StyleView",
            "_model_name": "ProgressStyleModel",
            "description_width": "initial",
            "_view_module": "@jupyter-widgets/base",
            "_model_module_version": "1.5.0",
            "_view_count": null,
            "_view_module_version": "1.2.0",
            "bar_color": null,
            "_model_module": "@jupyter-widgets/controls"
          }
        },
        "a2a90d5b68ff416094f743e3f9f67c3f": {
          "model_module": "@jupyter-widgets/base",
          "model_name": "LayoutModel",
          "state": {
            "_view_name": "LayoutView",
            "grid_template_rows": null,
            "right": null,
            "justify_content": null,
            "_view_module": "@jupyter-widgets/base",
            "overflow": null,
            "_model_module_version": "1.2.0",
            "_view_count": null,
            "flex_flow": null,
            "width": null,
            "min_width": null,
            "border": null,
            "align_items": null,
            "bottom": null,
            "_model_module": "@jupyter-widgets/base",
            "top": null,
            "grid_column": null,
            "overflow_y": null,
            "overflow_x": null,
            "grid_auto_flow": null,
            "grid_area": null,
            "grid_template_columns": null,
            "flex": null,
            "_model_name": "LayoutModel",
            "justify_items": null,
            "grid_row": null,
            "max_height": null,
            "align_content": null,
            "visibility": null,
            "align_self": null,
            "height": null,
            "min_height": null,
            "padding": null,
            "grid_auto_rows": null,
            "grid_gap": null,
            "max_width": null,
            "order": null,
            "_view_module_version": "1.2.0",
            "grid_template_areas": null,
            "object_position": null,
            "object_fit": null,
            "grid_auto_columns": null,
            "margin": null,
            "display": null,
            "left": null
          }
        },
        "d68f445e855a4cd2bcb72ae3b5161545": {
          "model_module": "@jupyter-widgets/controls",
          "model_name": "DescriptionStyleModel",
          "state": {
            "_view_name": "StyleView",
            "_model_name": "DescriptionStyleModel",
            "description_width": "",
            "_view_module": "@jupyter-widgets/base",
            "_model_module_version": "1.5.0",
            "_view_count": null,
            "_view_module_version": "1.2.0",
            "_model_module": "@jupyter-widgets/controls"
          }
        },
        "fa222d4a78034d3e819f905f3abce6c5": {
          "model_module": "@jupyter-widgets/base",
          "model_name": "LayoutModel",
          "state": {
            "_view_name": "LayoutView",
            "grid_template_rows": null,
            "right": null,
            "justify_content": null,
            "_view_module": "@jupyter-widgets/base",
            "overflow": null,
            "_model_module_version": "1.2.0",
            "_view_count": null,
            "flex_flow": null,
            "width": null,
            "min_width": null,
            "border": null,
            "align_items": null,
            "bottom": null,
            "_model_module": "@jupyter-widgets/base",
            "top": null,
            "grid_column": null,
            "overflow_y": null,
            "overflow_x": null,
            "grid_auto_flow": null,
            "grid_area": null,
            "grid_template_columns": null,
            "flex": null,
            "_model_name": "LayoutModel",
            "justify_items": null,
            "grid_row": null,
            "max_height": null,
            "align_content": null,
            "visibility": null,
            "align_self": null,
            "height": null,
            "min_height": null,
            "padding": null,
            "grid_auto_rows": null,
            "grid_gap": null,
            "max_width": null,
            "order": null,
            "_view_module_version": "1.2.0",
            "grid_template_areas": null,
            "object_position": null,
            "object_fit": null,
            "grid_auto_columns": null,
            "margin": null,
            "display": null,
            "left": null
          }
        },
        "feb8520c400a416c9859606bf2628050": {
          "model_module": "@jupyter-widgets/controls",
          "model_name": "HBoxModel",
          "state": {
            "_view_name": "HBoxView",
            "_dom_classes": [],
            "_model_name": "HBoxModel",
            "_view_module": "@jupyter-widgets/controls",
            "_model_module_version": "1.5.0",
            "_view_count": null,
            "_view_module_version": "1.5.0",
            "box_style": "",
            "layout": "IPY_MODEL_e96d7d413e79413d8b03d22311b9f0cf",
            "_model_module": "@jupyter-widgets/controls",
            "children": [
              "IPY_MODEL_de4c0cad0d9c4c51bebbb4c3ef4a3f99",
              "IPY_MODEL_5ed703e1063d4ba1b972b114b334fed9"
            ]
          }
        },
        "e96d7d413e79413d8b03d22311b9f0cf": {
          "model_module": "@jupyter-widgets/base",
          "model_name": "LayoutModel",
          "state": {
            "_view_name": "LayoutView",
            "grid_template_rows": null,
            "right": null,
            "justify_content": null,
            "_view_module": "@jupyter-widgets/base",
            "overflow": null,
            "_model_module_version": "1.2.0",
            "_view_count": null,
            "flex_flow": null,
            "width": null,
            "min_width": null,
            "border": null,
            "align_items": null,
            "bottom": null,
            "_model_module": "@jupyter-widgets/base",
            "top": null,
            "grid_column": null,
            "overflow_y": null,
            "overflow_x": null,
            "grid_auto_flow": null,
            "grid_area": null,
            "grid_template_columns": null,
            "flex": null,
            "_model_name": "LayoutModel",
            "justify_items": null,
            "grid_row": null,
            "max_height": null,
            "align_content": null,
            "visibility": null,
            "align_self": null,
            "height": null,
            "min_height": null,
            "padding": null,
            "grid_auto_rows": null,
            "grid_gap": null,
            "max_width": null,
            "order": null,
            "_view_module_version": "1.2.0",
            "grid_template_areas": null,
            "object_position": null,
            "object_fit": null,
            "grid_auto_columns": null,
            "margin": null,
            "display": null,
            "left": null
          }
        },
        "de4c0cad0d9c4c51bebbb4c3ef4a3f99": {
          "model_module": "@jupyter-widgets/controls",
          "model_name": "FloatProgressModel",
          "state": {
            "_view_name": "ProgressView",
            "style": "IPY_MODEL_39652401092f498b88e8d2432f864999",
            "_dom_classes": [],
            "description": "Downloading: 100%",
            "_model_name": "FloatProgressModel",
            "bar_style": "success",
            "max": 791656,
            "_view_module": "@jupyter-widgets/controls",
            "_model_module_version": "1.5.0",
            "value": 791656,
            "_view_count": null,
            "_view_module_version": "1.5.0",
            "orientation": "horizontal",
            "min": 0,
            "description_tooltip": null,
            "_model_module": "@jupyter-widgets/controls",
            "layout": "IPY_MODEL_1c2a9a012f8546f0b22c177603d713a5"
          }
        },
        "5ed703e1063d4ba1b972b114b334fed9": {
          "model_module": "@jupyter-widgets/controls",
          "model_name": "HTMLModel",
          "state": {
            "_view_name": "HTMLView",
            "style": "IPY_MODEL_c3a84611b5ea4951abf9cd0c6e1e48cd",
            "_dom_classes": [],
            "description": "",
            "_model_name": "HTMLModel",
            "placeholder": "​",
            "_view_module": "@jupyter-widgets/controls",
            "_model_module_version": "1.5.0",
            "value": " 792k/792k [00:04&lt;00:00, 180kB/s]",
            "_view_count": null,
            "_view_module_version": "1.5.0",
            "description_tooltip": null,
            "_model_module": "@jupyter-widgets/controls",
            "layout": "IPY_MODEL_81c051280cc74932bf71de7e027a89c7"
          }
        },
        "39652401092f498b88e8d2432f864999": {
          "model_module": "@jupyter-widgets/controls",
          "model_name": "ProgressStyleModel",
          "state": {
            "_view_name": "StyleView",
            "_model_name": "ProgressStyleModel",
            "description_width": "initial",
            "_view_module": "@jupyter-widgets/base",
            "_model_module_version": "1.5.0",
            "_view_count": null,
            "_view_module_version": "1.2.0",
            "bar_color": null,
            "_model_module": "@jupyter-widgets/controls"
          }
        },
        "1c2a9a012f8546f0b22c177603d713a5": {
          "model_module": "@jupyter-widgets/base",
          "model_name": "LayoutModel",
          "state": {
            "_view_name": "LayoutView",
            "grid_template_rows": null,
            "right": null,
            "justify_content": null,
            "_view_module": "@jupyter-widgets/base",
            "overflow": null,
            "_model_module_version": "1.2.0",
            "_view_count": null,
            "flex_flow": null,
            "width": null,
            "min_width": null,
            "border": null,
            "align_items": null,
            "bottom": null,
            "_model_module": "@jupyter-widgets/base",
            "top": null,
            "grid_column": null,
            "overflow_y": null,
            "overflow_x": null,
            "grid_auto_flow": null,
            "grid_area": null,
            "grid_template_columns": null,
            "flex": null,
            "_model_name": "LayoutModel",
            "justify_items": null,
            "grid_row": null,
            "max_height": null,
            "align_content": null,
            "visibility": null,
            "align_self": null,
            "height": null,
            "min_height": null,
            "padding": null,
            "grid_auto_rows": null,
            "grid_gap": null,
            "max_width": null,
            "order": null,
            "_view_module_version": "1.2.0",
            "grid_template_areas": null,
            "object_position": null,
            "object_fit": null,
            "grid_auto_columns": null,
            "margin": null,
            "display": null,
            "left": null
          }
        },
        "c3a84611b5ea4951abf9cd0c6e1e48cd": {
          "model_module": "@jupyter-widgets/controls",
          "model_name": "DescriptionStyleModel",
          "state": {
            "_view_name": "StyleView",
            "_model_name": "DescriptionStyleModel",
            "description_width": "",
            "_view_module": "@jupyter-widgets/base",
            "_model_module_version": "1.5.0",
            "_view_count": null,
            "_view_module_version": "1.2.0",
            "_model_module": "@jupyter-widgets/controls"
          }
        },
        "81c051280cc74932bf71de7e027a89c7": {
          "model_module": "@jupyter-widgets/base",
          "model_name": "LayoutModel",
          "state": {
            "_view_name": "LayoutView",
            "grid_template_rows": null,
            "right": null,
            "justify_content": null,
            "_view_module": "@jupyter-widgets/base",
            "overflow": null,
            "_model_module_version": "1.2.0",
            "_view_count": null,
            "flex_flow": null,
            "width": null,
            "min_width": null,
            "border": null,
            "align_items": null,
            "bottom": null,
            "_model_module": "@jupyter-widgets/base",
            "top": null,
            "grid_column": null,
            "overflow_y": null,
            "overflow_x": null,
            "grid_auto_flow": null,
            "grid_area": null,
            "grid_template_columns": null,
            "flex": null,
            "_model_name": "LayoutModel",
            "justify_items": null,
            "grid_row": null,
            "max_height": null,
            "align_content": null,
            "visibility": null,
            "align_self": null,
            "height": null,
            "min_height": null,
            "padding": null,
            "grid_auto_rows": null,
            "grid_gap": null,
            "max_width": null,
            "order": null,
            "_view_module_version": "1.2.0",
            "grid_template_areas": null,
            "object_position": null,
            "object_fit": null,
            "grid_auto_columns": null,
            "margin": null,
            "display": null,
            "left": null
          }
        },
        "95eb9f8a1d604fdab50a389ef22d6870": {
          "model_module": "@jupyter-widgets/controls",
          "model_name": "HBoxModel",
          "state": {
            "_view_name": "HBoxView",
            "_dom_classes": [],
            "_model_name": "HBoxModel",
            "_view_module": "@jupyter-widgets/controls",
            "_model_module_version": "1.5.0",
            "_view_count": null,
            "_view_module_version": "1.5.0",
            "box_style": "",
            "layout": "IPY_MODEL_8e42c6e3352f4cd79f6f5b597ef12691",
            "_model_module": "@jupyter-widgets/controls",
            "children": [
              "IPY_MODEL_160644efd2074e9da83162056c992b9a",
              "IPY_MODEL_b76fe752dd934f14915865f472f6ed46"
            ]
          }
        },
        "8e42c6e3352f4cd79f6f5b597ef12691": {
          "model_module": "@jupyter-widgets/base",
          "model_name": "LayoutModel",
          "state": {
            "_view_name": "LayoutView",
            "grid_template_rows": null,
            "right": null,
            "justify_content": null,
            "_view_module": "@jupyter-widgets/base",
            "overflow": null,
            "_model_module_version": "1.2.0",
            "_view_count": null,
            "flex_flow": null,
            "width": null,
            "min_width": null,
            "border": null,
            "align_items": null,
            "bottom": null,
            "_model_module": "@jupyter-widgets/base",
            "top": null,
            "grid_column": null,
            "overflow_y": null,
            "overflow_x": null,
            "grid_auto_flow": null,
            "grid_area": null,
            "grid_template_columns": null,
            "flex": null,
            "_model_name": "LayoutModel",
            "justify_items": null,
            "grid_row": null,
            "max_height": null,
            "align_content": null,
            "visibility": null,
            "align_self": null,
            "height": null,
            "min_height": null,
            "padding": null,
            "grid_auto_rows": null,
            "grid_gap": null,
            "max_width": null,
            "order": null,
            "_view_module_version": "1.2.0",
            "grid_template_areas": null,
            "object_position": null,
            "object_fit": null,
            "grid_auto_columns": null,
            "margin": null,
            "display": null,
            "left": null
          }
        },
        "160644efd2074e9da83162056c992b9a": {
          "model_module": "@jupyter-widgets/controls",
          "model_name": "FloatProgressModel",
          "state": {
            "_view_name": "ProgressView",
            "style": "IPY_MODEL_fad49e7329e541c9baf916ce3604bca2",
            "_dom_classes": [],
            "description": "Downloading: 100%",
            "_model_name": "FloatProgressModel",
            "bar_style": "success",
            "max": 242065649,
            "_view_module": "@jupyter-widgets/controls",
            "_model_module_version": "1.5.0",
            "value": 242065649,
            "_view_count": null,
            "_view_module_version": "1.5.0",
            "orientation": "horizontal",
            "min": 0,
            "description_tooltip": null,
            "_model_module": "@jupyter-widgets/controls",
            "layout": "IPY_MODEL_60eb32ec2e3249e8b19f751bf80a8ca8"
          }
        },
        "b76fe752dd934f14915865f472f6ed46": {
          "model_module": "@jupyter-widgets/controls",
          "model_name": "HTMLModel",
          "state": {
            "_view_name": "HTMLView",
            "style": "IPY_MODEL_b34bd309c49c47d39469a814d76a2e99",
            "_dom_classes": [],
            "description": "",
            "_model_name": "HTMLModel",
            "placeholder": "​",
            "_view_module": "@jupyter-widgets/controls",
            "_model_module_version": "1.5.0",
            "value": " 242M/242M [00:03&lt;00:00, 67.3MB/s]",
            "_view_count": null,
            "_view_module_version": "1.5.0",
            "description_tooltip": null,
            "_model_module": "@jupyter-widgets/controls",
            "layout": "IPY_MODEL_8f29ea187b104caf9d133633b69e01d1"
          }
        },
        "fad49e7329e541c9baf916ce3604bca2": {
          "model_module": "@jupyter-widgets/controls",
          "model_name": "ProgressStyleModel",
          "state": {
            "_view_name": "StyleView",
            "_model_name": "ProgressStyleModel",
            "description_width": "initial",
            "_view_module": "@jupyter-widgets/base",
            "_model_module_version": "1.5.0",
            "_view_count": null,
            "_view_module_version": "1.2.0",
            "bar_color": null,
            "_model_module": "@jupyter-widgets/controls"
          }
        },
        "60eb32ec2e3249e8b19f751bf80a8ca8": {
          "model_module": "@jupyter-widgets/base",
          "model_name": "LayoutModel",
          "state": {
            "_view_name": "LayoutView",
            "grid_template_rows": null,
            "right": null,
            "justify_content": null,
            "_view_module": "@jupyter-widgets/base",
            "overflow": null,
            "_model_module_version": "1.2.0",
            "_view_count": null,
            "flex_flow": null,
            "width": null,
            "min_width": null,
            "border": null,
            "align_items": null,
            "bottom": null,
            "_model_module": "@jupyter-widgets/base",
            "top": null,
            "grid_column": null,
            "overflow_y": null,
            "overflow_x": null,
            "grid_auto_flow": null,
            "grid_area": null,
            "grid_template_columns": null,
            "flex": null,
            "_model_name": "LayoutModel",
            "justify_items": null,
            "grid_row": null,
            "max_height": null,
            "align_content": null,
            "visibility": null,
            "align_self": null,
            "height": null,
            "min_height": null,
            "padding": null,
            "grid_auto_rows": null,
            "grid_gap": null,
            "max_width": null,
            "order": null,
            "_view_module_version": "1.2.0",
            "grid_template_areas": null,
            "object_position": null,
            "object_fit": null,
            "grid_auto_columns": null,
            "margin": null,
            "display": null,
            "left": null
          }
        },
        "b34bd309c49c47d39469a814d76a2e99": {
          "model_module": "@jupyter-widgets/controls",
          "model_name": "DescriptionStyleModel",
          "state": {
            "_view_name": "StyleView",
            "_model_name": "DescriptionStyleModel",
            "description_width": "",
            "_view_module": "@jupyter-widgets/base",
            "_model_module_version": "1.5.0",
            "_view_count": null,
            "_view_module_version": "1.2.0",
            "_model_module": "@jupyter-widgets/controls"
          }
        },
        "8f29ea187b104caf9d133633b69e01d1": {
          "model_module": "@jupyter-widgets/base",
          "model_name": "LayoutModel",
          "state": {
            "_view_name": "LayoutView",
            "grid_template_rows": null,
            "right": null,
            "justify_content": null,
            "_view_module": "@jupyter-widgets/base",
            "overflow": null,
            "_model_module_version": "1.2.0",
            "_view_count": null,
            "flex_flow": null,
            "width": null,
            "min_width": null,
            "border": null,
            "align_items": null,
            "bottom": null,
            "_model_module": "@jupyter-widgets/base",
            "top": null,
            "grid_column": null,
            "overflow_y": null,
            "overflow_x": null,
            "grid_auto_flow": null,
            "grid_area": null,
            "grid_template_columns": null,
            "flex": null,
            "_model_name": "LayoutModel",
            "justify_items": null,
            "grid_row": null,
            "max_height": null,
            "align_content": null,
            "visibility": null,
            "align_self": null,
            "height": null,
            "min_height": null,
            "padding": null,
            "grid_auto_rows": null,
            "grid_gap": null,
            "max_width": null,
            "order": null,
            "_view_module_version": "1.2.0",
            "grid_template_areas": null,
            "object_position": null,
            "object_fit": null,
            "grid_auto_columns": null,
            "margin": null,
            "display": null,
            "left": null
          }
        },
        "992fc138e020429096b20b084da9319d": {
          "model_module": "@jupyter-widgets/controls",
          "model_name": "HBoxModel",
          "state": {
            "_view_name": "HBoxView",
            "_dom_classes": [],
            "_model_name": "HBoxModel",
            "_view_module": "@jupyter-widgets/controls",
            "_model_module_version": "1.5.0",
            "_view_count": null,
            "_view_module_version": "1.5.0",
            "box_style": "",
            "layout": "IPY_MODEL_7d395c1b32584e9dbdd646ce830a916b",
            "_model_module": "@jupyter-widgets/controls",
            "children": [
              "IPY_MODEL_e7b4f9a5efff4147a79241ee4f02a004",
              "IPY_MODEL_933f5ac50648406f9dbda7fc3e96339d"
            ]
          }
        },
        "7d395c1b32584e9dbdd646ce830a916b": {
          "model_module": "@jupyter-widgets/base",
          "model_name": "LayoutModel",
          "state": {
            "_view_name": "LayoutView",
            "grid_template_rows": null,
            "right": null,
            "justify_content": null,
            "_view_module": "@jupyter-widgets/base",
            "overflow": null,
            "_model_module_version": "1.2.0",
            "_view_count": null,
            "flex_flow": null,
            "width": null,
            "min_width": null,
            "border": null,
            "align_items": null,
            "bottom": null,
            "_model_module": "@jupyter-widgets/base",
            "top": null,
            "grid_column": null,
            "overflow_y": null,
            "overflow_x": null,
            "grid_auto_flow": null,
            "grid_area": null,
            "grid_template_columns": null,
            "flex": null,
            "_model_name": "LayoutModel",
            "justify_items": null,
            "grid_row": null,
            "max_height": null,
            "align_content": null,
            "visibility": null,
            "align_self": null,
            "height": null,
            "min_height": null,
            "padding": null,
            "grid_auto_rows": null,
            "grid_gap": null,
            "max_width": null,
            "order": null,
            "_view_module_version": "1.2.0",
            "grid_template_areas": null,
            "object_position": null,
            "object_fit": null,
            "grid_auto_columns": null,
            "margin": null,
            "display": null,
            "left": null
          }
        },
        "e7b4f9a5efff4147a79241ee4f02a004": {
          "model_module": "@jupyter-widgets/controls",
          "model_name": "FloatProgressModel",
          "state": {
            "_view_name": "ProgressView",
            "style": "IPY_MODEL_e099525eb49a425cbd68cceb9aeb06c2",
            "_dom_classes": [],
            "description": "",
            "_model_name": "FloatProgressModel",
            "bar_style": "success",
            "max": 1,
            "_view_module": "@jupyter-widgets/controls",
            "_model_module_version": "1.5.0",
            "value": 1,
            "_view_count": null,
            "_view_module_version": "1.5.0",
            "orientation": "horizontal",
            "min": 0,
            "description_tooltip": null,
            "_model_module": "@jupyter-widgets/controls",
            "layout": "IPY_MODEL_67757c058d0f4728bd1c1608362f87c7"
          }
        },
        "933f5ac50648406f9dbda7fc3e96339d": {
          "model_module": "@jupyter-widgets/controls",
          "model_name": "HTMLModel",
          "state": {
            "_view_name": "HTMLView",
            "style": "IPY_MODEL_903dbc1e86f44bc2900c6e2de21b460f",
            "_dom_classes": [],
            "description": "",
            "_model_name": "HTMLModel",
            "placeholder": "​",
            "_view_module": "@jupyter-widgets/controls",
            "_model_module_version": "1.5.0",
            "value": " 86/? [03:23&lt;00:00,  2.36s/it]",
            "_view_count": null,
            "_view_module_version": "1.5.0",
            "description_tooltip": null,
            "_model_module": "@jupyter-widgets/controls",
            "layout": "IPY_MODEL_2cafeeed045c4d8d8b8a9bacb027b01b"
          }
        },
        "e099525eb49a425cbd68cceb9aeb06c2": {
          "model_module": "@jupyter-widgets/controls",
          "model_name": "ProgressStyleModel",
          "state": {
            "_view_name": "StyleView",
            "_model_name": "ProgressStyleModel",
            "description_width": "initial",
            "_view_module": "@jupyter-widgets/base",
            "_model_module_version": "1.5.0",
            "_view_count": null,
            "_view_module_version": "1.2.0",
            "bar_color": null,
            "_model_module": "@jupyter-widgets/controls"
          }
        },
        "67757c058d0f4728bd1c1608362f87c7": {
          "model_module": "@jupyter-widgets/base",
          "model_name": "LayoutModel",
          "state": {
            "_view_name": "LayoutView",
            "grid_template_rows": null,
            "right": null,
            "justify_content": null,
            "_view_module": "@jupyter-widgets/base",
            "overflow": null,
            "_model_module_version": "1.2.0",
            "_view_count": null,
            "flex_flow": null,
            "width": null,
            "min_width": null,
            "border": null,
            "align_items": null,
            "bottom": null,
            "_model_module": "@jupyter-widgets/base",
            "top": null,
            "grid_column": null,
            "overflow_y": null,
            "overflow_x": null,
            "grid_auto_flow": null,
            "grid_area": null,
            "grid_template_columns": null,
            "flex": null,
            "_model_name": "LayoutModel",
            "justify_items": null,
            "grid_row": null,
            "max_height": null,
            "align_content": null,
            "visibility": null,
            "align_self": null,
            "height": null,
            "min_height": null,
            "padding": null,
            "grid_auto_rows": null,
            "grid_gap": null,
            "max_width": null,
            "order": null,
            "_view_module_version": "1.2.0",
            "grid_template_areas": null,
            "object_position": null,
            "object_fit": null,
            "grid_auto_columns": null,
            "margin": null,
            "display": null,
            "left": null
          }
        },
        "903dbc1e86f44bc2900c6e2de21b460f": {
          "model_module": "@jupyter-widgets/controls",
          "model_name": "DescriptionStyleModel",
          "state": {
            "_view_name": "StyleView",
            "_model_name": "DescriptionStyleModel",
            "description_width": "",
            "_view_module": "@jupyter-widgets/base",
            "_model_module_version": "1.5.0",
            "_view_count": null,
            "_view_module_version": "1.2.0",
            "_model_module": "@jupyter-widgets/controls"
          }
        },
        "2cafeeed045c4d8d8b8a9bacb027b01b": {
          "model_module": "@jupyter-widgets/base",
          "model_name": "LayoutModel",
          "state": {
            "_view_name": "LayoutView",
            "grid_template_rows": null,
            "right": null,
            "justify_content": null,
            "_view_module": "@jupyter-widgets/base",
            "overflow": null,
            "_model_module_version": "1.2.0",
            "_view_count": null,
            "flex_flow": null,
            "width": null,
            "min_width": null,
            "border": null,
            "align_items": null,
            "bottom": null,
            "_model_module": "@jupyter-widgets/base",
            "top": null,
            "grid_column": null,
            "overflow_y": null,
            "overflow_x": null,
            "grid_auto_flow": null,
            "grid_area": null,
            "grid_template_columns": null,
            "flex": null,
            "_model_name": "LayoutModel",
            "justify_items": null,
            "grid_row": null,
            "max_height": null,
            "align_content": null,
            "visibility": null,
            "align_self": null,
            "height": null,
            "min_height": null,
            "padding": null,
            "grid_auto_rows": null,
            "grid_gap": null,
            "max_width": null,
            "order": null,
            "_view_module_version": "1.2.0",
            "grid_template_areas": null,
            "object_position": null,
            "object_fit": null,
            "grid_auto_columns": null,
            "margin": null,
            "display": null,
            "left": null
          }
        },
        "c563bbe12ef44c71bdb46f5a9a4c13e9": {
          "model_module": "@jupyter-widgets/controls",
          "model_name": "HBoxModel",
          "state": {
            "_view_name": "HBoxView",
            "_dom_classes": [],
            "_model_name": "HBoxModel",
            "_view_module": "@jupyter-widgets/controls",
            "_model_module_version": "1.5.0",
            "_view_count": null,
            "_view_module_version": "1.5.0",
            "box_style": "",
            "layout": "IPY_MODEL_bc07dd10a59d4dbf8c05400abc1c9df5",
            "_model_module": "@jupyter-widgets/controls",
            "children": [
              "IPY_MODEL_13ae75f09bc74af685e0fc945a8cb844",
              "IPY_MODEL_57694961ee4c4dd094b74ae2130b2b81"
            ]
          }
        },
        "bc07dd10a59d4dbf8c05400abc1c9df5": {
          "model_module": "@jupyter-widgets/base",
          "model_name": "LayoutModel",
          "state": {
            "_view_name": "LayoutView",
            "grid_template_rows": null,
            "right": null,
            "justify_content": null,
            "_view_module": "@jupyter-widgets/base",
            "overflow": null,
            "_model_module_version": "1.2.0",
            "_view_count": null,
            "flex_flow": null,
            "width": null,
            "min_width": null,
            "border": null,
            "align_items": null,
            "bottom": null,
            "_model_module": "@jupyter-widgets/base",
            "top": null,
            "grid_column": null,
            "overflow_y": null,
            "overflow_x": null,
            "grid_auto_flow": null,
            "grid_area": null,
            "grid_template_columns": null,
            "flex": null,
            "_model_name": "LayoutModel",
            "justify_items": null,
            "grid_row": null,
            "max_height": null,
            "align_content": null,
            "visibility": null,
            "align_self": null,
            "height": null,
            "min_height": null,
            "padding": null,
            "grid_auto_rows": null,
            "grid_gap": null,
            "max_width": null,
            "order": null,
            "_view_module_version": "1.2.0",
            "grid_template_areas": null,
            "object_position": null,
            "object_fit": null,
            "grid_auto_columns": null,
            "margin": null,
            "display": null,
            "left": null
          }
        },
        "13ae75f09bc74af685e0fc945a8cb844": {
          "model_module": "@jupyter-widgets/controls",
          "model_name": "FloatProgressModel",
          "state": {
            "_view_name": "ProgressView",
            "style": "IPY_MODEL_79ad9c37ac9446aa87a4bda35d74cc2b",
            "_dom_classes": [],
            "description": "",
            "_model_name": "FloatProgressModel",
            "bar_style": "success",
            "max": 1,
            "_view_module": "@jupyter-widgets/controls",
            "_model_module_version": "1.5.0",
            "value": 1,
            "_view_count": null,
            "_view_module_version": "1.5.0",
            "orientation": "horizontal",
            "min": 0,
            "description_tooltip": null,
            "_model_module": "@jupyter-widgets/controls",
            "layout": "IPY_MODEL_1dfaed554ab84f98b36316e7056addbc"
          }
        },
        "57694961ee4c4dd094b74ae2130b2b81": {
          "model_module": "@jupyter-widgets/controls",
          "model_name": "HTMLModel",
          "state": {
            "_view_name": "HTMLView",
            "style": "IPY_MODEL_41bec68194c54b95ac6fe545cd288183",
            "_dom_classes": [],
            "description": "",
            "_model_name": "HTMLModel",
            "placeholder": "​",
            "_view_module": "@jupyter-widgets/controls",
            "_model_module_version": "1.5.0",
            "value": " 86/? [02:56&lt;00:00,  2.05s/it]",
            "_view_count": null,
            "_view_module_version": "1.5.0",
            "description_tooltip": null,
            "_model_module": "@jupyter-widgets/controls",
            "layout": "IPY_MODEL_9338dabf01d84f179d72544128078318"
          }
        },
        "79ad9c37ac9446aa87a4bda35d74cc2b": {
          "model_module": "@jupyter-widgets/controls",
          "model_name": "ProgressStyleModel",
          "state": {
            "_view_name": "StyleView",
            "_model_name": "ProgressStyleModel",
            "description_width": "initial",
            "_view_module": "@jupyter-widgets/base",
            "_model_module_version": "1.5.0",
            "_view_count": null,
            "_view_module_version": "1.2.0",
            "bar_color": null,
            "_model_module": "@jupyter-widgets/controls"
          }
        },
        "1dfaed554ab84f98b36316e7056addbc": {
          "model_module": "@jupyter-widgets/base",
          "model_name": "LayoutModel",
          "state": {
            "_view_name": "LayoutView",
            "grid_template_rows": null,
            "right": null,
            "justify_content": null,
            "_view_module": "@jupyter-widgets/base",
            "overflow": null,
            "_model_module_version": "1.2.0",
            "_view_count": null,
            "flex_flow": null,
            "width": null,
            "min_width": null,
            "border": null,
            "align_items": null,
            "bottom": null,
            "_model_module": "@jupyter-widgets/base",
            "top": null,
            "grid_column": null,
            "overflow_y": null,
            "overflow_x": null,
            "grid_auto_flow": null,
            "grid_area": null,
            "grid_template_columns": null,
            "flex": null,
            "_model_name": "LayoutModel",
            "justify_items": null,
            "grid_row": null,
            "max_height": null,
            "align_content": null,
            "visibility": null,
            "align_self": null,
            "height": null,
            "min_height": null,
            "padding": null,
            "grid_auto_rows": null,
            "grid_gap": null,
            "max_width": null,
            "order": null,
            "_view_module_version": "1.2.0",
            "grid_template_areas": null,
            "object_position": null,
            "object_fit": null,
            "grid_auto_columns": null,
            "margin": null,
            "display": null,
            "left": null
          }
        },
        "41bec68194c54b95ac6fe545cd288183": {
          "model_module": "@jupyter-widgets/controls",
          "model_name": "DescriptionStyleModel",
          "state": {
            "_view_name": "StyleView",
            "_model_name": "DescriptionStyleModel",
            "description_width": "",
            "_view_module": "@jupyter-widgets/base",
            "_model_module_version": "1.5.0",
            "_view_count": null,
            "_view_module_version": "1.2.0",
            "_model_module": "@jupyter-widgets/controls"
          }
        },
        "9338dabf01d84f179d72544128078318": {
          "model_module": "@jupyter-widgets/base",
          "model_name": "LayoutModel",
          "state": {
            "_view_name": "LayoutView",
            "grid_template_rows": null,
            "right": null,
            "justify_content": null,
            "_view_module": "@jupyter-widgets/base",
            "overflow": null,
            "_model_module_version": "1.2.0",
            "_view_count": null,
            "flex_flow": null,
            "width": null,
            "min_width": null,
            "border": null,
            "align_items": null,
            "bottom": null,
            "_model_module": "@jupyter-widgets/base",
            "top": null,
            "grid_column": null,
            "overflow_y": null,
            "overflow_x": null,
            "grid_auto_flow": null,
            "grid_area": null,
            "grid_template_columns": null,
            "flex": null,
            "_model_name": "LayoutModel",
            "justify_items": null,
            "grid_row": null,
            "max_height": null,
            "align_content": null,
            "visibility": null,
            "align_self": null,
            "height": null,
            "min_height": null,
            "padding": null,
            "grid_auto_rows": null,
            "grid_gap": null,
            "max_width": null,
            "order": null,
            "_view_module_version": "1.2.0",
            "grid_template_areas": null,
            "object_position": null,
            "object_fit": null,
            "grid_auto_columns": null,
            "margin": null,
            "display": null,
            "left": null
          }
        },
        "847d5d7d1da64df9b808823304bf0dc4": {
          "model_module": "@jupyter-widgets/controls",
          "model_name": "HBoxModel",
          "state": {
            "_view_name": "HBoxView",
            "_dom_classes": [],
            "_model_name": "HBoxModel",
            "_view_module": "@jupyter-widgets/controls",
            "_model_module_version": "1.5.0",
            "_view_count": null,
            "_view_module_version": "1.5.0",
            "box_style": "",
            "layout": "IPY_MODEL_8d966780566b425e97da684b65f7cd7b",
            "_model_module": "@jupyter-widgets/controls",
            "children": [
              "IPY_MODEL_1095e12901414e1c8f52df6fee794318",
              "IPY_MODEL_c0d7bb9bbb0d45a98883b1de4b54cd10"
            ]
          }
        },
        "8d966780566b425e97da684b65f7cd7b": {
          "model_module": "@jupyter-widgets/base",
          "model_name": "LayoutModel",
          "state": {
            "_view_name": "LayoutView",
            "grid_template_rows": null,
            "right": null,
            "justify_content": null,
            "_view_module": "@jupyter-widgets/base",
            "overflow": null,
            "_model_module_version": "1.2.0",
            "_view_count": null,
            "flex_flow": null,
            "width": null,
            "min_width": null,
            "border": null,
            "align_items": null,
            "bottom": null,
            "_model_module": "@jupyter-widgets/base",
            "top": null,
            "grid_column": null,
            "overflow_y": null,
            "overflow_x": null,
            "grid_auto_flow": null,
            "grid_area": null,
            "grid_template_columns": null,
            "flex": null,
            "_model_name": "LayoutModel",
            "justify_items": null,
            "grid_row": null,
            "max_height": null,
            "align_content": null,
            "visibility": null,
            "align_self": null,
            "height": null,
            "min_height": null,
            "padding": null,
            "grid_auto_rows": null,
            "grid_gap": null,
            "max_width": null,
            "order": null,
            "_view_module_version": "1.2.0",
            "grid_template_areas": null,
            "object_position": null,
            "object_fit": null,
            "grid_auto_columns": null,
            "margin": null,
            "display": null,
            "left": null
          }
        },
        "1095e12901414e1c8f52df6fee794318": {
          "model_module": "@jupyter-widgets/controls",
          "model_name": "FloatProgressModel",
          "state": {
            "_view_name": "ProgressView",
            "style": "IPY_MODEL_b0689f3797ff4e68bedc72c88f053f55",
            "_dom_classes": [],
            "description": "",
            "_model_name": "FloatProgressModel",
            "bar_style": "success",
            "max": 1,
            "_view_module": "@jupyter-widgets/controls",
            "_model_module_version": "1.5.0",
            "value": 1,
            "_view_count": null,
            "_view_module_version": "1.5.0",
            "orientation": "horizontal",
            "min": 0,
            "description_tooltip": null,
            "_model_module": "@jupyter-widgets/controls",
            "layout": "IPY_MODEL_1920fc8e45eb4407bbbfbbc6221610ca"
          }
        },
        "c0d7bb9bbb0d45a98883b1de4b54cd10": {
          "model_module": "@jupyter-widgets/controls",
          "model_name": "HTMLModel",
          "state": {
            "_view_name": "HTMLView",
            "style": "IPY_MODEL_595586757afb4d00abf4126bd86c0c98",
            "_dom_classes": [],
            "description": "",
            "_model_name": "HTMLModel",
            "placeholder": "​",
            "_view_module": "@jupyter-widgets/controls",
            "_model_module_version": "1.5.0",
            "value": " 86/? [00:58&lt;00:00,  1.48it/s]",
            "_view_count": null,
            "_view_module_version": "1.5.0",
            "description_tooltip": null,
            "_model_module": "@jupyter-widgets/controls",
            "layout": "IPY_MODEL_546c8c6b102344849ae959c6c71b89a1"
          }
        },
        "b0689f3797ff4e68bedc72c88f053f55": {
          "model_module": "@jupyter-widgets/controls",
          "model_name": "ProgressStyleModel",
          "state": {
            "_view_name": "StyleView",
            "_model_name": "ProgressStyleModel",
            "description_width": "initial",
            "_view_module": "@jupyter-widgets/base",
            "_model_module_version": "1.5.0",
            "_view_count": null,
            "_view_module_version": "1.2.0",
            "bar_color": null,
            "_model_module": "@jupyter-widgets/controls"
          }
        },
        "1920fc8e45eb4407bbbfbbc6221610ca": {
          "model_module": "@jupyter-widgets/base",
          "model_name": "LayoutModel",
          "state": {
            "_view_name": "LayoutView",
            "grid_template_rows": null,
            "right": null,
            "justify_content": null,
            "_view_module": "@jupyter-widgets/base",
            "overflow": null,
            "_model_module_version": "1.2.0",
            "_view_count": null,
            "flex_flow": null,
            "width": null,
            "min_width": null,
            "border": null,
            "align_items": null,
            "bottom": null,
            "_model_module": "@jupyter-widgets/base",
            "top": null,
            "grid_column": null,
            "overflow_y": null,
            "overflow_x": null,
            "grid_auto_flow": null,
            "grid_area": null,
            "grid_template_columns": null,
            "flex": null,
            "_model_name": "LayoutModel",
            "justify_items": null,
            "grid_row": null,
            "max_height": null,
            "align_content": null,
            "visibility": null,
            "align_self": null,
            "height": null,
            "min_height": null,
            "padding": null,
            "grid_auto_rows": null,
            "grid_gap": null,
            "max_width": null,
            "order": null,
            "_view_module_version": "1.2.0",
            "grid_template_areas": null,
            "object_position": null,
            "object_fit": null,
            "grid_auto_columns": null,
            "margin": null,
            "display": null,
            "left": null
          }
        },
        "595586757afb4d00abf4126bd86c0c98": {
          "model_module": "@jupyter-widgets/controls",
          "model_name": "DescriptionStyleModel",
          "state": {
            "_view_name": "StyleView",
            "_model_name": "DescriptionStyleModel",
            "description_width": "",
            "_view_module": "@jupyter-widgets/base",
            "_model_module_version": "1.5.0",
            "_view_count": null,
            "_view_module_version": "1.2.0",
            "_model_module": "@jupyter-widgets/controls"
          }
        },
        "546c8c6b102344849ae959c6c71b89a1": {
          "model_module": "@jupyter-widgets/base",
          "model_name": "LayoutModel",
          "state": {
            "_view_name": "LayoutView",
            "grid_template_rows": null,
            "right": null,
            "justify_content": null,
            "_view_module": "@jupyter-widgets/base",
            "overflow": null,
            "_model_module_version": "1.2.0",
            "_view_count": null,
            "flex_flow": null,
            "width": null,
            "min_width": null,
            "border": null,
            "align_items": null,
            "bottom": null,
            "_model_module": "@jupyter-widgets/base",
            "top": null,
            "grid_column": null,
            "overflow_y": null,
            "overflow_x": null,
            "grid_auto_flow": null,
            "grid_area": null,
            "grid_template_columns": null,
            "flex": null,
            "_model_name": "LayoutModel",
            "justify_items": null,
            "grid_row": null,
            "max_height": null,
            "align_content": null,
            "visibility": null,
            "align_self": null,
            "height": null,
            "min_height": null,
            "padding": null,
            "grid_auto_rows": null,
            "grid_gap": null,
            "max_width": null,
            "order": null,
            "_view_module_version": "1.2.0",
            "grid_template_areas": null,
            "object_position": null,
            "object_fit": null,
            "grid_auto_columns": null,
            "margin": null,
            "display": null,
            "left": null
          }
        },
        "cd73e85212824e19a0a930e0a96ef3a4": {
          "model_module": "@jupyter-widgets/controls",
          "model_name": "HBoxModel",
          "state": {
            "_view_name": "HBoxView",
            "_dom_classes": [],
            "_model_name": "HBoxModel",
            "_view_module": "@jupyter-widgets/controls",
            "_model_module_version": "1.5.0",
            "_view_count": null,
            "_view_module_version": "1.5.0",
            "box_style": "",
            "layout": "IPY_MODEL_dfdec4c5563a4c638fda9a2b2ee92a85",
            "_model_module": "@jupyter-widgets/controls",
            "children": [
              "IPY_MODEL_eeb6db0fa32140b9b297e28c82ec004d",
              "IPY_MODEL_38d7eb8620fc46288f2d7695b1bb67b4"
            ]
          }
        },
        "dfdec4c5563a4c638fda9a2b2ee92a85": {
          "model_module": "@jupyter-widgets/base",
          "model_name": "LayoutModel",
          "state": {
            "_view_name": "LayoutView",
            "grid_template_rows": null,
            "right": null,
            "justify_content": null,
            "_view_module": "@jupyter-widgets/base",
            "overflow": null,
            "_model_module_version": "1.2.0",
            "_view_count": null,
            "flex_flow": null,
            "width": null,
            "min_width": null,
            "border": null,
            "align_items": null,
            "bottom": null,
            "_model_module": "@jupyter-widgets/base",
            "top": null,
            "grid_column": null,
            "overflow_y": null,
            "overflow_x": null,
            "grid_auto_flow": null,
            "grid_area": null,
            "grid_template_columns": null,
            "flex": null,
            "_model_name": "LayoutModel",
            "justify_items": null,
            "grid_row": null,
            "max_height": null,
            "align_content": null,
            "visibility": null,
            "align_self": null,
            "height": null,
            "min_height": null,
            "padding": null,
            "grid_auto_rows": null,
            "grid_gap": null,
            "max_width": null,
            "order": null,
            "_view_module_version": "1.2.0",
            "grid_template_areas": null,
            "object_position": null,
            "object_fit": null,
            "grid_auto_columns": null,
            "margin": null,
            "display": null,
            "left": null
          }
        },
        "eeb6db0fa32140b9b297e28c82ec004d": {
          "model_module": "@jupyter-widgets/controls",
          "model_name": "FloatProgressModel",
          "state": {
            "_view_name": "ProgressView",
            "style": "IPY_MODEL_ffc3b3a9179e4ab58d5fd188b7aa06ac",
            "_dom_classes": [],
            "description": "",
            "_model_name": "FloatProgressModel",
            "bar_style": "success",
            "max": 1,
            "_view_module": "@jupyter-widgets/controls",
            "_model_module_version": "1.5.0",
            "value": 1,
            "_view_count": null,
            "_view_module_version": "1.5.0",
            "orientation": "horizontal",
            "min": 0,
            "description_tooltip": null,
            "_model_module": "@jupyter-widgets/controls",
            "layout": "IPY_MODEL_8ccd0525298943deb33b4ca8216edb73"
          }
        },
        "38d7eb8620fc46288f2d7695b1bb67b4": {
          "model_module": "@jupyter-widgets/controls",
          "model_name": "HTMLModel",
          "state": {
            "_view_name": "HTMLView",
            "style": "IPY_MODEL_10e1d2f760ce467fa43293ff6a67af87",
            "_dom_classes": [],
            "description": "",
            "_model_name": "HTMLModel",
            "placeholder": "​",
            "_view_module": "@jupyter-widgets/controls",
            "_model_module_version": "1.5.0",
            "value": " 86/? [00:30&lt;00:00,  2.84it/s]",
            "_view_count": null,
            "_view_module_version": "1.5.0",
            "description_tooltip": null,
            "_model_module": "@jupyter-widgets/controls",
            "layout": "IPY_MODEL_0b28e0214506415ea42eab7532dd3ca4"
          }
        },
        "ffc3b3a9179e4ab58d5fd188b7aa06ac": {
          "model_module": "@jupyter-widgets/controls",
          "model_name": "ProgressStyleModel",
          "state": {
            "_view_name": "StyleView",
            "_model_name": "ProgressStyleModel",
            "description_width": "initial",
            "_view_module": "@jupyter-widgets/base",
            "_model_module_version": "1.5.0",
            "_view_count": null,
            "_view_module_version": "1.2.0",
            "bar_color": null,
            "_model_module": "@jupyter-widgets/controls"
          }
        },
        "8ccd0525298943deb33b4ca8216edb73": {
          "model_module": "@jupyter-widgets/base",
          "model_name": "LayoutModel",
          "state": {
            "_view_name": "LayoutView",
            "grid_template_rows": null,
            "right": null,
            "justify_content": null,
            "_view_module": "@jupyter-widgets/base",
            "overflow": null,
            "_model_module_version": "1.2.0",
            "_view_count": null,
            "flex_flow": null,
            "width": null,
            "min_width": null,
            "border": null,
            "align_items": null,
            "bottom": null,
            "_model_module": "@jupyter-widgets/base",
            "top": null,
            "grid_column": null,
            "overflow_y": null,
            "overflow_x": null,
            "grid_auto_flow": null,
            "grid_area": null,
            "grid_template_columns": null,
            "flex": null,
            "_model_name": "LayoutModel",
            "justify_items": null,
            "grid_row": null,
            "max_height": null,
            "align_content": null,
            "visibility": null,
            "align_self": null,
            "height": null,
            "min_height": null,
            "padding": null,
            "grid_auto_rows": null,
            "grid_gap": null,
            "max_width": null,
            "order": null,
            "_view_module_version": "1.2.0",
            "grid_template_areas": null,
            "object_position": null,
            "object_fit": null,
            "grid_auto_columns": null,
            "margin": null,
            "display": null,
            "left": null
          }
        },
        "10e1d2f760ce467fa43293ff6a67af87": {
          "model_module": "@jupyter-widgets/controls",
          "model_name": "DescriptionStyleModel",
          "state": {
            "_view_name": "StyleView",
            "_model_name": "DescriptionStyleModel",
            "description_width": "",
            "_view_module": "@jupyter-widgets/base",
            "_model_module_version": "1.5.0",
            "_view_count": null,
            "_view_module_version": "1.2.0",
            "_model_module": "@jupyter-widgets/controls"
          }
        },
        "0b28e0214506415ea42eab7532dd3ca4": {
          "model_module": "@jupyter-widgets/base",
          "model_name": "LayoutModel",
          "state": {
            "_view_name": "LayoutView",
            "grid_template_rows": null,
            "right": null,
            "justify_content": null,
            "_view_module": "@jupyter-widgets/base",
            "overflow": null,
            "_model_module_version": "1.2.0",
            "_view_count": null,
            "flex_flow": null,
            "width": null,
            "min_width": null,
            "border": null,
            "align_items": null,
            "bottom": null,
            "_model_module": "@jupyter-widgets/base",
            "top": null,
            "grid_column": null,
            "overflow_y": null,
            "overflow_x": null,
            "grid_auto_flow": null,
            "grid_area": null,
            "grid_template_columns": null,
            "flex": null,
            "_model_name": "LayoutModel",
            "justify_items": null,
            "grid_row": null,
            "max_height": null,
            "align_content": null,
            "visibility": null,
            "align_self": null,
            "height": null,
            "min_height": null,
            "padding": null,
            "grid_auto_rows": null,
            "grid_gap": null,
            "max_width": null,
            "order": null,
            "_view_module_version": "1.2.0",
            "grid_template_areas": null,
            "object_position": null,
            "object_fit": null,
            "grid_auto_columns": null,
            "margin": null,
            "display": null,
            "left": null
          }
        },
        "3d40e86a22544c89976976a7cc67a88b": {
          "model_module": "@jupyter-widgets/controls",
          "model_name": "HBoxModel",
          "state": {
            "_view_name": "HBoxView",
            "_dom_classes": [],
            "_model_name": "HBoxModel",
            "_view_module": "@jupyter-widgets/controls",
            "_model_module_version": "1.5.0",
            "_view_count": null,
            "_view_module_version": "1.5.0",
            "box_style": "",
            "layout": "IPY_MODEL_b14df64e462e41fdb3e5207e34d5140b",
            "_model_module": "@jupyter-widgets/controls",
            "children": [
              "IPY_MODEL_d069427a44624f7b89fda18ad14b5ece",
              "IPY_MODEL_7133ee796601401d8c644ccc502a321e"
            ]
          }
        },
        "b14df64e462e41fdb3e5207e34d5140b": {
          "model_module": "@jupyter-widgets/base",
          "model_name": "LayoutModel",
          "state": {
            "_view_name": "LayoutView",
            "grid_template_rows": null,
            "right": null,
            "justify_content": null,
            "_view_module": "@jupyter-widgets/base",
            "overflow": null,
            "_model_module_version": "1.2.0",
            "_view_count": null,
            "flex_flow": null,
            "width": null,
            "min_width": null,
            "border": null,
            "align_items": null,
            "bottom": null,
            "_model_module": "@jupyter-widgets/base",
            "top": null,
            "grid_column": null,
            "overflow_y": null,
            "overflow_x": null,
            "grid_auto_flow": null,
            "grid_area": null,
            "grid_template_columns": null,
            "flex": null,
            "_model_name": "LayoutModel",
            "justify_items": null,
            "grid_row": null,
            "max_height": null,
            "align_content": null,
            "visibility": null,
            "align_self": null,
            "height": null,
            "min_height": null,
            "padding": null,
            "grid_auto_rows": null,
            "grid_gap": null,
            "max_width": null,
            "order": null,
            "_view_module_version": "1.2.0",
            "grid_template_areas": null,
            "object_position": null,
            "object_fit": null,
            "grid_auto_columns": null,
            "margin": null,
            "display": null,
            "left": null
          }
        },
        "d069427a44624f7b89fda18ad14b5ece": {
          "model_module": "@jupyter-widgets/controls",
          "model_name": "FloatProgressModel",
          "state": {
            "_view_name": "ProgressView",
            "style": "IPY_MODEL_841004db609d4b6caf3d5eb4a4c71156",
            "_dom_classes": [],
            "description": "",
            "_model_name": "FloatProgressModel",
            "bar_style": "success",
            "max": 1,
            "_view_module": "@jupyter-widgets/controls",
            "_model_module_version": "1.5.0",
            "value": 1,
            "_view_count": null,
            "_view_module_version": "1.5.0",
            "orientation": "horizontal",
            "min": 0,
            "description_tooltip": null,
            "_model_module": "@jupyter-widgets/controls",
            "layout": "IPY_MODEL_67d183db141d409694c1e79fb0110431"
          }
        },
        "7133ee796601401d8c644ccc502a321e": {
          "model_module": "@jupyter-widgets/controls",
          "model_name": "HTMLModel",
          "state": {
            "_view_name": "HTMLView",
            "style": "IPY_MODEL_67363a26ea4b4017bf384b0c2bc56853",
            "_dom_classes": [],
            "description": "",
            "_model_name": "HTMLModel",
            "placeholder": "​",
            "_view_module": "@jupyter-widgets/controls",
            "_model_module_version": "1.5.0",
            "value": " 86/? [01:32&lt;00:00,  1.08s/it]",
            "_view_count": null,
            "_view_module_version": "1.5.0",
            "description_tooltip": null,
            "_model_module": "@jupyter-widgets/controls",
            "layout": "IPY_MODEL_753a410c05fd47248667f9352cb50c8e"
          }
        },
        "841004db609d4b6caf3d5eb4a4c71156": {
          "model_module": "@jupyter-widgets/controls",
          "model_name": "ProgressStyleModel",
          "state": {
            "_view_name": "StyleView",
            "_model_name": "ProgressStyleModel",
            "description_width": "initial",
            "_view_module": "@jupyter-widgets/base",
            "_model_module_version": "1.5.0",
            "_view_count": null,
            "_view_module_version": "1.2.0",
            "bar_color": null,
            "_model_module": "@jupyter-widgets/controls"
          }
        },
        "67d183db141d409694c1e79fb0110431": {
          "model_module": "@jupyter-widgets/base",
          "model_name": "LayoutModel",
          "state": {
            "_view_name": "LayoutView",
            "grid_template_rows": null,
            "right": null,
            "justify_content": null,
            "_view_module": "@jupyter-widgets/base",
            "overflow": null,
            "_model_module_version": "1.2.0",
            "_view_count": null,
            "flex_flow": null,
            "width": null,
            "min_width": null,
            "border": null,
            "align_items": null,
            "bottom": null,
            "_model_module": "@jupyter-widgets/base",
            "top": null,
            "grid_column": null,
            "overflow_y": null,
            "overflow_x": null,
            "grid_auto_flow": null,
            "grid_area": null,
            "grid_template_columns": null,
            "flex": null,
            "_model_name": "LayoutModel",
            "justify_items": null,
            "grid_row": null,
            "max_height": null,
            "align_content": null,
            "visibility": null,
            "align_self": null,
            "height": null,
            "min_height": null,
            "padding": null,
            "grid_auto_rows": null,
            "grid_gap": null,
            "max_width": null,
            "order": null,
            "_view_module_version": "1.2.0",
            "grid_template_areas": null,
            "object_position": null,
            "object_fit": null,
            "grid_auto_columns": null,
            "margin": null,
            "display": null,
            "left": null
          }
        },
        "67363a26ea4b4017bf384b0c2bc56853": {
          "model_module": "@jupyter-widgets/controls",
          "model_name": "DescriptionStyleModel",
          "state": {
            "_view_name": "StyleView",
            "_model_name": "DescriptionStyleModel",
            "description_width": "",
            "_view_module": "@jupyter-widgets/base",
            "_model_module_version": "1.5.0",
            "_view_count": null,
            "_view_module_version": "1.2.0",
            "_model_module": "@jupyter-widgets/controls"
          }
        },
        "753a410c05fd47248667f9352cb50c8e": {
          "model_module": "@jupyter-widgets/base",
          "model_name": "LayoutModel",
          "state": {
            "_view_name": "LayoutView",
            "grid_template_rows": null,
            "right": null,
            "justify_content": null,
            "_view_module": "@jupyter-widgets/base",
            "overflow": null,
            "_model_module_version": "1.2.0",
            "_view_count": null,
            "flex_flow": null,
            "width": null,
            "min_width": null,
            "border": null,
            "align_items": null,
            "bottom": null,
            "_model_module": "@jupyter-widgets/base",
            "top": null,
            "grid_column": null,
            "overflow_y": null,
            "overflow_x": null,
            "grid_auto_flow": null,
            "grid_area": null,
            "grid_template_columns": null,
            "flex": null,
            "_model_name": "LayoutModel",
            "justify_items": null,
            "grid_row": null,
            "max_height": null,
            "align_content": null,
            "visibility": null,
            "align_self": null,
            "height": null,
            "min_height": null,
            "padding": null,
            "grid_auto_rows": null,
            "grid_gap": null,
            "max_width": null,
            "order": null,
            "_view_module_version": "1.2.0",
            "grid_template_areas": null,
            "object_position": null,
            "object_fit": null,
            "grid_auto_columns": null,
            "margin": null,
            "display": null,
            "left": null
          }
        },
        "09bda7e1a83840fba94329088da083fc": {
          "model_module": "@jupyter-widgets/controls",
          "model_name": "HBoxModel",
          "state": {
            "_view_name": "HBoxView",
            "_dom_classes": [],
            "_model_name": "HBoxModel",
            "_view_module": "@jupyter-widgets/controls",
            "_model_module_version": "1.5.0",
            "_view_count": null,
            "_view_module_version": "1.5.0",
            "box_style": "",
            "layout": "IPY_MODEL_a1d159a5ec024e4894df8db4a70532e6",
            "_model_module": "@jupyter-widgets/controls",
            "children": [
              "IPY_MODEL_acb05e26058342a980f902b15e82e2f2",
              "IPY_MODEL_74d75e2e1c534ddd9d0d5e6d648b6e36"
            ]
          }
        },
        "a1d159a5ec024e4894df8db4a70532e6": {
          "model_module": "@jupyter-widgets/base",
          "model_name": "LayoutModel",
          "state": {
            "_view_name": "LayoutView",
            "grid_template_rows": null,
            "right": null,
            "justify_content": null,
            "_view_module": "@jupyter-widgets/base",
            "overflow": null,
            "_model_module_version": "1.2.0",
            "_view_count": null,
            "flex_flow": null,
            "width": null,
            "min_width": null,
            "border": null,
            "align_items": null,
            "bottom": null,
            "_model_module": "@jupyter-widgets/base",
            "top": null,
            "grid_column": null,
            "overflow_y": null,
            "overflow_x": null,
            "grid_auto_flow": null,
            "grid_area": null,
            "grid_template_columns": null,
            "flex": null,
            "_model_name": "LayoutModel",
            "justify_items": null,
            "grid_row": null,
            "max_height": null,
            "align_content": null,
            "visibility": null,
            "align_self": null,
            "height": null,
            "min_height": null,
            "padding": null,
            "grid_auto_rows": null,
            "grid_gap": null,
            "max_width": null,
            "order": null,
            "_view_module_version": "1.2.0",
            "grid_template_areas": null,
            "object_position": null,
            "object_fit": null,
            "grid_auto_columns": null,
            "margin": null,
            "display": null,
            "left": null
          }
        },
        "acb05e26058342a980f902b15e82e2f2": {
          "model_module": "@jupyter-widgets/controls",
          "model_name": "FloatProgressModel",
          "state": {
            "_view_name": "ProgressView",
            "style": "IPY_MODEL_9b552ae6c4b3429188f6743282a8c5ec",
            "_dom_classes": [],
            "description": "",
            "_model_name": "FloatProgressModel",
            "bar_style": "success",
            "max": 1,
            "_view_module": "@jupyter-widgets/controls",
            "_model_module_version": "1.5.0",
            "value": 1,
            "_view_count": null,
            "_view_module_version": "1.5.0",
            "orientation": "horizontal",
            "min": 0,
            "description_tooltip": null,
            "_model_module": "@jupyter-widgets/controls",
            "layout": "IPY_MODEL_87bf9817f8c843bf8d666fd923565363"
          }
        },
        "74d75e2e1c534ddd9d0d5e6d648b6e36": {
          "model_module": "@jupyter-widgets/controls",
          "model_name": "HTMLModel",
          "state": {
            "_view_name": "HTMLView",
            "style": "IPY_MODEL_272d8d3a978c4d8b8b3b554dac941df6",
            "_dom_classes": [],
            "description": "",
            "_model_name": "HTMLModel",
            "placeholder": "​",
            "_view_module": "@jupyter-widgets/controls",
            "_model_module_version": "1.5.0",
            "value": " 86/? [01:03&lt;00:00,  1.36it/s]",
            "_view_count": null,
            "_view_module_version": "1.5.0",
            "description_tooltip": null,
            "_model_module": "@jupyter-widgets/controls",
            "layout": "IPY_MODEL_4829f1e0757346ab8207de93b60b7f62"
          }
        },
        "9b552ae6c4b3429188f6743282a8c5ec": {
          "model_module": "@jupyter-widgets/controls",
          "model_name": "ProgressStyleModel",
          "state": {
            "_view_name": "StyleView",
            "_model_name": "ProgressStyleModel",
            "description_width": "initial",
            "_view_module": "@jupyter-widgets/base",
            "_model_module_version": "1.5.0",
            "_view_count": null,
            "_view_module_version": "1.2.0",
            "bar_color": null,
            "_model_module": "@jupyter-widgets/controls"
          }
        },
        "87bf9817f8c843bf8d666fd923565363": {
          "model_module": "@jupyter-widgets/base",
          "model_name": "LayoutModel",
          "state": {
            "_view_name": "LayoutView",
            "grid_template_rows": null,
            "right": null,
            "justify_content": null,
            "_view_module": "@jupyter-widgets/base",
            "overflow": null,
            "_model_module_version": "1.2.0",
            "_view_count": null,
            "flex_flow": null,
            "width": null,
            "min_width": null,
            "border": null,
            "align_items": null,
            "bottom": null,
            "_model_module": "@jupyter-widgets/base",
            "top": null,
            "grid_column": null,
            "overflow_y": null,
            "overflow_x": null,
            "grid_auto_flow": null,
            "grid_area": null,
            "grid_template_columns": null,
            "flex": null,
            "_model_name": "LayoutModel",
            "justify_items": null,
            "grid_row": null,
            "max_height": null,
            "align_content": null,
            "visibility": null,
            "align_self": null,
            "height": null,
            "min_height": null,
            "padding": null,
            "grid_auto_rows": null,
            "grid_gap": null,
            "max_width": null,
            "order": null,
            "_view_module_version": "1.2.0",
            "grid_template_areas": null,
            "object_position": null,
            "object_fit": null,
            "grid_auto_columns": null,
            "margin": null,
            "display": null,
            "left": null
          }
        },
        "272d8d3a978c4d8b8b3b554dac941df6": {
          "model_module": "@jupyter-widgets/controls",
          "model_name": "DescriptionStyleModel",
          "state": {
            "_view_name": "StyleView",
            "_model_name": "DescriptionStyleModel",
            "description_width": "",
            "_view_module": "@jupyter-widgets/base",
            "_model_module_version": "1.5.0",
            "_view_count": null,
            "_view_module_version": "1.2.0",
            "_model_module": "@jupyter-widgets/controls"
          }
        },
        "4829f1e0757346ab8207de93b60b7f62": {
          "model_module": "@jupyter-widgets/base",
          "model_name": "LayoutModel",
          "state": {
            "_view_name": "LayoutView",
            "grid_template_rows": null,
            "right": null,
            "justify_content": null,
            "_view_module": "@jupyter-widgets/base",
            "overflow": null,
            "_model_module_version": "1.2.0",
            "_view_count": null,
            "flex_flow": null,
            "width": null,
            "min_width": null,
            "border": null,
            "align_items": null,
            "bottom": null,
            "_model_module": "@jupyter-widgets/base",
            "top": null,
            "grid_column": null,
            "overflow_y": null,
            "overflow_x": null,
            "grid_auto_flow": null,
            "grid_area": null,
            "grid_template_columns": null,
            "flex": null,
            "_model_name": "LayoutModel",
            "justify_items": null,
            "grid_row": null,
            "max_height": null,
            "align_content": null,
            "visibility": null,
            "align_self": null,
            "height": null,
            "min_height": null,
            "padding": null,
            "grid_auto_rows": null,
            "grid_gap": null,
            "max_width": null,
            "order": null,
            "_view_module_version": "1.2.0",
            "grid_template_areas": null,
            "object_position": null,
            "object_fit": null,
            "grid_auto_columns": null,
            "margin": null,
            "display": null,
            "left": null
          }
        },
        "7a5dbcff6c7142c59225a6e614757675": {
          "model_module": "@jupyter-widgets/controls",
          "model_name": "HBoxModel",
          "state": {
            "_view_name": "HBoxView",
            "_dom_classes": [],
            "_model_name": "HBoxModel",
            "_view_module": "@jupyter-widgets/controls",
            "_model_module_version": "1.5.0",
            "_view_count": null,
            "_view_module_version": "1.5.0",
            "box_style": "",
            "layout": "IPY_MODEL_691cc0ee2ede4a52b858629fe118d0e5",
            "_model_module": "@jupyter-widgets/controls",
            "children": [
              "IPY_MODEL_89df2fed10284e75ab56d72987cca155",
              "IPY_MODEL_ca9388a44e344e67bb22a272eb7d2c09"
            ]
          }
        },
        "691cc0ee2ede4a52b858629fe118d0e5": {
          "model_module": "@jupyter-widgets/base",
          "model_name": "LayoutModel",
          "state": {
            "_view_name": "LayoutView",
            "grid_template_rows": null,
            "right": null,
            "justify_content": null,
            "_view_module": "@jupyter-widgets/base",
            "overflow": null,
            "_model_module_version": "1.2.0",
            "_view_count": null,
            "flex_flow": null,
            "width": null,
            "min_width": null,
            "border": null,
            "align_items": null,
            "bottom": null,
            "_model_module": "@jupyter-widgets/base",
            "top": null,
            "grid_column": null,
            "overflow_y": null,
            "overflow_x": null,
            "grid_auto_flow": null,
            "grid_area": null,
            "grid_template_columns": null,
            "flex": null,
            "_model_name": "LayoutModel",
            "justify_items": null,
            "grid_row": null,
            "max_height": null,
            "align_content": null,
            "visibility": null,
            "align_self": null,
            "height": null,
            "min_height": null,
            "padding": null,
            "grid_auto_rows": null,
            "grid_gap": null,
            "max_width": null,
            "order": null,
            "_view_module_version": "1.2.0",
            "grid_template_areas": null,
            "object_position": null,
            "object_fit": null,
            "grid_auto_columns": null,
            "margin": null,
            "display": null,
            "left": null
          }
        },
        "89df2fed10284e75ab56d72987cca155": {
          "model_module": "@jupyter-widgets/controls",
          "model_name": "FloatProgressModel",
          "state": {
            "_view_name": "ProgressView",
            "style": "IPY_MODEL_67131a6732014ac89b89eeeddcdf864f",
            "_dom_classes": [],
            "description": "",
            "_model_name": "FloatProgressModel",
            "bar_style": "success",
            "max": 1,
            "_view_module": "@jupyter-widgets/controls",
            "_model_module_version": "1.5.0",
            "value": 1,
            "_view_count": null,
            "_view_module_version": "1.5.0",
            "orientation": "horizontal",
            "min": 0,
            "description_tooltip": null,
            "_model_module": "@jupyter-widgets/controls",
            "layout": "IPY_MODEL_5bea55f07f034b0bbd1fa55f68d4f7c2"
          }
        },
        "ca9388a44e344e67bb22a272eb7d2c09": {
          "model_module": "@jupyter-widgets/controls",
          "model_name": "HTMLModel",
          "state": {
            "_view_name": "HTMLView",
            "style": "IPY_MODEL_79fc1e339f4e4c8fb6157f53b21dd6b2",
            "_dom_classes": [],
            "description": "",
            "_model_name": "HTMLModel",
            "placeholder": "​",
            "_view_module": "@jupyter-widgets/controls",
            "_model_module_version": "1.5.0",
            "value": " 86/? [00:33&lt;00:00,  2.59it/s]",
            "_view_count": null,
            "_view_module_version": "1.5.0",
            "description_tooltip": null,
            "_model_module": "@jupyter-widgets/controls",
            "layout": "IPY_MODEL_98ab2b4f742c4c6cb033482b99734d03"
          }
        },
        "67131a6732014ac89b89eeeddcdf864f": {
          "model_module": "@jupyter-widgets/controls",
          "model_name": "ProgressStyleModel",
          "state": {
            "_view_name": "StyleView",
            "_model_name": "ProgressStyleModel",
            "description_width": "initial",
            "_view_module": "@jupyter-widgets/base",
            "_model_module_version": "1.5.0",
            "_view_count": null,
            "_view_module_version": "1.2.0",
            "bar_color": null,
            "_model_module": "@jupyter-widgets/controls"
          }
        },
        "5bea55f07f034b0bbd1fa55f68d4f7c2": {
          "model_module": "@jupyter-widgets/base",
          "model_name": "LayoutModel",
          "state": {
            "_view_name": "LayoutView",
            "grid_template_rows": null,
            "right": null,
            "justify_content": null,
            "_view_module": "@jupyter-widgets/base",
            "overflow": null,
            "_model_module_version": "1.2.0",
            "_view_count": null,
            "flex_flow": null,
            "width": null,
            "min_width": null,
            "border": null,
            "align_items": null,
            "bottom": null,
            "_model_module": "@jupyter-widgets/base",
            "top": null,
            "grid_column": null,
            "overflow_y": null,
            "overflow_x": null,
            "grid_auto_flow": null,
            "grid_area": null,
            "grid_template_columns": null,
            "flex": null,
            "_model_name": "LayoutModel",
            "justify_items": null,
            "grid_row": null,
            "max_height": null,
            "align_content": null,
            "visibility": null,
            "align_self": null,
            "height": null,
            "min_height": null,
            "padding": null,
            "grid_auto_rows": null,
            "grid_gap": null,
            "max_width": null,
            "order": null,
            "_view_module_version": "1.2.0",
            "grid_template_areas": null,
            "object_position": null,
            "object_fit": null,
            "grid_auto_columns": null,
            "margin": null,
            "display": null,
            "left": null
          }
        },
        "79fc1e339f4e4c8fb6157f53b21dd6b2": {
          "model_module": "@jupyter-widgets/controls",
          "model_name": "DescriptionStyleModel",
          "state": {
            "_view_name": "StyleView",
            "_model_name": "DescriptionStyleModel",
            "description_width": "",
            "_view_module": "@jupyter-widgets/base",
            "_model_module_version": "1.5.0",
            "_view_count": null,
            "_view_module_version": "1.2.0",
            "_model_module": "@jupyter-widgets/controls"
          }
        },
        "98ab2b4f742c4c6cb033482b99734d03": {
          "model_module": "@jupyter-widgets/base",
          "model_name": "LayoutModel",
          "state": {
            "_view_name": "LayoutView",
            "grid_template_rows": null,
            "right": null,
            "justify_content": null,
            "_view_module": "@jupyter-widgets/base",
            "overflow": null,
            "_model_module_version": "1.2.0",
            "_view_count": null,
            "flex_flow": null,
            "width": null,
            "min_width": null,
            "border": null,
            "align_items": null,
            "bottom": null,
            "_model_module": "@jupyter-widgets/base",
            "top": null,
            "grid_column": null,
            "overflow_y": null,
            "overflow_x": null,
            "grid_auto_flow": null,
            "grid_area": null,
            "grid_template_columns": null,
            "flex": null,
            "_model_name": "LayoutModel",
            "justify_items": null,
            "grid_row": null,
            "max_height": null,
            "align_content": null,
            "visibility": null,
            "align_self": null,
            "height": null,
            "min_height": null,
            "padding": null,
            "grid_auto_rows": null,
            "grid_gap": null,
            "max_width": null,
            "order": null,
            "_view_module_version": "1.2.0",
            "grid_template_areas": null,
            "object_position": null,
            "object_fit": null,
            "grid_auto_columns": null,
            "margin": null,
            "display": null,
            "left": null
          }
        },
        "21f553d41bc74cbea80f2f599ab3fa4c": {
          "model_module": "@jupyter-widgets/controls",
          "model_name": "HBoxModel",
          "state": {
            "_view_name": "HBoxView",
            "_dom_classes": [],
            "_model_name": "HBoxModel",
            "_view_module": "@jupyter-widgets/controls",
            "_model_module_version": "1.5.0",
            "_view_count": null,
            "_view_module_version": "1.5.0",
            "box_style": "",
            "layout": "IPY_MODEL_5e58abbc1615412bb5a2138f6de0eb2c",
            "_model_module": "@jupyter-widgets/controls",
            "children": [
              "IPY_MODEL_a7db57fa7aa5489790eb17b478d2ddd3",
              "IPY_MODEL_440238bfba554d639243e5c6fb64efc4"
            ]
          }
        },
        "5e58abbc1615412bb5a2138f6de0eb2c": {
          "model_module": "@jupyter-widgets/base",
          "model_name": "LayoutModel",
          "state": {
            "_view_name": "LayoutView",
            "grid_template_rows": null,
            "right": null,
            "justify_content": null,
            "_view_module": "@jupyter-widgets/base",
            "overflow": null,
            "_model_module_version": "1.2.0",
            "_view_count": null,
            "flex_flow": null,
            "width": null,
            "min_width": null,
            "border": null,
            "align_items": null,
            "bottom": null,
            "_model_module": "@jupyter-widgets/base",
            "top": null,
            "grid_column": null,
            "overflow_y": null,
            "overflow_x": null,
            "grid_auto_flow": null,
            "grid_area": null,
            "grid_template_columns": null,
            "flex": null,
            "_model_name": "LayoutModel",
            "justify_items": null,
            "grid_row": null,
            "max_height": null,
            "align_content": null,
            "visibility": null,
            "align_self": null,
            "height": null,
            "min_height": null,
            "padding": null,
            "grid_auto_rows": null,
            "grid_gap": null,
            "max_width": null,
            "order": null,
            "_view_module_version": "1.2.0",
            "grid_template_areas": null,
            "object_position": null,
            "object_fit": null,
            "grid_auto_columns": null,
            "margin": null,
            "display": null,
            "left": null
          }
        },
        "a7db57fa7aa5489790eb17b478d2ddd3": {
          "model_module": "@jupyter-widgets/controls",
          "model_name": "FloatProgressModel",
          "state": {
            "_view_name": "ProgressView",
            "style": "IPY_MODEL_b94c0680272145b1b71ea222f1f69ba8",
            "_dom_classes": [],
            "description": "",
            "_model_name": "FloatProgressModel",
            "bar_style": "success",
            "max": 1,
            "_view_module": "@jupyter-widgets/controls",
            "_model_module_version": "1.5.0",
            "value": 1,
            "_view_count": null,
            "_view_module_version": "1.5.0",
            "orientation": "horizontal",
            "min": 0,
            "description_tooltip": null,
            "_model_module": "@jupyter-widgets/controls",
            "layout": "IPY_MODEL_86bc0b5dd5cb44aa82bdb643f2ebea61"
          }
        },
        "440238bfba554d639243e5c6fb64efc4": {
          "model_module": "@jupyter-widgets/controls",
          "model_name": "HTMLModel",
          "state": {
            "_view_name": "HTMLView",
            "style": "IPY_MODEL_18d8bf5605ea4122b3bbf6bda2dde65f",
            "_dom_classes": [],
            "description": "",
            "_model_name": "HTMLModel",
            "placeholder": "​",
            "_view_module": "@jupyter-widgets/controls",
            "_model_module_version": "1.5.0",
            "value": " 86/? [00:30&lt;00:00,  2.85it/s]",
            "_view_count": null,
            "_view_module_version": "1.5.0",
            "description_tooltip": null,
            "_model_module": "@jupyter-widgets/controls",
            "layout": "IPY_MODEL_de771bf4d13b47bb91cf56afde310f6c"
          }
        },
        "b94c0680272145b1b71ea222f1f69ba8": {
          "model_module": "@jupyter-widgets/controls",
          "model_name": "ProgressStyleModel",
          "state": {
            "_view_name": "StyleView",
            "_model_name": "ProgressStyleModel",
            "description_width": "initial",
            "_view_module": "@jupyter-widgets/base",
            "_model_module_version": "1.5.0",
            "_view_count": null,
            "_view_module_version": "1.2.0",
            "bar_color": null,
            "_model_module": "@jupyter-widgets/controls"
          }
        },
        "86bc0b5dd5cb44aa82bdb643f2ebea61": {
          "model_module": "@jupyter-widgets/base",
          "model_name": "LayoutModel",
          "state": {
            "_view_name": "LayoutView",
            "grid_template_rows": null,
            "right": null,
            "justify_content": null,
            "_view_module": "@jupyter-widgets/base",
            "overflow": null,
            "_model_module_version": "1.2.0",
            "_view_count": null,
            "flex_flow": null,
            "width": null,
            "min_width": null,
            "border": null,
            "align_items": null,
            "bottom": null,
            "_model_module": "@jupyter-widgets/base",
            "top": null,
            "grid_column": null,
            "overflow_y": null,
            "overflow_x": null,
            "grid_auto_flow": null,
            "grid_area": null,
            "grid_template_columns": null,
            "flex": null,
            "_model_name": "LayoutModel",
            "justify_items": null,
            "grid_row": null,
            "max_height": null,
            "align_content": null,
            "visibility": null,
            "align_self": null,
            "height": null,
            "min_height": null,
            "padding": null,
            "grid_auto_rows": null,
            "grid_gap": null,
            "max_width": null,
            "order": null,
            "_view_module_version": "1.2.0",
            "grid_template_areas": null,
            "object_position": null,
            "object_fit": null,
            "grid_auto_columns": null,
            "margin": null,
            "display": null,
            "left": null
          }
        },
        "18d8bf5605ea4122b3bbf6bda2dde65f": {
          "model_module": "@jupyter-widgets/controls",
          "model_name": "DescriptionStyleModel",
          "state": {
            "_view_name": "StyleView",
            "_model_name": "DescriptionStyleModel",
            "description_width": "",
            "_view_module": "@jupyter-widgets/base",
            "_model_module_version": "1.5.0",
            "_view_count": null,
            "_view_module_version": "1.2.0",
            "_model_module": "@jupyter-widgets/controls"
          }
        },
        "de771bf4d13b47bb91cf56afde310f6c": {
          "model_module": "@jupyter-widgets/base",
          "model_name": "LayoutModel",
          "state": {
            "_view_name": "LayoutView",
            "grid_template_rows": null,
            "right": null,
            "justify_content": null,
            "_view_module": "@jupyter-widgets/base",
            "overflow": null,
            "_model_module_version": "1.2.0",
            "_view_count": null,
            "flex_flow": null,
            "width": null,
            "min_width": null,
            "border": null,
            "align_items": null,
            "bottom": null,
            "_model_module": "@jupyter-widgets/base",
            "top": null,
            "grid_column": null,
            "overflow_y": null,
            "overflow_x": null,
            "grid_auto_flow": null,
            "grid_area": null,
            "grid_template_columns": null,
            "flex": null,
            "_model_name": "LayoutModel",
            "justify_items": null,
            "grid_row": null,
            "max_height": null,
            "align_content": null,
            "visibility": null,
            "align_self": null,
            "height": null,
            "min_height": null,
            "padding": null,
            "grid_auto_rows": null,
            "grid_gap": null,
            "max_width": null,
            "order": null,
            "_view_module_version": "1.2.0",
            "grid_template_areas": null,
            "object_position": null,
            "object_fit": null,
            "grid_auto_columns": null,
            "margin": null,
            "display": null,
            "left": null
          }
        },
        "cc6fbbaecaf640e78ae8f70a9a5ce72d": {
          "model_module": "@jupyter-widgets/controls",
          "model_name": "HBoxModel",
          "state": {
            "_view_name": "HBoxView",
            "_dom_classes": [],
            "_model_name": "HBoxModel",
            "_view_module": "@jupyter-widgets/controls",
            "_model_module_version": "1.5.0",
            "_view_count": null,
            "_view_module_version": "1.5.0",
            "box_style": "",
            "layout": "IPY_MODEL_410a7101ee9a4d368f64ab1028338cf4",
            "_model_module": "@jupyter-widgets/controls",
            "children": [
              "IPY_MODEL_900844a420bd4423bb5d1d0329d14dab",
              "IPY_MODEL_478251974f6649ca8af6fec08eee4710"
            ]
          }
        },
        "410a7101ee9a4d368f64ab1028338cf4": {
          "model_module": "@jupyter-widgets/base",
          "model_name": "LayoutModel",
          "state": {
            "_view_name": "LayoutView",
            "grid_template_rows": null,
            "right": null,
            "justify_content": null,
            "_view_module": "@jupyter-widgets/base",
            "overflow": null,
            "_model_module_version": "1.2.0",
            "_view_count": null,
            "flex_flow": null,
            "width": null,
            "min_width": null,
            "border": null,
            "align_items": null,
            "bottom": null,
            "_model_module": "@jupyter-widgets/base",
            "top": null,
            "grid_column": null,
            "overflow_y": null,
            "overflow_x": null,
            "grid_auto_flow": null,
            "grid_area": null,
            "grid_template_columns": null,
            "flex": null,
            "_model_name": "LayoutModel",
            "justify_items": null,
            "grid_row": null,
            "max_height": null,
            "align_content": null,
            "visibility": null,
            "align_self": null,
            "height": null,
            "min_height": null,
            "padding": null,
            "grid_auto_rows": null,
            "grid_gap": null,
            "max_width": null,
            "order": null,
            "_view_module_version": "1.2.0",
            "grid_template_areas": null,
            "object_position": null,
            "object_fit": null,
            "grid_auto_columns": null,
            "margin": null,
            "display": null,
            "left": null
          }
        },
        "900844a420bd4423bb5d1d0329d14dab": {
          "model_module": "@jupyter-widgets/controls",
          "model_name": "FloatProgressModel",
          "state": {
            "_view_name": "ProgressView",
            "style": "IPY_MODEL_7d38ed406b0d4e1182f943a7b3d917cb",
            "_dom_classes": [],
            "description": "",
            "_model_name": "FloatProgressModel",
            "bar_style": "success",
            "max": 1,
            "_view_module": "@jupyter-widgets/controls",
            "_model_module_version": "1.5.0",
            "value": 1,
            "_view_count": null,
            "_view_module_version": "1.5.0",
            "orientation": "horizontal",
            "min": 0,
            "description_tooltip": null,
            "_model_module": "@jupyter-widgets/controls",
            "layout": "IPY_MODEL_2646d8e36f3249bc9b0e34ceb92fcdcc"
          }
        },
        "478251974f6649ca8af6fec08eee4710": {
          "model_module": "@jupyter-widgets/controls",
          "model_name": "HTMLModel",
          "state": {
            "_view_name": "HTMLView",
            "style": "IPY_MODEL_fb0cad9044fd4859a0b1be633fff0724",
            "_dom_classes": [],
            "description": "",
            "_model_name": "HTMLModel",
            "placeholder": "​",
            "_view_module": "@jupyter-widgets/controls",
            "_model_module_version": "1.5.0",
            "value": " 86/? [03:11&lt;00:00,  2.22s/it]",
            "_view_count": null,
            "_view_module_version": "1.5.0",
            "description_tooltip": null,
            "_model_module": "@jupyter-widgets/controls",
            "layout": "IPY_MODEL_68fba92050f5435f9434df7a5d8bbfde"
          }
        },
        "7d38ed406b0d4e1182f943a7b3d917cb": {
          "model_module": "@jupyter-widgets/controls",
          "model_name": "ProgressStyleModel",
          "state": {
            "_view_name": "StyleView",
            "_model_name": "ProgressStyleModel",
            "description_width": "initial",
            "_view_module": "@jupyter-widgets/base",
            "_model_module_version": "1.5.0",
            "_view_count": null,
            "_view_module_version": "1.2.0",
            "bar_color": null,
            "_model_module": "@jupyter-widgets/controls"
          }
        },
        "2646d8e36f3249bc9b0e34ceb92fcdcc": {
          "model_module": "@jupyter-widgets/base",
          "model_name": "LayoutModel",
          "state": {
            "_view_name": "LayoutView",
            "grid_template_rows": null,
            "right": null,
            "justify_content": null,
            "_view_module": "@jupyter-widgets/base",
            "overflow": null,
            "_model_module_version": "1.2.0",
            "_view_count": null,
            "flex_flow": null,
            "width": null,
            "min_width": null,
            "border": null,
            "align_items": null,
            "bottom": null,
            "_model_module": "@jupyter-widgets/base",
            "top": null,
            "grid_column": null,
            "overflow_y": null,
            "overflow_x": null,
            "grid_auto_flow": null,
            "grid_area": null,
            "grid_template_columns": null,
            "flex": null,
            "_model_name": "LayoutModel",
            "justify_items": null,
            "grid_row": null,
            "max_height": null,
            "align_content": null,
            "visibility": null,
            "align_self": null,
            "height": null,
            "min_height": null,
            "padding": null,
            "grid_auto_rows": null,
            "grid_gap": null,
            "max_width": null,
            "order": null,
            "_view_module_version": "1.2.0",
            "grid_template_areas": null,
            "object_position": null,
            "object_fit": null,
            "grid_auto_columns": null,
            "margin": null,
            "display": null,
            "left": null
          }
        },
        "fb0cad9044fd4859a0b1be633fff0724": {
          "model_module": "@jupyter-widgets/controls",
          "model_name": "DescriptionStyleModel",
          "state": {
            "_view_name": "StyleView",
            "_model_name": "DescriptionStyleModel",
            "description_width": "",
            "_view_module": "@jupyter-widgets/base",
            "_model_module_version": "1.5.0",
            "_view_count": null,
            "_view_module_version": "1.2.0",
            "_model_module": "@jupyter-widgets/controls"
          }
        },
        "68fba92050f5435f9434df7a5d8bbfde": {
          "model_module": "@jupyter-widgets/base",
          "model_name": "LayoutModel",
          "state": {
            "_view_name": "LayoutView",
            "grid_template_rows": null,
            "right": null,
            "justify_content": null,
            "_view_module": "@jupyter-widgets/base",
            "overflow": null,
            "_model_module_version": "1.2.0",
            "_view_count": null,
            "flex_flow": null,
            "width": null,
            "min_width": null,
            "border": null,
            "align_items": null,
            "bottom": null,
            "_model_module": "@jupyter-widgets/base",
            "top": null,
            "grid_column": null,
            "overflow_y": null,
            "overflow_x": null,
            "grid_auto_flow": null,
            "grid_area": null,
            "grid_template_columns": null,
            "flex": null,
            "_model_name": "LayoutModel",
            "justify_items": null,
            "grid_row": null,
            "max_height": null,
            "align_content": null,
            "visibility": null,
            "align_self": null,
            "height": null,
            "min_height": null,
            "padding": null,
            "grid_auto_rows": null,
            "grid_gap": null,
            "max_width": null,
            "order": null,
            "_view_module_version": "1.2.0",
            "grid_template_areas": null,
            "object_position": null,
            "object_fit": null,
            "grid_auto_columns": null,
            "margin": null,
            "display": null,
            "left": null
          }
        },
        "f5b67f7b62144015a904d2ca188c5fa5": {
          "model_module": "@jupyter-widgets/controls",
          "model_name": "HBoxModel",
          "state": {
            "_view_name": "HBoxView",
            "_dom_classes": [],
            "_model_name": "HBoxModel",
            "_view_module": "@jupyter-widgets/controls",
            "_model_module_version": "1.5.0",
            "_view_count": null,
            "_view_module_version": "1.5.0",
            "box_style": "",
            "layout": "IPY_MODEL_699e713f33d14e948b69049c875ade57",
            "_model_module": "@jupyter-widgets/controls",
            "children": [
              "IPY_MODEL_cc21d991117f464ea86c039c3384efc9",
              "IPY_MODEL_9d6e2f519a2d4ee49019476924e3dcab"
            ]
          }
        },
        "699e713f33d14e948b69049c875ade57": {
          "model_module": "@jupyter-widgets/base",
          "model_name": "LayoutModel",
          "state": {
            "_view_name": "LayoutView",
            "grid_template_rows": null,
            "right": null,
            "justify_content": null,
            "_view_module": "@jupyter-widgets/base",
            "overflow": null,
            "_model_module_version": "1.2.0",
            "_view_count": null,
            "flex_flow": null,
            "width": null,
            "min_width": null,
            "border": null,
            "align_items": null,
            "bottom": null,
            "_model_module": "@jupyter-widgets/base",
            "top": null,
            "grid_column": null,
            "overflow_y": null,
            "overflow_x": null,
            "grid_auto_flow": null,
            "grid_area": null,
            "grid_template_columns": null,
            "flex": null,
            "_model_name": "LayoutModel",
            "justify_items": null,
            "grid_row": null,
            "max_height": null,
            "align_content": null,
            "visibility": null,
            "align_self": null,
            "height": null,
            "min_height": null,
            "padding": null,
            "grid_auto_rows": null,
            "grid_gap": null,
            "max_width": null,
            "order": null,
            "_view_module_version": "1.2.0",
            "grid_template_areas": null,
            "object_position": null,
            "object_fit": null,
            "grid_auto_columns": null,
            "margin": null,
            "display": null,
            "left": null
          }
        },
        "cc21d991117f464ea86c039c3384efc9": {
          "model_module": "@jupyter-widgets/controls",
          "model_name": "FloatProgressModel",
          "state": {
            "_view_name": "ProgressView",
            "style": "IPY_MODEL_bbf2a4380c2e4fcd9fd86668fbaaca63",
            "_dom_classes": [],
            "description": "",
            "_model_name": "FloatProgressModel",
            "bar_style": "success",
            "max": 1,
            "_view_module": "@jupyter-widgets/controls",
            "_model_module_version": "1.5.0",
            "value": 1,
            "_view_count": null,
            "_view_module_version": "1.5.0",
            "orientation": "horizontal",
            "min": 0,
            "description_tooltip": null,
            "_model_module": "@jupyter-widgets/controls",
            "layout": "IPY_MODEL_168e0eada60841fbb5ba3e34645170a5"
          }
        },
        "9d6e2f519a2d4ee49019476924e3dcab": {
          "model_module": "@jupyter-widgets/controls",
          "model_name": "HTMLModel",
          "state": {
            "_view_name": "HTMLView",
            "style": "IPY_MODEL_c13f4ccab22c43caba3a16fbfeb1196f",
            "_dom_classes": [],
            "description": "",
            "_model_name": "HTMLModel",
            "placeholder": "​",
            "_view_module": "@jupyter-widgets/controls",
            "_model_module_version": "1.5.0",
            "value": " 86/? [02:40&lt;00:00,  1.87s/it]",
            "_view_count": null,
            "_view_module_version": "1.5.0",
            "description_tooltip": null,
            "_model_module": "@jupyter-widgets/controls",
            "layout": "IPY_MODEL_78bd3a9c1d964de1bb7be675498940c1"
          }
        },
        "bbf2a4380c2e4fcd9fd86668fbaaca63": {
          "model_module": "@jupyter-widgets/controls",
          "model_name": "ProgressStyleModel",
          "state": {
            "_view_name": "StyleView",
            "_model_name": "ProgressStyleModel",
            "description_width": "initial",
            "_view_module": "@jupyter-widgets/base",
            "_model_module_version": "1.5.0",
            "_view_count": null,
            "_view_module_version": "1.2.0",
            "bar_color": null,
            "_model_module": "@jupyter-widgets/controls"
          }
        },
        "168e0eada60841fbb5ba3e34645170a5": {
          "model_module": "@jupyter-widgets/base",
          "model_name": "LayoutModel",
          "state": {
            "_view_name": "LayoutView",
            "grid_template_rows": null,
            "right": null,
            "justify_content": null,
            "_view_module": "@jupyter-widgets/base",
            "overflow": null,
            "_model_module_version": "1.2.0",
            "_view_count": null,
            "flex_flow": null,
            "width": null,
            "min_width": null,
            "border": null,
            "align_items": null,
            "bottom": null,
            "_model_module": "@jupyter-widgets/base",
            "top": null,
            "grid_column": null,
            "overflow_y": null,
            "overflow_x": null,
            "grid_auto_flow": null,
            "grid_area": null,
            "grid_template_columns": null,
            "flex": null,
            "_model_name": "LayoutModel",
            "justify_items": null,
            "grid_row": null,
            "max_height": null,
            "align_content": null,
            "visibility": null,
            "align_self": null,
            "height": null,
            "min_height": null,
            "padding": null,
            "grid_auto_rows": null,
            "grid_gap": null,
            "max_width": null,
            "order": null,
            "_view_module_version": "1.2.0",
            "grid_template_areas": null,
            "object_position": null,
            "object_fit": null,
            "grid_auto_columns": null,
            "margin": null,
            "display": null,
            "left": null
          }
        },
        "c13f4ccab22c43caba3a16fbfeb1196f": {
          "model_module": "@jupyter-widgets/controls",
          "model_name": "DescriptionStyleModel",
          "state": {
            "_view_name": "StyleView",
            "_model_name": "DescriptionStyleModel",
            "description_width": "",
            "_view_module": "@jupyter-widgets/base",
            "_model_module_version": "1.5.0",
            "_view_count": null,
            "_view_module_version": "1.2.0",
            "_model_module": "@jupyter-widgets/controls"
          }
        },
        "78bd3a9c1d964de1bb7be675498940c1": {
          "model_module": "@jupyter-widgets/base",
          "model_name": "LayoutModel",
          "state": {
            "_view_name": "LayoutView",
            "grid_template_rows": null,
            "right": null,
            "justify_content": null,
            "_view_module": "@jupyter-widgets/base",
            "overflow": null,
            "_model_module_version": "1.2.0",
            "_view_count": null,
            "flex_flow": null,
            "width": null,
            "min_width": null,
            "border": null,
            "align_items": null,
            "bottom": null,
            "_model_module": "@jupyter-widgets/base",
            "top": null,
            "grid_column": null,
            "overflow_y": null,
            "overflow_x": null,
            "grid_auto_flow": null,
            "grid_area": null,
            "grid_template_columns": null,
            "flex": null,
            "_model_name": "LayoutModel",
            "justify_items": null,
            "grid_row": null,
            "max_height": null,
            "align_content": null,
            "visibility": null,
            "align_self": null,
            "height": null,
            "min_height": null,
            "padding": null,
            "grid_auto_rows": null,
            "grid_gap": null,
            "max_width": null,
            "order": null,
            "_view_module_version": "1.2.0",
            "grid_template_areas": null,
            "object_position": null,
            "object_fit": null,
            "grid_auto_columns": null,
            "margin": null,
            "display": null,
            "left": null
          }
        }
      }
    }
  },
  "cells": [
    {
      "cell_type": "code",
      "metadata": {
        "id": "U4cip0sOoLsp",
        "colab_type": "code",
        "colab": {}
      },
      "source": [
        "# !pip install transformers -q"
      ],
      "execution_count": null,
      "outputs": []
    },
    {
      "cell_type": "code",
      "metadata": {
        "id": "diExRFILkIAP",
        "colab_type": "code",
        "colab": {}
      },
      "source": [
        "# import transformers\n",
        "# from transformers import AutoTokenizer, AutoModelForSeq2SeqLM\n",
        "import torch\n",
        "import torch.nn.functional as F\n",
        "import numpy as np\n",
        "import pandas as pd\n",
        "\n",
        "from glob import glob\n",
        "from tqdm.notebook import tqdm\n",
        "from IPython.display import display\n",
        "\n",
        "SEED = 2020"
      ],
      "execution_count": 1,
      "outputs": []
    },
    {
      "cell_type": "code",
      "metadata": {
        "id": "QvZxkbFpoH8R",
        "colab_type": "code",
        "colab": {
          "base_uri": "https://localhost:8080/",
          "height": 218,
          "referenced_widgets": [
            "5019a550e6ca4df4ac7026234168d7c7",
            "3fe4ebcac61f4cbba356f5e2d06ca21d",
            "34d367de7e8e4a25b6045e0671cee82c",
            "eba519023121409089dad964c8f78098",
            "0ff47c15dbea42ccb37b81a2bcdb174a",
            "a2a90d5b68ff416094f743e3f9f67c3f",
            "d68f445e855a4cd2bcb72ae3b5161545",
            "fa222d4a78034d3e819f905f3abce6c5",
            "feb8520c400a416c9859606bf2628050",
            "e96d7d413e79413d8b03d22311b9f0cf",
            "de4c0cad0d9c4c51bebbb4c3ef4a3f99",
            "5ed703e1063d4ba1b972b114b334fed9",
            "39652401092f498b88e8d2432f864999",
            "1c2a9a012f8546f0b22c177603d713a5",
            "c3a84611b5ea4951abf9cd0c6e1e48cd",
            "81c051280cc74932bf71de7e027a89c7",
            "95eb9f8a1d604fdab50a389ef22d6870",
            "8e42c6e3352f4cd79f6f5b597ef12691",
            "160644efd2074e9da83162056c992b9a",
            "b76fe752dd934f14915865f472f6ed46",
            "fad49e7329e541c9baf916ce3604bca2",
            "60eb32ec2e3249e8b19f751bf80a8ca8",
            "b34bd309c49c47d39469a814d76a2e99",
            "8f29ea187b104caf9d133633b69e01d1"
          ]
        },
        "outputId": "abaacdd7-10c1-4d9c-90f2-26decfab2a0c"
      },
      "source": [
        "tokenizer = AutoTokenizer.from_pretrained(\"t5-small\")\n",
        "model = AutoModelForSeq2SeqLM.from_pretrained(\"t5-small\").cuda()"
      ],
      "execution_count": null,
      "outputs": [
        {
          "output_type": "display_data",
          "data": {
            "application/vnd.jupyter.widget-view+json": {
              "model_id": "5019a550e6ca4df4ac7026234168d7c7",
              "version_minor": 0,
              "version_major": 2
            },
            "text/plain": [
              "HBox(children=(FloatProgress(value=0.0, description='Downloading', max=1197.0, style=ProgressStyle(description…"
            ]
          },
          "metadata": {
            "tags": []
          }
        },
        {
          "output_type": "stream",
          "text": [
            "\n"
          ],
          "name": "stdout"
        },
        {
          "output_type": "display_data",
          "data": {
            "application/vnd.jupyter.widget-view+json": {
              "model_id": "feb8520c400a416c9859606bf2628050",
              "version_minor": 0,
              "version_major": 2
            },
            "text/plain": [
              "HBox(children=(FloatProgress(value=0.0, description='Downloading', max=791656.0, style=ProgressStyle(descripti…"
            ]
          },
          "metadata": {
            "tags": []
          }
        },
        {
          "output_type": "stream",
          "text": [
            "\n"
          ],
          "name": "stdout"
        },
        {
          "output_type": "display_data",
          "data": {
            "application/vnd.jupyter.widget-view+json": {
              "model_id": "95eb9f8a1d604fdab50a389ef22d6870",
              "version_minor": 0,
              "version_major": 2
            },
            "text/plain": [
              "HBox(children=(FloatProgress(value=0.0, description='Downloading', max=242065649.0, style=ProgressStyle(descri…"
            ]
          },
          "metadata": {
            "tags": []
          }
        },
        {
          "output_type": "stream",
          "text": [
            "\n"
          ],
          "name": "stdout"
        },
        {
          "output_type": "stream",
          "text": [
            "Some weights of T5ForConditionalGeneration were not initialized from the model checkpoint at t5-small and are newly initialized: ['encoder.embed_tokens.weight', 'decoder.embed_tokens.weight', 'lm_head.weight']\n",
            "You should probably TRAIN this model on a down-stream task to be able to use it for predictions and inference.\n"
          ],
          "name": "stderr"
        }
      ]
    },
    {
      "cell_type": "markdown",
      "metadata": {
        "id": "Y90Uu5pzMj7N",
        "colab_type": "text"
      },
      "source": [
        "## Pre-process data"
      ]
    },
    {
      "cell_type": "code",
      "metadata": {
        "id": "ogJfOLGOMrL8",
        "colab_type": "code",
        "colab": {}
      },
      "source": [
        "# !unzip -q data.zip\n",
        "# !rm data.zip"
      ],
      "execution_count": 2,
      "outputs": []
    },
    {
      "cell_type": "code",
      "metadata": {
        "id": "9uPTo-RtDqSY",
        "colab_type": "code",
        "colab": {
          "base_uri": "https://localhost:8080/",
          "height": 34
        },
        "outputId": "792679f9-39ea-48b7-bcd1-15104af9319c"
      },
      "source": [
        "df_raw = [pd.read_csv(path) for path in glob('data/num_text_pair *.csv')]\n",
        "df_raw = (pd.concat(df_raw).\n",
        "          sample(frac=1.0, random_state=SEED).\n",
        "          reset_index(drop=True))\n",
        "df_raw = df_raw.astype(str)\n",
        "\n",
        "df_raw.shape"
      ],
      "execution_count": 3,
      "outputs": [
        {
          "output_type": "execute_result",
          "data": {
            "text/plain": [
              "(12200, 2)"
            ]
          },
          "metadata": {
            "tags": []
          },
          "execution_count": 3
        }
      ]
    },
    {
      "cell_type": "code",
      "metadata": {
        "id": "PB53GIJr3NPC",
        "colab_type": "code",
        "colab": {
          "base_uri": "https://localhost:8080/",
          "height": 34
        },
        "outputId": "ab67c609-a4b3-45ec-9704-309c7d53900f"
      },
      "source": [
        "max_digit_len = df_raw['number'].apply(lambda x: len(x)).max()\n",
        "max_digit_len"
      ],
      "execution_count": 4,
      "outputs": [
        {
          "output_type": "execute_result",
          "data": {
            "text/plain": [
              "6"
            ]
          },
          "metadata": {
            "tags": []
          },
          "execution_count": 4
        }
      ]
    },
    {
      "cell_type": "code",
      "metadata": {
        "id": "GK284nsM36xw",
        "colab_type": "code",
        "colab": {}
      },
      "source": [
        "df_raw['number'] = df_raw['number'].apply(lambda x: '0' * (max_digit_len - len(x)) + x)\n",
        "df_raw['number'] = df_raw['number'].apply(lambda x: ' '.join(x))"
      ],
      "execution_count": 5,
      "outputs": []
    },
    {
      "cell_type": "code",
      "metadata": {
        "id": "wkpfLy5zNNe1",
        "colab_type": "code",
        "colab": {
          "base_uri": "https://localhost:8080/",
          "height": 204
        },
        "outputId": "e305659e-112d-4406-8ff8-755c13ac1573"
      },
      "source": [
        "df_raw.tail()"
      ],
      "execution_count": 6,
      "outputs": [
        {
          "output_type": "execute_result",
          "data": {
            "text/html": [
              "<div>\n",
              "<style scoped>\n",
              "    .dataframe tbody tr th:only-of-type {\n",
              "        vertical-align: middle;\n",
              "    }\n",
              "\n",
              "    .dataframe tbody tr th {\n",
              "        vertical-align: top;\n",
              "    }\n",
              "\n",
              "    .dataframe thead th {\n",
              "        text-align: right;\n",
              "    }\n",
              "</style>\n",
              "<table border=\"1\" class=\"dataframe\">\n",
              "  <thead>\n",
              "    <tr style=\"text-align: right;\">\n",
              "      <th></th>\n",
              "      <th>number</th>\n",
              "      <th>text</th>\n",
              "    </tr>\n",
              "  </thead>\n",
              "  <tbody>\n",
              "    <tr>\n",
              "      <th>12195</th>\n",
              "      <td>2 6 4 0 7 3</td>\n",
              "      <td>two hundred sixty-four thousand seventy-three</td>\n",
              "    </tr>\n",
              "    <tr>\n",
              "      <th>12196</th>\n",
              "      <td>1 4 4 5 9 2</td>\n",
              "      <td>one hundred forty-four thousand five hundred n...</td>\n",
              "    </tr>\n",
              "    <tr>\n",
              "      <th>12197</th>\n",
              "      <td>0 6 9 1 4 3</td>\n",
              "      <td>sixty-nine thousand one hundred forty-three</td>\n",
              "    </tr>\n",
              "    <tr>\n",
              "      <th>12198</th>\n",
              "      <td>7 6 1 7 9 3</td>\n",
              "      <td>seven hundred sixty-one thousand seven hundred...</td>\n",
              "    </tr>\n",
              "    <tr>\n",
              "      <th>12199</th>\n",
              "      <td>0 0 3 5 4 5</td>\n",
              "      <td>three thousand five hundred forty-five</td>\n",
              "    </tr>\n",
              "  </tbody>\n",
              "</table>\n",
              "</div>"
            ],
            "text/plain": [
              "            number                                               text\n",
              "12195  2 6 4 0 7 3      two hundred sixty-four thousand seventy-three\n",
              "12196  1 4 4 5 9 2  one hundred forty-four thousand five hundred n...\n",
              "12197  0 6 9 1 4 3        sixty-nine thousand one hundred forty-three\n",
              "12198  7 6 1 7 9 3  seven hundred sixty-one thousand seven hundred...\n",
              "12199  0 0 3 5 4 5             three thousand five hundred forty-five"
            ]
          },
          "metadata": {
            "tags": []
          },
          "execution_count": 6
        }
      ]
    },
    {
      "cell_type": "markdown",
      "metadata": {
        "id": "ZlX2otuAOZsP",
        "colab_type": "text"
      },
      "source": [
        "## Unsupervised denoising training"
      ]
    },
    {
      "cell_type": "code",
      "metadata": {
        "id": "UVU7_2O6N-ck",
        "colab_type": "code",
        "colab": {}
      },
      "source": [
        ""
      ],
      "execution_count": null,
      "outputs": []
    },
    {
      "cell_type": "markdown",
      "metadata": {
        "id": "yt6k5cXyUGjl",
        "colab_type": "text"
      },
      "source": [
        "## Supervised training"
      ]
    },
    {
      "cell_type": "code",
      "metadata": {
        "id": "M43nBgIyVHLB",
        "colab_type": "code",
        "colab": {}
      },
      "source": [
        "# from sklearn.model_selection import train_test_split"
      ],
      "execution_count": null,
      "outputs": []
    },
    {
      "cell_type": "code",
      "metadata": {
        "id": "OT-qudyDVejG",
        "colab_type": "code",
        "colab": {}
      },
      "source": [
        "df_train, df_test = df_raw[:11000], df_raw[11000:]\n",
        "df_val, df_test = df_test[:600], df_test[600:]"
      ],
      "execution_count": null,
      "outputs": []
    },
    {
      "cell_type": "code",
      "metadata": {
        "id": "4tNluTYePD4c",
        "colab_type": "code",
        "colab": {
          "base_uri": "https://localhost:8080/",
          "height": 85
        },
        "outputId": "867f265a-831b-4440-bcc7-bd0fe7d8f0c6"
      },
      "source": [
        "print('Total data:', df_raw.shape[0])\n",
        "print('Total train data:', df_train.shape[0])\n",
        "print('Total validation data:', df_val.shape[0])\n",
        "print('Total test data:', df_test.shape[0])"
      ],
      "execution_count": null,
      "outputs": [
        {
          "output_type": "stream",
          "text": [
            "Total data: 12200\n",
            "Total train data: 11000\n",
            "Total validation data: 600\n",
            "Total test data: 600\n"
          ],
          "name": "stdout"
        }
      ]
    },
    {
      "cell_type": "code",
      "metadata": {
        "id": "FREoGgrQV9rm",
        "colab_type": "code",
        "colab": {}
      },
      "source": [
        "def pre_process(df: pd.DataFrame, num2text: bool) -> pd.DataFrame:\n",
        "    new_df = pd.DataFrame(columns=['inputs', 'targets'])\n",
        "\n",
        "    if num2text is True:\n",
        "        task = 'number to english'\n",
        "        new_df['inputs'] = df['number'].apply(lambda x: f'{task}: {x} </s>')\n",
        "        new_df['targets'] = df['text'].apply(lambda x: f'{x} </s>')\n",
        "    else: \n",
        "        task = 'english to number'\n",
        "        new_df['inputs'] = df['text'].apply(lambda x: f'{task}: {x} </s>')\n",
        "        new_df['targets'] = df['number'].apply(lambda x: f'{x} </s>')\n",
        "\n",
        "    return new_df"
      ],
      "execution_count": null,
      "outputs": []
    },
    {
      "cell_type": "code",
      "metadata": {
        "id": "FkmYZRZYbdJY",
        "colab_type": "code",
        "colab": {
          "base_uri": "https://localhost:8080/",
          "height": 204
        },
        "outputId": "1d0097e4-e2ca-4a58-ea7e-9aaa030fd835"
      },
      "source": [
        "pre_process(df_raw.tail(), num2text=False)"
      ],
      "execution_count": null,
      "outputs": [
        {
          "output_type": "execute_result",
          "data": {
            "text/html": [
              "<div>\n",
              "<style scoped>\n",
              "    .dataframe tbody tr th:only-of-type {\n",
              "        vertical-align: middle;\n",
              "    }\n",
              "\n",
              "    .dataframe tbody tr th {\n",
              "        vertical-align: top;\n",
              "    }\n",
              "\n",
              "    .dataframe thead th {\n",
              "        text-align: right;\n",
              "    }\n",
              "</style>\n",
              "<table border=\"1\" class=\"dataframe\">\n",
              "  <thead>\n",
              "    <tr style=\"text-align: right;\">\n",
              "      <th></th>\n",
              "      <th>inputs</th>\n",
              "      <th>targets</th>\n",
              "    </tr>\n",
              "  </thead>\n",
              "  <tbody>\n",
              "    <tr>\n",
              "      <th>12195</th>\n",
              "      <td>english to number: seven hundred eighty-six th...</td>\n",
              "      <td>7 8 6 6 9 9 &lt;/s&gt;</td>\n",
              "    </tr>\n",
              "    <tr>\n",
              "      <th>12196</th>\n",
              "      <td>english to number: eight hundred sixty-one tho...</td>\n",
              "      <td>8 6 1 1 1 7 &lt;/s&gt;</td>\n",
              "    </tr>\n",
              "    <tr>\n",
              "      <th>12197</th>\n",
              "      <td>english to number: five thousand two hundred t...</td>\n",
              "      <td>0 0 5 2 2 6 &lt;/s&gt;</td>\n",
              "    </tr>\n",
              "    <tr>\n",
              "      <th>12198</th>\n",
              "      <td>english to number: ninety-two thousand six hun...</td>\n",
              "      <td>0 9 2 6 4 7 &lt;/s&gt;</td>\n",
              "    </tr>\n",
              "    <tr>\n",
              "      <th>12199</th>\n",
              "      <td>english to number: two hundred five thousand s...</td>\n",
              "      <td>2 0 5 6 0 8 &lt;/s&gt;</td>\n",
              "    </tr>\n",
              "  </tbody>\n",
              "</table>\n",
              "</div>"
            ],
            "text/plain": [
              "                                                  inputs           targets\n",
              "12195  english to number: seven hundred eighty-six th...  7 8 6 6 9 9 </s>\n",
              "12196  english to number: eight hundred sixty-one tho...  8 6 1 1 1 7 </s>\n",
              "12197  english to number: five thousand two hundred t...  0 0 5 2 2 6 </s>\n",
              "12198  english to number: ninety-two thousand six hun...  0 9 2 6 4 7 </s>\n",
              "12199  english to number: two hundred five thousand s...  2 0 5 6 0 8 </s>"
            ]
          },
          "metadata": {
            "tags": []
          },
          "execution_count": 13
        }
      ]
    },
    {
      "cell_type": "markdown",
      "metadata": {
        "id": "x63cl_1lpFZF",
        "colab_type": "text"
      },
      "source": [
        "### Train dataset preparation"
      ]
    },
    {
      "cell_type": "code",
      "metadata": {
        "id": "A-surQQMbwWu",
        "colab_type": "code",
        "colab": {
          "base_uri": "https://localhost:8080/",
          "height": 34
        },
        "outputId": "85302e01-b720-4e28-f14d-cdff5e3a82a1"
      },
      "source": [
        "df_train_processed_1 = pre_process(df_train[0::2], num2text=False)\n",
        "df_train_processed_2 = pre_process(df_train[1::2], num2text=True)\n",
        "\n",
        "print(df_train_processed_1.shape[0], df_train_processed_2.shape[0])"
      ],
      "execution_count": null,
      "outputs": [
        {
          "output_type": "stream",
          "text": [
            "5500 5500\n"
          ],
          "name": "stdout"
        }
      ]
    },
    {
      "cell_type": "code",
      "metadata": {
        "id": "arGk_jVcmxrh",
        "colab_type": "code",
        "colab": {
          "base_uri": "https://localhost:8080/",
          "height": 34
        },
        "outputId": "47af283b-a64d-4412-98f0-f1fea91253c4"
      },
      "source": [
        "total_train_size = (df_train_processed_1.shape[0] + \n",
        "                    df_train_processed_2.shape[0])\n",
        "\n",
        "total_train_size"
      ],
      "execution_count": null,
      "outputs": [
        {
          "output_type": "execute_result",
          "data": {
            "text/plain": [
              "11000"
            ]
          },
          "metadata": {
            "tags": []
          },
          "execution_count": 15
        }
      ]
    },
    {
      "cell_type": "code",
      "metadata": {
        "id": "VXOspP_wm6wV",
        "colab_type": "code",
        "colab": {
          "base_uri": "https://localhost:8080/",
          "height": 436
        },
        "outputId": "bfd49bb3-9488-4112-e020-79392fef59d1"
      },
      "source": [
        "df_train_total = pd.concat([\n",
        "    df_train_processed_1,\n",
        "    df_train_processed_2,\n",
        "])\n",
        "\n",
        "df_train_total = (df_train_total\n",
        "                  .sample(frac=1.0, random_state=SEED)\n",
        "                  .reset_index(drop=True))\n",
        "\n",
        "del df_train_processed_1, df_train_processed_2\n",
        "\n",
        "print(df_train_total.shape)\n",
        "df_train_total"
      ],
      "execution_count": null,
      "outputs": [
        {
          "output_type": "stream",
          "text": [
            "(11000, 2)\n"
          ],
          "name": "stdout"
        },
        {
          "output_type": "execute_result",
          "data": {
            "text/html": [
              "<div>\n",
              "<style scoped>\n",
              "    .dataframe tbody tr th:only-of-type {\n",
              "        vertical-align: middle;\n",
              "    }\n",
              "\n",
              "    .dataframe tbody tr th {\n",
              "        vertical-align: top;\n",
              "    }\n",
              "\n",
              "    .dataframe thead th {\n",
              "        text-align: right;\n",
              "    }\n",
              "</style>\n",
              "<table border=\"1\" class=\"dataframe\">\n",
              "  <thead>\n",
              "    <tr style=\"text-align: right;\">\n",
              "      <th></th>\n",
              "      <th>inputs</th>\n",
              "      <th>targets</th>\n",
              "    </tr>\n",
              "  </thead>\n",
              "  <tbody>\n",
              "    <tr>\n",
              "      <th>0</th>\n",
              "      <td>english to number: three hundred nineteen thou...</td>\n",
              "      <td>3 1 9 0 8 4 &lt;/s&gt;</td>\n",
              "    </tr>\n",
              "    <tr>\n",
              "      <th>1</th>\n",
              "      <td>english to number: fifty-eight thousand forty-...</td>\n",
              "      <td>0 5 8 0 4 2 &lt;/s&gt;</td>\n",
              "    </tr>\n",
              "    <tr>\n",
              "      <th>2</th>\n",
              "      <td>number to english: 8 6 2 4 6 9 &lt;/s&gt;</td>\n",
              "      <td>eight hundred sixty-two thousand four hundred ...</td>\n",
              "    </tr>\n",
              "    <tr>\n",
              "      <th>3</th>\n",
              "      <td>english to number: six hundred twenty-six thou...</td>\n",
              "      <td>6 2 6 5 3 0 &lt;/s&gt;</td>\n",
              "    </tr>\n",
              "    <tr>\n",
              "      <th>4</th>\n",
              "      <td>english to number: eight hundred five thousand...</td>\n",
              "      <td>8 0 5 1 4 5 &lt;/s&gt;</td>\n",
              "    </tr>\n",
              "    <tr>\n",
              "      <th>...</th>\n",
              "      <td>...</td>\n",
              "      <td>...</td>\n",
              "    </tr>\n",
              "    <tr>\n",
              "      <th>10995</th>\n",
              "      <td>english to number: one hundred nineteen thousa...</td>\n",
              "      <td>1 1 9 2 1 6 &lt;/s&gt;</td>\n",
              "    </tr>\n",
              "    <tr>\n",
              "      <th>10996</th>\n",
              "      <td>english to number: three hundred ninety-nine t...</td>\n",
              "      <td>3 9 9 3 5 1 &lt;/s&gt;</td>\n",
              "    </tr>\n",
              "    <tr>\n",
              "      <th>10997</th>\n",
              "      <td>english to number: three hundred sixty-eight t...</td>\n",
              "      <td>3 6 8 2 9 7 &lt;/s&gt;</td>\n",
              "    </tr>\n",
              "    <tr>\n",
              "      <th>10998</th>\n",
              "      <td>number to english: 1 5 3 7 2 7 &lt;/s&gt;</td>\n",
              "      <td>one hundred fifty-three thousand seven hundred...</td>\n",
              "    </tr>\n",
              "    <tr>\n",
              "      <th>10999</th>\n",
              "      <td>number to english: 0 0 4 3 2 9 &lt;/s&gt;</td>\n",
              "      <td>four thousand three hundred twenty-nine &lt;/s&gt;</td>\n",
              "    </tr>\n",
              "  </tbody>\n",
              "</table>\n",
              "<p>11000 rows × 2 columns</p>\n",
              "</div>"
            ],
            "text/plain": [
              "                                                  inputs                                            targets\n",
              "0      english to number: three hundred nineteen thou...                                   3 1 9 0 8 4 </s>\n",
              "1      english to number: fifty-eight thousand forty-...                                   0 5 8 0 4 2 </s>\n",
              "2                    number to english: 8 6 2 4 6 9 </s>  eight hundred sixty-two thousand four hundred ...\n",
              "3      english to number: six hundred twenty-six thou...                                   6 2 6 5 3 0 </s>\n",
              "4      english to number: eight hundred five thousand...                                   8 0 5 1 4 5 </s>\n",
              "...                                                  ...                                                ...\n",
              "10995  english to number: one hundred nineteen thousa...                                   1 1 9 2 1 6 </s>\n",
              "10996  english to number: three hundred ninety-nine t...                                   3 9 9 3 5 1 </s>\n",
              "10997  english to number: three hundred sixty-eight t...                                   3 6 8 2 9 7 </s>\n",
              "10998                number to english: 1 5 3 7 2 7 </s>  one hundred fifty-three thousand seven hundred...\n",
              "10999                number to english: 0 0 4 3 2 9 </s>       four thousand three hundred twenty-nine </s>\n",
              "\n",
              "[11000 rows x 2 columns]"
            ]
          },
          "metadata": {
            "tags": []
          },
          "execution_count": 16
        }
      ]
    },
    {
      "cell_type": "code",
      "metadata": {
        "id": "Q0axbZ1yBc0-",
        "colab_type": "code",
        "colab": {
          "base_uri": "https://localhost:8080/",
          "height": 419
        },
        "outputId": "507da793-d028-4fed-85f3-106a57a85c51"
      },
      "source": [
        "df_train_total_encoded = pd.DataFrame()\n",
        "df_train_total_encoded['inputs'] = (df_train_total['inputs']\n",
        "                                    .apply(lambda x: tokenizer.encode(x, return_tensors='pt')))\n",
        "df_train_total_encoded['targets'] = (df_train_total['targets']\n",
        "                                     .apply(lambda x: tokenizer.encode(x, return_tensors='pt')))\n",
        "\n",
        "df_train_total_encoded"
      ],
      "execution_count": null,
      "outputs": [
        {
          "output_type": "execute_result",
          "data": {
            "text/html": [
              "<div>\n",
              "<style scoped>\n",
              "    .dataframe tbody tr th:only-of-type {\n",
              "        vertical-align: middle;\n",
              "    }\n",
              "\n",
              "    .dataframe tbody tr th {\n",
              "        vertical-align: top;\n",
              "    }\n",
              "\n",
              "    .dataframe thead th {\n",
              "        text-align: right;\n",
              "    }\n",
              "</style>\n",
              "<table border=\"1\" class=\"dataframe\">\n",
              "  <thead>\n",
              "    <tr style=\"text-align: right;\">\n",
              "      <th></th>\n",
              "      <th>inputs</th>\n",
              "      <th>targets</th>\n",
              "    </tr>\n",
              "  </thead>\n",
              "  <tbody>\n",
              "    <tr>\n",
              "      <th>0</th>\n",
              "      <td>[[tensor(22269), tensor(12), tensor(381), tens...</td>\n",
              "      <td>[[tensor(220), tensor(209), tensor(668), tenso...</td>\n",
              "    </tr>\n",
              "    <tr>\n",
              "      <th>1</th>\n",
              "      <td>[[tensor(22269), tensor(12), tensor(381), tens...</td>\n",
              "      <td>[[tensor(3), tensor(632), tensor(305), tensor(...</td>\n",
              "    </tr>\n",
              "    <tr>\n",
              "      <th>2</th>\n",
              "      <td>[[tensor(381), tensor(12), tensor(22269), tens...</td>\n",
              "      <td>[[tensor(2641), tensor(6189), tensor(27757), t...</td>\n",
              "    </tr>\n",
              "    <tr>\n",
              "      <th>3</th>\n",
              "      <td>[[tensor(22269), tensor(12), tensor(381), tens...</td>\n",
              "      <td>[[tensor(431), tensor(204), tensor(431), tenso...</td>\n",
              "    </tr>\n",
              "    <tr>\n",
              "      <th>4</th>\n",
              "      <td>[[tensor(22269), tensor(12), tensor(381), tens...</td>\n",
              "      <td>[[tensor(505), tensor(3), tensor(632), tensor(...</td>\n",
              "    </tr>\n",
              "    <tr>\n",
              "      <th>...</th>\n",
              "      <td>...</td>\n",
              "      <td>...</td>\n",
              "    </tr>\n",
              "    <tr>\n",
              "      <th>10995</th>\n",
              "      <td>[[tensor(22269), tensor(12), tensor(381), tens...</td>\n",
              "      <td>[[tensor(209), tensor(209), tensor(668), tenso...</td>\n",
              "    </tr>\n",
              "    <tr>\n",
              "      <th>10996</th>\n",
              "      <td>[[tensor(22269), tensor(12), tensor(381), tens...</td>\n",
              "      <td>[[tensor(220), tensor(668), tensor(668), tenso...</td>\n",
              "    </tr>\n",
              "    <tr>\n",
              "      <th>10997</th>\n",
              "      <td>[[tensor(22269), tensor(12), tensor(381), tens...</td>\n",
              "      <td>[[tensor(220), tensor(431), tensor(505), tenso...</td>\n",
              "    </tr>\n",
              "    <tr>\n",
              "      <th>10998</th>\n",
              "      <td>[[tensor(381), tensor(12), tensor(22269), tens...</td>\n",
              "      <td>[[tensor(80), tensor(6189), tensor(18358), ten...</td>\n",
              "    </tr>\n",
              "    <tr>\n",
              "      <th>10999</th>\n",
              "      <td>[[tensor(381), tensor(12), tensor(22269), tens...</td>\n",
              "      <td>[[tensor(662), tensor(7863), tensor(386), tens...</td>\n",
              "    </tr>\n",
              "  </tbody>\n",
              "</table>\n",
              "<p>11000 rows × 2 columns</p>\n",
              "</div>"
            ],
            "text/plain": [
              "                                                  inputs                                            targets\n",
              "0      [[tensor(22269), tensor(12), tensor(381), tens...  [[tensor(220), tensor(209), tensor(668), tenso...\n",
              "1      [[tensor(22269), tensor(12), tensor(381), tens...  [[tensor(3), tensor(632), tensor(305), tensor(...\n",
              "2      [[tensor(381), tensor(12), tensor(22269), tens...  [[tensor(2641), tensor(6189), tensor(27757), t...\n",
              "3      [[tensor(22269), tensor(12), tensor(381), tens...  [[tensor(431), tensor(204), tensor(431), tenso...\n",
              "4      [[tensor(22269), tensor(12), tensor(381), tens...  [[tensor(505), tensor(3), tensor(632), tensor(...\n",
              "...                                                  ...                                                ...\n",
              "10995  [[tensor(22269), tensor(12), tensor(381), tens...  [[tensor(209), tensor(209), tensor(668), tenso...\n",
              "10996  [[tensor(22269), tensor(12), tensor(381), tens...  [[tensor(220), tensor(668), tensor(668), tenso...\n",
              "10997  [[tensor(22269), tensor(12), tensor(381), tens...  [[tensor(220), tensor(431), tensor(505), tenso...\n",
              "10998  [[tensor(381), tensor(12), tensor(22269), tens...  [[tensor(80), tensor(6189), tensor(18358), ten...\n",
              "10999  [[tensor(381), tensor(12), tensor(22269), tens...  [[tensor(662), tensor(7863), tensor(386), tens...\n",
              "\n",
              "[11000 rows x 2 columns]"
            ]
          },
          "metadata": {
            "tags": []
          },
          "execution_count": 17
        }
      ]
    },
    {
      "cell_type": "markdown",
      "metadata": {
        "id": "uvPri4IppMuZ",
        "colab_type": "text"
      },
      "source": [
        "### Validation dataset preparation"
      ]
    },
    {
      "cell_type": "code",
      "metadata": {
        "id": "t4-IrREgofYR",
        "colab_type": "code",
        "colab": {
          "base_uri": "https://localhost:8080/",
          "height": 436
        },
        "outputId": "d8325c9d-f101-4de8-e771-c2df24c2313d"
      },
      "source": [
        "df_val_processed_1 = pre_process(df_val[0::2], num2text=False)\n",
        "df_val_processed_2 = pre_process(df_val[1::2], num2text=True)\n",
        "\n",
        "df_val_total = pd.concat([\n",
        "    df_val_processed_1,\n",
        "    df_val_processed_2\n",
        "])\n",
        "\n",
        "df_val_total = (df_val_total\n",
        "                .sample(frac=1.0, random_state=SEED)\n",
        "                .reset_index(drop=True))\n",
        "\n",
        "del df_val_processed_1, df_val_processed_2\n",
        "\n",
        "print(df_val_total.shape)\n",
        "df_val_total"
      ],
      "execution_count": null,
      "outputs": [
        {
          "output_type": "stream",
          "text": [
            "(600, 2)\n"
          ],
          "name": "stdout"
        },
        {
          "output_type": "execute_result",
          "data": {
            "text/html": [
              "<div>\n",
              "<style scoped>\n",
              "    .dataframe tbody tr th:only-of-type {\n",
              "        vertical-align: middle;\n",
              "    }\n",
              "\n",
              "    .dataframe tbody tr th {\n",
              "        vertical-align: top;\n",
              "    }\n",
              "\n",
              "    .dataframe thead th {\n",
              "        text-align: right;\n",
              "    }\n",
              "</style>\n",
              "<table border=\"1\" class=\"dataframe\">\n",
              "  <thead>\n",
              "    <tr style=\"text-align: right;\">\n",
              "      <th></th>\n",
              "      <th>inputs</th>\n",
              "      <th>targets</th>\n",
              "    </tr>\n",
              "  </thead>\n",
              "  <tbody>\n",
              "    <tr>\n",
              "      <th>0</th>\n",
              "      <td>number to english: 1 3 7 9 2 6 &lt;/s&gt;</td>\n",
              "      <td>one hundred thirty-seven thousand nine hundred...</td>\n",
              "    </tr>\n",
              "    <tr>\n",
              "      <th>1</th>\n",
              "      <td>english to number: two hundred eighty thousand...</td>\n",
              "      <td>2 8 0 0 8 9 &lt;/s&gt;</td>\n",
              "    </tr>\n",
              "    <tr>\n",
              "      <th>2</th>\n",
              "      <td>english to number: fifty thousand three hundre...</td>\n",
              "      <td>0 5 0 3 0 4 &lt;/s&gt;</td>\n",
              "    </tr>\n",
              "    <tr>\n",
              "      <th>3</th>\n",
              "      <td>english to number: three hundred five thousand...</td>\n",
              "      <td>3 0 5 8 8 3 &lt;/s&gt;</td>\n",
              "    </tr>\n",
              "    <tr>\n",
              "      <th>4</th>\n",
              "      <td>number to english: 6 0 7 0 5 1 &lt;/s&gt;</td>\n",
              "      <td>six hundred seven thousand fifty-one &lt;/s&gt;</td>\n",
              "    </tr>\n",
              "    <tr>\n",
              "      <th>...</th>\n",
              "      <td>...</td>\n",
              "      <td>...</td>\n",
              "    </tr>\n",
              "    <tr>\n",
              "      <th>595</th>\n",
              "      <td>english to number: forty-eight thousand one hu...</td>\n",
              "      <td>0 4 8 1 1 7 &lt;/s&gt;</td>\n",
              "    </tr>\n",
              "    <tr>\n",
              "      <th>596</th>\n",
              "      <td>number to english: 7 5 8 3 9 4 &lt;/s&gt;</td>\n",
              "      <td>seven hundred fifty-eight thousand three hundr...</td>\n",
              "    </tr>\n",
              "    <tr>\n",
              "      <th>597</th>\n",
              "      <td>english to number: eight hundred four thousand...</td>\n",
              "      <td>8 0 4 6 3 4 &lt;/s&gt;</td>\n",
              "    </tr>\n",
              "    <tr>\n",
              "      <th>598</th>\n",
              "      <td>number to english: 7 2 9 8 2 6 &lt;/s&gt;</td>\n",
              "      <td>seven hundred twenty-nine thousand eight hundr...</td>\n",
              "    </tr>\n",
              "    <tr>\n",
              "      <th>599</th>\n",
              "      <td>number to english: 1 2 6 4 7 0 &lt;/s&gt;</td>\n",
              "      <td>one hundred twenty-six thousand four hundred s...</td>\n",
              "    </tr>\n",
              "  </tbody>\n",
              "</table>\n",
              "<p>600 rows × 2 columns</p>\n",
              "</div>"
            ],
            "text/plain": [
              "                                                inputs                                            targets\n",
              "0                  number to english: 1 3 7 9 2 6 </s>  one hundred thirty-seven thousand nine hundred...\n",
              "1    english to number: two hundred eighty thousand...                                   2 8 0 0 8 9 </s>\n",
              "2    english to number: fifty thousand three hundre...                                   0 5 0 3 0 4 </s>\n",
              "3    english to number: three hundred five thousand...                                   3 0 5 8 8 3 </s>\n",
              "4                  number to english: 6 0 7 0 5 1 </s>          six hundred seven thousand fifty-one </s>\n",
              "..                                                 ...                                                ...\n",
              "595  english to number: forty-eight thousand one hu...                                   0 4 8 1 1 7 </s>\n",
              "596                number to english: 7 5 8 3 9 4 </s>  seven hundred fifty-eight thousand three hundr...\n",
              "597  english to number: eight hundred four thousand...                                   8 0 4 6 3 4 </s>\n",
              "598                number to english: 7 2 9 8 2 6 </s>  seven hundred twenty-nine thousand eight hundr...\n",
              "599                number to english: 1 2 6 4 7 0 </s>  one hundred twenty-six thousand four hundred s...\n",
              "\n",
              "[600 rows x 2 columns]"
            ]
          },
          "metadata": {
            "tags": []
          },
          "execution_count": 18
        }
      ]
    },
    {
      "cell_type": "code",
      "metadata": {
        "id": "c6a7ZdKEBi0I",
        "colab_type": "code",
        "colab": {
          "base_uri": "https://localhost:8080/",
          "height": 419
        },
        "outputId": "db0e4292-ee72-434a-9e96-38a235ef5ded"
      },
      "source": [
        "df_val_total_encoded = pd.DataFrame()\n",
        "df_val_total_encoded['inputs'] = (df_val_total['inputs']\n",
        "                                  .apply(lambda x: tokenizer.encode(x, return_tensors='pt')))\n",
        "df_val_total_encoded['targets'] = (df_val_total['targets']\n",
        "                                   .apply(lambda x: tokenizer.encode(x, return_tensors='pt')))\n",
        "\n",
        "df_val_total_encoded"
      ],
      "execution_count": null,
      "outputs": [
        {
          "output_type": "execute_result",
          "data": {
            "text/html": [
              "<div>\n",
              "<style scoped>\n",
              "    .dataframe tbody tr th:only-of-type {\n",
              "        vertical-align: middle;\n",
              "    }\n",
              "\n",
              "    .dataframe tbody tr th {\n",
              "        vertical-align: top;\n",
              "    }\n",
              "\n",
              "    .dataframe thead th {\n",
              "        text-align: right;\n",
              "    }\n",
              "</style>\n",
              "<table border=\"1\" class=\"dataframe\">\n",
              "  <thead>\n",
              "    <tr style=\"text-align: right;\">\n",
              "      <th></th>\n",
              "      <th>inputs</th>\n",
              "      <th>targets</th>\n",
              "    </tr>\n",
              "  </thead>\n",
              "  <tbody>\n",
              "    <tr>\n",
              "      <th>0</th>\n",
              "      <td>[[tensor(381), tensor(12), tensor(22269), tens...</td>\n",
              "      <td>[[tensor(80), tensor(6189), tensor(12010), ten...</td>\n",
              "    </tr>\n",
              "    <tr>\n",
              "      <th>1</th>\n",
              "      <td>[[tensor(22269), tensor(12), tensor(381), tens...</td>\n",
              "      <td>[[tensor(204), tensor(505), tensor(3), tensor(...</td>\n",
              "    </tr>\n",
              "    <tr>\n",
              "      <th>2</th>\n",
              "      <td>[[tensor(22269), tensor(12), tensor(381), tens...</td>\n",
              "      <td>[[tensor(3), tensor(632), tensor(305), tensor(...</td>\n",
              "    </tr>\n",
              "    <tr>\n",
              "      <th>3</th>\n",
              "      <td>[[tensor(22269), tensor(12), tensor(381), tens...</td>\n",
              "      <td>[[tensor(220), tensor(3), tensor(632), tensor(...</td>\n",
              "    </tr>\n",
              "    <tr>\n",
              "      <th>4</th>\n",
              "      <td>[[tensor(381), tensor(12), tensor(22269), tens...</td>\n",
              "      <td>[[tensor(1296), tensor(6189), tensor(2391), te...</td>\n",
              "    </tr>\n",
              "    <tr>\n",
              "      <th>...</th>\n",
              "      <td>...</td>\n",
              "      <td>...</td>\n",
              "    </tr>\n",
              "    <tr>\n",
              "      <th>595</th>\n",
              "      <td>[[tensor(22269), tensor(12), tensor(381), tens...</td>\n",
              "      <td>[[tensor(3), tensor(632), tensor(314), tensor(...</td>\n",
              "    </tr>\n",
              "    <tr>\n",
              "      <th>596</th>\n",
              "      <td>[[tensor(381), tensor(12), tensor(22269), tens...</td>\n",
              "      <td>[[tensor(2391), tensor(6189), tensor(18358), t...</td>\n",
              "    </tr>\n",
              "    <tr>\n",
              "      <th>597</th>\n",
              "      <td>[[tensor(22269), tensor(12), tensor(381), tens...</td>\n",
              "      <td>[[tensor(505), tensor(3), tensor(632), tensor(...</td>\n",
              "    </tr>\n",
              "    <tr>\n",
              "      <th>598</th>\n",
              "      <td>[[tensor(381), tensor(12), tensor(22269), tens...</td>\n",
              "      <td>[[tensor(2391), tensor(6189), tensor(6786), te...</td>\n",
              "    </tr>\n",
              "    <tr>\n",
              "      <th>599</th>\n",
              "      <td>[[tensor(381), tensor(12), tensor(22269), tens...</td>\n",
              "      <td>[[tensor(80), tensor(6189), tensor(6786), tens...</td>\n",
              "    </tr>\n",
              "  </tbody>\n",
              "</table>\n",
              "<p>600 rows × 2 columns</p>\n",
              "</div>"
            ],
            "text/plain": [
              "                                                inputs                                            targets\n",
              "0    [[tensor(381), tensor(12), tensor(22269), tens...  [[tensor(80), tensor(6189), tensor(12010), ten...\n",
              "1    [[tensor(22269), tensor(12), tensor(381), tens...  [[tensor(204), tensor(505), tensor(3), tensor(...\n",
              "2    [[tensor(22269), tensor(12), tensor(381), tens...  [[tensor(3), tensor(632), tensor(305), tensor(...\n",
              "3    [[tensor(22269), tensor(12), tensor(381), tens...  [[tensor(220), tensor(3), tensor(632), tensor(...\n",
              "4    [[tensor(381), tensor(12), tensor(22269), tens...  [[tensor(1296), tensor(6189), tensor(2391), te...\n",
              "..                                                 ...                                                ...\n",
              "595  [[tensor(22269), tensor(12), tensor(381), tens...  [[tensor(3), tensor(632), tensor(314), tensor(...\n",
              "596  [[tensor(381), tensor(12), tensor(22269), tens...  [[tensor(2391), tensor(6189), tensor(18358), t...\n",
              "597  [[tensor(22269), tensor(12), tensor(381), tens...  [[tensor(505), tensor(3), tensor(632), tensor(...\n",
              "598  [[tensor(381), tensor(12), tensor(22269), tens...  [[tensor(2391), tensor(6189), tensor(6786), te...\n",
              "599  [[tensor(381), tensor(12), tensor(22269), tens...  [[tensor(80), tensor(6189), tensor(6786), tens...\n",
              "\n",
              "[600 rows x 2 columns]"
            ]
          },
          "metadata": {
            "tags": []
          },
          "execution_count": 19
        }
      ]
    },
    {
      "cell_type": "markdown",
      "metadata": {
        "id": "4_PM9vlEpPuK",
        "colab_type": "text"
      },
      "source": [
        "### Test dataset preparation"
      ]
    },
    {
      "cell_type": "code",
      "metadata": {
        "id": "hE78AgWZpRSc",
        "colab_type": "code",
        "colab": {
          "base_uri": "https://localhost:8080/",
          "height": 436
        },
        "outputId": "2b4b42a1-ace3-4865-ee77-a14b744eff90"
      },
      "source": [
        "df_test_processed_1 = pre_process(df_test[0::2], num2text=False)\n",
        "df_test_processed_2 = pre_process(df_test[1::2], num2text=True)\n",
        "\n",
        "df_test_total = pd.concat([\n",
        "    df_test_processed_1,\n",
        "    df_test_processed_2\n",
        "])\n",
        "\n",
        "df_test_total = (df_test_total\n",
        "                 .sample(frac=1.0, random_state=SEED)\n",
        "                 .reset_index(drop=True))\n",
        "\n",
        "del df_test_processed_1, df_test_processed_2\n",
        "\n",
        "print(df_test_total.shape)\n",
        "df_test_total"
      ],
      "execution_count": null,
      "outputs": [
        {
          "output_type": "stream",
          "text": [
            "(600, 2)\n"
          ],
          "name": "stdout"
        },
        {
          "output_type": "execute_result",
          "data": {
            "text/html": [
              "<div>\n",
              "<style scoped>\n",
              "    .dataframe tbody tr th:only-of-type {\n",
              "        vertical-align: middle;\n",
              "    }\n",
              "\n",
              "    .dataframe tbody tr th {\n",
              "        vertical-align: top;\n",
              "    }\n",
              "\n",
              "    .dataframe thead th {\n",
              "        text-align: right;\n",
              "    }\n",
              "</style>\n",
              "<table border=\"1\" class=\"dataframe\">\n",
              "  <thead>\n",
              "    <tr style=\"text-align: right;\">\n",
              "      <th></th>\n",
              "      <th>inputs</th>\n",
              "      <th>targets</th>\n",
              "    </tr>\n",
              "  </thead>\n",
              "  <tbody>\n",
              "    <tr>\n",
              "      <th>0</th>\n",
              "      <td>number to english: 7 5 4 3 6 3 &lt;/s&gt;</td>\n",
              "      <td>seven hundred fifty-four thousand three hundre...</td>\n",
              "    </tr>\n",
              "    <tr>\n",
              "      <th>1</th>\n",
              "      <td>english to number: forty-one thousand eight hu...</td>\n",
              "      <td>0 4 1 8 8 5 &lt;/s&gt;</td>\n",
              "    </tr>\n",
              "    <tr>\n",
              "      <th>2</th>\n",
              "      <td>english to number: two hundred forty-eight tho...</td>\n",
              "      <td>2 4 8 0 9 5 &lt;/s&gt;</td>\n",
              "    </tr>\n",
              "    <tr>\n",
              "      <th>3</th>\n",
              "      <td>english to number: sixty-one thousand one hund...</td>\n",
              "      <td>0 6 1 1 8 4 &lt;/s&gt;</td>\n",
              "    </tr>\n",
              "    <tr>\n",
              "      <th>4</th>\n",
              "      <td>number to english: 4 7 3 0 9 5 &lt;/s&gt;</td>\n",
              "      <td>four hundred seventy-three thousand ninety-fiv...</td>\n",
              "    </tr>\n",
              "    <tr>\n",
              "      <th>...</th>\n",
              "      <td>...</td>\n",
              "      <td>...</td>\n",
              "    </tr>\n",
              "    <tr>\n",
              "      <th>595</th>\n",
              "      <td>english to number: eight hundred eighty-eight ...</td>\n",
              "      <td>8 8 8 2 5 1 &lt;/s&gt;</td>\n",
              "    </tr>\n",
              "    <tr>\n",
              "      <th>596</th>\n",
              "      <td>number to english: 6 5 2 0 1 4 &lt;/s&gt;</td>\n",
              "      <td>six hundred fifty-two thousand fourteen &lt;/s&gt;</td>\n",
              "    </tr>\n",
              "    <tr>\n",
              "      <th>597</th>\n",
              "      <td>english to number: three hundred six thousand ...</td>\n",
              "      <td>3 0 6 3 3 0 &lt;/s&gt;</td>\n",
              "    </tr>\n",
              "    <tr>\n",
              "      <th>598</th>\n",
              "      <td>number to english: 5 8 3 7 0 3 &lt;/s&gt;</td>\n",
              "      <td>five hundred eighty-three thousand seven hundr...</td>\n",
              "    </tr>\n",
              "    <tr>\n",
              "      <th>599</th>\n",
              "      <td>number to english: 0 9 3 2 0 5 &lt;/s&gt;</td>\n",
              "      <td>ninety-three thousand two hundred five &lt;/s&gt;</td>\n",
              "    </tr>\n",
              "  </tbody>\n",
              "</table>\n",
              "<p>600 rows × 2 columns</p>\n",
              "</div>"
            ],
            "text/plain": [
              "                                                inputs                                            targets\n",
              "0                  number to english: 7 5 4 3 6 3 </s>  seven hundred fifty-four thousand three hundre...\n",
              "1    english to number: forty-one thousand eight hu...                                   0 4 1 8 8 5 </s>\n",
              "2    english to number: two hundred forty-eight tho...                                   2 4 8 0 9 5 </s>\n",
              "3    english to number: sixty-one thousand one hund...                                   0 6 1 1 8 4 </s>\n",
              "4                  number to english: 4 7 3 0 9 5 </s>  four hundred seventy-three thousand ninety-fiv...\n",
              "..                                                 ...                                                ...\n",
              "595  english to number: eight hundred eighty-eight ...                                   8 8 8 2 5 1 </s>\n",
              "596                number to english: 6 5 2 0 1 4 </s>       six hundred fifty-two thousand fourteen </s>\n",
              "597  english to number: three hundred six thousand ...                                   3 0 6 3 3 0 </s>\n",
              "598                number to english: 5 8 3 7 0 3 </s>  five hundred eighty-three thousand seven hundr...\n",
              "599                number to english: 0 9 3 2 0 5 </s>        ninety-three thousand two hundred five </s>\n",
              "\n",
              "[600 rows x 2 columns]"
            ]
          },
          "metadata": {
            "tags": []
          },
          "execution_count": 20
        }
      ]
    },
    {
      "cell_type": "code",
      "metadata": {
        "id": "NKfZNup58Z0x",
        "colab_type": "code",
        "colab": {
          "base_uri": "https://localhost:8080/",
          "height": 419
        },
        "outputId": "e052175f-b94d-4d17-ac5f-22099497bb1c"
      },
      "source": [
        "df_test_total_encoded = pd.DataFrame()\n",
        "df_test_total_encoded['inputs'] = (df_test_total['inputs']\n",
        "                                   .apply(lambda x: tokenizer.encode(x, return_tensors='pt')))\n",
        "df_test_total_encoded['targets'] = (df_test_total['targets']\n",
        "                                    .apply(lambda x: tokenizer.encode(x, return_tensors='pt')))\n",
        "\n",
        "df_test_total_encoded"
      ],
      "execution_count": null,
      "outputs": [
        {
          "output_type": "execute_result",
          "data": {
            "text/html": [
              "<div>\n",
              "<style scoped>\n",
              "    .dataframe tbody tr th:only-of-type {\n",
              "        vertical-align: middle;\n",
              "    }\n",
              "\n",
              "    .dataframe tbody tr th {\n",
              "        vertical-align: top;\n",
              "    }\n",
              "\n",
              "    .dataframe thead th {\n",
              "        text-align: right;\n",
              "    }\n",
              "</style>\n",
              "<table border=\"1\" class=\"dataframe\">\n",
              "  <thead>\n",
              "    <tr style=\"text-align: right;\">\n",
              "      <th></th>\n",
              "      <th>inputs</th>\n",
              "      <th>targets</th>\n",
              "    </tr>\n",
              "  </thead>\n",
              "  <tbody>\n",
              "    <tr>\n",
              "      <th>0</th>\n",
              "      <td>[[tensor(381), tensor(12), tensor(22269), tens...</td>\n",
              "      <td>[[tensor(2391), tensor(6189), tensor(18358), t...</td>\n",
              "    </tr>\n",
              "    <tr>\n",
              "      <th>1</th>\n",
              "      <td>[[tensor(22269), tensor(12), tensor(381), tens...</td>\n",
              "      <td>[[tensor(3), tensor(632), tensor(314), tensor(...</td>\n",
              "    </tr>\n",
              "    <tr>\n",
              "      <th>2</th>\n",
              "      <td>[[tensor(22269), tensor(12), tensor(381), tens...</td>\n",
              "      <td>[[tensor(204), tensor(314), tensor(505), tenso...</td>\n",
              "    </tr>\n",
              "    <tr>\n",
              "      <th>3</th>\n",
              "      <td>[[tensor(22269), tensor(12), tensor(381), tens...</td>\n",
              "      <td>[[tensor(3), tensor(632), tensor(431), tensor(...</td>\n",
              "    </tr>\n",
              "    <tr>\n",
              "      <th>4</th>\n",
              "      <td>[[tensor(381), tensor(12), tensor(22269), tens...</td>\n",
              "      <td>[[tensor(662), tensor(6189), tensor(2391), ten...</td>\n",
              "    </tr>\n",
              "    <tr>\n",
              "      <th>...</th>\n",
              "      <td>...</td>\n",
              "      <td>...</td>\n",
              "    </tr>\n",
              "    <tr>\n",
              "      <th>595</th>\n",
              "      <td>[[tensor(22269), tensor(12), tensor(381), tens...</td>\n",
              "      <td>[[tensor(505), tensor(505), tensor(505), tenso...</td>\n",
              "    </tr>\n",
              "    <tr>\n",
              "      <th>596</th>\n",
              "      <td>[[tensor(381), tensor(12), tensor(22269), tens...</td>\n",
              "      <td>[[tensor(1296), tensor(6189), tensor(18358), t...</td>\n",
              "    </tr>\n",
              "    <tr>\n",
              "      <th>597</th>\n",
              "      <td>[[tensor(22269), tensor(12), tensor(381), tens...</td>\n",
              "      <td>[[tensor(220), tensor(3), tensor(632), tensor(...</td>\n",
              "    </tr>\n",
              "    <tr>\n",
              "      <th>598</th>\n",
              "      <td>[[tensor(381), tensor(12), tensor(22269), tens...</td>\n",
              "      <td>[[tensor(874), tensor(6189), tensor(2641), ten...</td>\n",
              "    </tr>\n",
              "    <tr>\n",
              "      <th>599</th>\n",
              "      <td>[[tensor(381), tensor(12), tensor(22269), tens...</td>\n",
              "      <td>[[tensor(4169), tensor(17), tensor(63), tensor...</td>\n",
              "    </tr>\n",
              "  </tbody>\n",
              "</table>\n",
              "<p>600 rows × 2 columns</p>\n",
              "</div>"
            ],
            "text/plain": [
              "                                                inputs                                            targets\n",
              "0    [[tensor(381), tensor(12), tensor(22269), tens...  [[tensor(2391), tensor(6189), tensor(18358), t...\n",
              "1    [[tensor(22269), tensor(12), tensor(381), tens...  [[tensor(3), tensor(632), tensor(314), tensor(...\n",
              "2    [[tensor(22269), tensor(12), tensor(381), tens...  [[tensor(204), tensor(314), tensor(505), tenso...\n",
              "3    [[tensor(22269), tensor(12), tensor(381), tens...  [[tensor(3), tensor(632), tensor(431), tensor(...\n",
              "4    [[tensor(381), tensor(12), tensor(22269), tens...  [[tensor(662), tensor(6189), tensor(2391), ten...\n",
              "..                                                 ...                                                ...\n",
              "595  [[tensor(22269), tensor(12), tensor(381), tens...  [[tensor(505), tensor(505), tensor(505), tenso...\n",
              "596  [[tensor(381), tensor(12), tensor(22269), tens...  [[tensor(1296), tensor(6189), tensor(18358), t...\n",
              "597  [[tensor(22269), tensor(12), tensor(381), tens...  [[tensor(220), tensor(3), tensor(632), tensor(...\n",
              "598  [[tensor(381), tensor(12), tensor(22269), tens...  [[tensor(874), tensor(6189), tensor(2641), ten...\n",
              "599  [[tensor(381), tensor(12), tensor(22269), tens...  [[tensor(4169), tensor(17), tensor(63), tensor...\n",
              "\n",
              "[600 rows x 2 columns]"
            ]
          },
          "metadata": {
            "tags": []
          },
          "execution_count": 21
        }
      ]
    },
    {
      "cell_type": "code",
      "metadata": {
        "id": "pIhLgy6b7TMt",
        "colab_type": "code",
        "colab": {}
      },
      "source": [
        "# df_test_total_encoded['inputs'] = df_test_total_encoded['inputs'].astype(int)\n",
        "# df_test_total_encoded['targets'] = df_test_total_encoded['targets'].astype(int)"
      ],
      "execution_count": null,
      "outputs": []
    },
    {
      "cell_type": "code",
      "metadata": {
        "id": "6YrfqRVZ8Bpq",
        "colab_type": "code",
        "colab": {
          "base_uri": "https://localhost:8080/",
          "height": 170
        },
        "outputId": "c5aa1b94-6882-422d-8da2-0119c00f1e11"
      },
      "source": [
        "df_test_total_encoded.info()"
      ],
      "execution_count": null,
      "outputs": [
        {
          "output_type": "stream",
          "text": [
            "<class 'pandas.core.frame.DataFrame'>\n",
            "RangeIndex: 600 entries, 0 to 599\n",
            "Data columns (total 2 columns):\n",
            " #   Column   Non-Null Count  Dtype \n",
            "---  ------   --------------  ----- \n",
            " 0   inputs   600 non-null    object\n",
            " 1   targets  600 non-null    object\n",
            "dtypes: object(2)\n",
            "memory usage: 9.5+ KB\n"
          ],
          "name": "stdout"
        }
      ]
    },
    {
      "cell_type": "code",
      "metadata": {
        "id": "R5XkKXtj8xNI",
        "colab_type": "code",
        "colab": {}
      },
      "source": [
        "def generate_batch(df, batch_size=128):\n",
        "    i = 0\n",
        "\n",
        "    def add_pad(tensor):\n",
        "        max_len = max([x.squeeze().numel() for x in tensor])\n",
        "        tensor = [F.pad(x, pad=(0, max_len - x.numel()), mode='constant', value=0) for x in tensor]\n",
        "        tensor = torch.stack(tensor).squeeze()\n",
        "        return tensor\n",
        "\n",
        "    while True:\n",
        "        rows = df.iloc[i*batch_size : (i+1)*batch_size, :]\n",
        "        \n",
        "        if len(rows) == 0:\n",
        "            break\n",
        "            \n",
        "        inputs, targets = rows['inputs'].values, rows['targets'].values\n",
        "\n",
        "        inputs, targets = add_pad(inputs), add_pad(targets)\n",
        "\n",
        "        yield inputs, targets\n",
        "        i += 1"
      ],
      "execution_count": null,
      "outputs": []
    },
    {
      "cell_type": "markdown",
      "metadata": {
        "id": "LrsCj1uN8yjp",
        "colab_type": "text"
      },
      "source": [
        "### Train"
      ]
    },
    {
      "cell_type": "code",
      "metadata": {
        "id": "6wxBXZxTAs5b",
        "colab_type": "code",
        "colab": {}
      },
      "source": [
        "n_epochs = 10\n",
        "batch_size = 128\n",
        "lr = 0.001\n",
        "optimizer = transformers.AdamW(model.parameters(), lr=lr)"
      ],
      "execution_count": null,
      "outputs": []
    },
    {
      "cell_type": "code",
      "metadata": {
        "id": "bk5eOS6m8tBI",
        "colab_type": "code",
        "colab": {}
      },
      "source": [
        "def evaluate(df = df_val_total_encoded):\n",
        "    model.eval()\n",
        "    val_loss = 0.0\n",
        "\n",
        "    for inputs, targets in generate_batch(df, batch_size=batch_size):\n",
        "        inputs, targets = inputs.cuda(), targets.cuda()\n",
        "        loss, _, _, _ = model(input_ids=inputs, labels=targets)\n",
        "        val_loss += loss.item()\n",
        "\n",
        "    val_loss /= len(df.iloc[::batch_size, :])\n",
        "\n",
        "    random_index = np.random.choice(20)\n",
        "    input = inputs[random_index].cuda()\n",
        "    output = model.generate(input.unsqueeze(0))\n",
        "    output = tokenizer.decode(output[0])\n",
        "\n",
        "    model.train()\n",
        "\n",
        "    return val_loss, tokenizer.decode(input), output\n",
        "        \n",
        "\n",
        "def train(df = df_train_total_encoded):\n",
        "    model.train()\n",
        "\n",
        "    for epoch in range(n_epochs):\n",
        "        \n",
        "        epoch_loss = 0.0\n",
        "        \n",
        "        # get all sentences and corresponding tags in the training data\n",
        "        for inputs, targets in tqdm(generate_batch(df, batch_size=batch_size)):\n",
        "            inputs, targets = inputs.cuda(), targets.cuda()\n",
        "            \n",
        "            model.zero_grad()\n",
        "\n",
        "            loss, _, _, _ = model(input_ids=inputs, labels=targets)\n",
        "            epoch_loss += loss.item()\n",
        "            loss.backward()\n",
        "            \n",
        "            optimizer.step()\n",
        "            \n",
        "        # print out avg loss per 1 epochs\n",
        "        if(epoch%1 == 0):\n",
        "            val_loss, input, output = evaluate()\n",
        "\n",
        "            print(f\"Epoch: {epoch+1}, |\",\n",
        "            f\"Training loss: {epoch_loss/len(df.iloc[::batch_size, :]):2.6f} |\",\n",
        "            f\"Val loss: {val_loss:2.6f} |\",\n",
        "            f'\\n',\n",
        "            f'Input=> \"{input:}\" |',\n",
        "            f'Pred output=> \"{output:}\" |')\n",
        "\n",
        "    model.eval()"
      ],
      "execution_count": null,
      "outputs": []
    },
    {
      "cell_type": "code",
      "metadata": {
        "id": "9dGw0NJwHupp",
        "colab_type": "code",
        "colab": {
          "base_uri": "https://localhost:8080/",
          "height": 847,
          "referenced_widgets": [
            "992fc138e020429096b20b084da9319d",
            "7d395c1b32584e9dbdd646ce830a916b",
            "e7b4f9a5efff4147a79241ee4f02a004",
            "933f5ac50648406f9dbda7fc3e96339d",
            "e099525eb49a425cbd68cceb9aeb06c2",
            "67757c058d0f4728bd1c1608362f87c7",
            "903dbc1e86f44bc2900c6e2de21b460f",
            "2cafeeed045c4d8d8b8a9bacb027b01b",
            "c563bbe12ef44c71bdb46f5a9a4c13e9",
            "bc07dd10a59d4dbf8c05400abc1c9df5",
            "13ae75f09bc74af685e0fc945a8cb844",
            "57694961ee4c4dd094b74ae2130b2b81",
            "79ad9c37ac9446aa87a4bda35d74cc2b",
            "1dfaed554ab84f98b36316e7056addbc",
            "41bec68194c54b95ac6fe545cd288183",
            "9338dabf01d84f179d72544128078318",
            "847d5d7d1da64df9b808823304bf0dc4",
            "8d966780566b425e97da684b65f7cd7b",
            "1095e12901414e1c8f52df6fee794318",
            "c0d7bb9bbb0d45a98883b1de4b54cd10",
            "b0689f3797ff4e68bedc72c88f053f55",
            "1920fc8e45eb4407bbbfbbc6221610ca",
            "595586757afb4d00abf4126bd86c0c98",
            "546c8c6b102344849ae959c6c71b89a1",
            "cd73e85212824e19a0a930e0a96ef3a4",
            "dfdec4c5563a4c638fda9a2b2ee92a85",
            "eeb6db0fa32140b9b297e28c82ec004d",
            "38d7eb8620fc46288f2d7695b1bb67b4",
            "ffc3b3a9179e4ab58d5fd188b7aa06ac",
            "8ccd0525298943deb33b4ca8216edb73",
            "10e1d2f760ce467fa43293ff6a67af87",
            "0b28e0214506415ea42eab7532dd3ca4",
            "3d40e86a22544c89976976a7cc67a88b",
            "b14df64e462e41fdb3e5207e34d5140b",
            "d069427a44624f7b89fda18ad14b5ece",
            "7133ee796601401d8c644ccc502a321e",
            "841004db609d4b6caf3d5eb4a4c71156",
            "67d183db141d409694c1e79fb0110431",
            "67363a26ea4b4017bf384b0c2bc56853",
            "753a410c05fd47248667f9352cb50c8e",
            "09bda7e1a83840fba94329088da083fc",
            "a1d159a5ec024e4894df8db4a70532e6",
            "acb05e26058342a980f902b15e82e2f2",
            "74d75e2e1c534ddd9d0d5e6d648b6e36",
            "9b552ae6c4b3429188f6743282a8c5ec",
            "87bf9817f8c843bf8d666fd923565363",
            "272d8d3a978c4d8b8b3b554dac941df6",
            "4829f1e0757346ab8207de93b60b7f62",
            "7a5dbcff6c7142c59225a6e614757675",
            "691cc0ee2ede4a52b858629fe118d0e5",
            "89df2fed10284e75ab56d72987cca155",
            "ca9388a44e344e67bb22a272eb7d2c09",
            "67131a6732014ac89b89eeeddcdf864f",
            "5bea55f07f034b0bbd1fa55f68d4f7c2",
            "79fc1e339f4e4c8fb6157f53b21dd6b2",
            "98ab2b4f742c4c6cb033482b99734d03",
            "21f553d41bc74cbea80f2f599ab3fa4c",
            "5e58abbc1615412bb5a2138f6de0eb2c",
            "a7db57fa7aa5489790eb17b478d2ddd3",
            "440238bfba554d639243e5c6fb64efc4",
            "b94c0680272145b1b71ea222f1f69ba8",
            "86bc0b5dd5cb44aa82bdb643f2ebea61",
            "18d8bf5605ea4122b3bbf6bda2dde65f",
            "de771bf4d13b47bb91cf56afde310f6c",
            "cc6fbbaecaf640e78ae8f70a9a5ce72d",
            "410a7101ee9a4d368f64ab1028338cf4",
            "900844a420bd4423bb5d1d0329d14dab",
            "478251974f6649ca8af6fec08eee4710",
            "7d38ed406b0d4e1182f943a7b3d917cb",
            "2646d8e36f3249bc9b0e34ceb92fcdcc",
            "fb0cad9044fd4859a0b1be633fff0724",
            "68fba92050f5435f9434df7a5d8bbfde",
            "f5b67f7b62144015a904d2ca188c5fa5",
            "699e713f33d14e948b69049c875ade57",
            "cc21d991117f464ea86c039c3384efc9",
            "9d6e2f519a2d4ee49019476924e3dcab",
            "bbf2a4380c2e4fcd9fd86668fbaaca63",
            "168e0eada60841fbb5ba3e34645170a5",
            "c13f4ccab22c43caba3a16fbfeb1196f",
            "78bd3a9c1d964de1bb7be675498940c1"
          ]
        },
        "outputId": "674b21e1-fa44-4d2d-e671-5553515e7623"
      },
      "source": [
        "train()"
      ],
      "execution_count": null,
      "outputs": [
        {
          "output_type": "display_data",
          "data": {
            "application/vnd.jupyter.widget-view+json": {
              "model_id": "992fc138e020429096b20b084da9319d",
              "version_minor": 0,
              "version_major": 2
            },
            "text/plain": [
              "HBox(children=(FloatProgress(value=1.0, bar_style='info', max=1.0), HTML(value='')))"
            ]
          },
          "metadata": {
            "tags": []
          }
        },
        {
          "output_type": "stream",
          "text": [
            "\n",
            "Epoch: 1, | Training loss: 0.596681 | Val loss: 0.028388 | \n",
            " Input=> \"number to english: 2 2 1 9 6 0\" | Pred output=> \"two hundred twenty-one thousand nine hundred sixty\" |\n"
          ],
          "name": "stdout"
        },
        {
          "output_type": "display_data",
          "data": {
            "application/vnd.jupyter.widget-view+json": {
              "model_id": "c563bbe12ef44c71bdb46f5a9a4c13e9",
              "version_minor": 0,
              "version_major": 2
            },
            "text/plain": [
              "HBox(children=(FloatProgress(value=1.0, bar_style='info', max=1.0), HTML(value='')))"
            ]
          },
          "metadata": {
            "tags": []
          }
        },
        {
          "output_type": "stream",
          "text": [
            "\n",
            "Epoch: 2, | Training loss: 0.043528 | Val loss: 0.004799 | \n",
            " Input=> \"number to english: 0 7 1 4 1 1\" | Pred output=> \"seventy-one thousand four hundred eleven\" |\n"
          ],
          "name": "stdout"
        },
        {
          "output_type": "display_data",
          "data": {
            "application/vnd.jupyter.widget-view+json": {
              "model_id": "847d5d7d1da64df9b808823304bf0dc4",
              "version_minor": 0,
              "version_major": 2
            },
            "text/plain": [
              "HBox(children=(FloatProgress(value=1.0, bar_style='info', max=1.0), HTML(value='')))"
            ]
          },
          "metadata": {
            "tags": []
          }
        },
        {
          "output_type": "stream",
          "text": [
            "\n",
            "Epoch: 3, | Training loss: 0.015557 | Val loss: 0.000634 | \n",
            " Input=> \"number to english: 2 2 1 9 6 0\" | Pred output=> \"two hundred twenty-one thousand nine hundred sixty\" |\n"
          ],
          "name": "stdout"
        },
        {
          "output_type": "display_data",
          "data": {
            "application/vnd.jupyter.widget-view+json": {
              "model_id": "cd73e85212824e19a0a930e0a96ef3a4",
              "version_minor": 0,
              "version_major": 2
            },
            "text/plain": [
              "HBox(children=(FloatProgress(value=1.0, bar_style='info', max=1.0), HTML(value='')))"
            ]
          },
          "metadata": {
            "tags": []
          }
        },
        {
          "output_type": "stream",
          "text": [
            "\n",
            "Epoch: 4, | Training loss: 0.009645 | Val loss: 0.000228 | \n",
            " Input=> \"english to number: thirty-two thousand eight hundred forty-one\" | Pred output=> \"0 3 2 8 4 1\" |\n"
          ],
          "name": "stdout"
        },
        {
          "output_type": "display_data",
          "data": {
            "application/vnd.jupyter.widget-view+json": {
              "model_id": "3d40e86a22544c89976976a7cc67a88b",
              "version_minor": 0,
              "version_major": 2
            },
            "text/plain": [
              "HBox(children=(FloatProgress(value=1.0, bar_style='info', max=1.0), HTML(value='')))"
            ]
          },
          "metadata": {
            "tags": []
          }
        },
        {
          "output_type": "stream",
          "text": [
            "\n",
            "Epoch: 5, | Training loss: 0.007348 | Val loss: 0.000418 | \n",
            " Input=> \"number to english: 0 7 2 0 0 6\" | Pred output=> \"seventy-two thousand six\" |\n"
          ],
          "name": "stdout"
        },
        {
          "output_type": "display_data",
          "data": {
            "application/vnd.jupyter.widget-view+json": {
              "model_id": "09bda7e1a83840fba94329088da083fc",
              "version_minor": 0,
              "version_major": 2
            },
            "text/plain": [
              "HBox(children=(FloatProgress(value=1.0, bar_style='info', max=1.0), HTML(value='')))"
            ]
          },
          "metadata": {
            "tags": []
          }
        },
        {
          "output_type": "stream",
          "text": [
            "\n",
            "Epoch: 6, | Training loss: 0.006231 | Val loss: 0.000324 | \n",
            " Input=> \"number to english: 3 6 6 2 4 3\" | Pred output=> \"three hundred sixty-six thousand two hundred forty-three\" |\n"
          ],
          "name": "stdout"
        },
        {
          "output_type": "display_data",
          "data": {
            "application/vnd.jupyter.widget-view+json": {
              "model_id": "7a5dbcff6c7142c59225a6e614757675",
              "version_minor": 0,
              "version_major": 2
            },
            "text/plain": [
              "HBox(children=(FloatProgress(value=1.0, bar_style='info', max=1.0), HTML(value='')))"
            ]
          },
          "metadata": {
            "tags": []
          }
        },
        {
          "output_type": "stream",
          "text": [
            "\n",
            "Epoch: 7, | Training loss: 0.004516 | Val loss: 0.000470 | \n",
            " Input=> \"number to english: 0 6 4 5 8 8\" | Pred output=> \"sixty-four thousand five hundred eighty-eight\" |\n"
          ],
          "name": "stdout"
        },
        {
          "output_type": "display_data",
          "data": {
            "application/vnd.jupyter.widget-view+json": {
              "model_id": "21f553d41bc74cbea80f2f599ab3fa4c",
              "version_minor": 0,
              "version_major": 2
            },
            "text/plain": [
              "HBox(children=(FloatProgress(value=1.0, bar_style='info', max=1.0), HTML(value='')))"
            ]
          },
          "metadata": {
            "tags": []
          }
        },
        {
          "output_type": "stream",
          "text": [
            "\n",
            "Epoch: 8, | Training loss: 0.003986 | Val loss: 0.000125 | \n",
            " Input=> \"number to english: 3 0 4 5 7 1\" | Pred output=> \"three hundred four thousand five hundred seventy-one\" |\n"
          ],
          "name": "stdout"
        },
        {
          "output_type": "display_data",
          "data": {
            "application/vnd.jupyter.widget-view+json": {
              "model_id": "cc6fbbaecaf640e78ae8f70a9a5ce72d",
              "version_minor": 0,
              "version_major": 2
            },
            "text/plain": [
              "HBox(children=(FloatProgress(value=1.0, bar_style='info', max=1.0), HTML(value='')))"
            ]
          },
          "metadata": {
            "tags": []
          }
        },
        {
          "output_type": "stream",
          "text": [
            "\n",
            "Epoch: 9, | Training loss: 0.002570 | Val loss: 0.000344 | \n",
            " Input=> \"number to english: 2 2 1 9 6 0\" | Pred output=> \"two hundred twenty-one thousand nine hundred sixty\" |\n"
          ],
          "name": "stdout"
        },
        {
          "output_type": "display_data",
          "data": {
            "application/vnd.jupyter.widget-view+json": {
              "model_id": "f5b67f7b62144015a904d2ca188c5fa5",
              "version_minor": 0,
              "version_major": 2
            },
            "text/plain": [
              "HBox(children=(FloatProgress(value=1.0, bar_style='info', max=1.0), HTML(value='')))"
            ]
          },
          "metadata": {
            "tags": []
          }
        },
        {
          "output_type": "stream",
          "text": [
            "\n",
            "Epoch: 10, | Training loss: 0.002230 | Val loss: 0.000130 | \n",
            " Input=> \"english to number: one hundred seventy-one thousand eight hundred eighty-nine\" | Pred output=> \"1 7 1 8 8 9\" |\n"
          ],
          "name": "stdout"
        }
      ]
    },
    {
      "cell_type": "code",
      "metadata": {
        "id": "Ye06r-tvJXwE",
        "colab_type": "code",
        "colab": {
          "base_uri": "https://localhost:8080/",
          "height": 54
        },
        "outputId": "42d690bd-3b52-4a84-e0d3-fb9b23d3324d"
      },
      "source": [
        "test_loss, input, output = evaluate(df_test_total_encoded)\n",
        "\n",
        "print(f\"Test loss: {test_loss:2.5f} |\",\n",
        "      f'Input=> \"{input:}\" |',\n",
        "      f'Pred output=> \"{output:}\" |')"
      ],
      "execution_count": null,
      "outputs": [
        {
          "output_type": "stream",
          "text": [
            "Test loss: 0.00016 | Input=> \"number to english: 1 4 6 4 6 5\" | Pred output=> \"one hundred forty-six thousand four hundred sixty-five\" |\n"
          ],
          "name": "stdout"
        }
      ]
    },
    {
      "cell_type": "markdown",
      "metadata": {
        "id": "HMi5y9WdzRdf",
        "colab_type": "text"
      },
      "source": [
        "### Save model"
      ]
    },
    {
      "cell_type": "code",
      "metadata": {
        "id": "QtKTDC9UTuDs",
        "colab_type": "code",
        "colab": {}
      },
      "source": [
        "PATH = 'num_and_eng_3.pt'\n",
        "torch.save(model.state_dict(), PATH)"
      ],
      "execution_count": null,
      "outputs": []
    },
    {
      "cell_type": "markdown",
      "metadata": {
        "id": "r8MuUCjPzUgc",
        "colab_type": "text"
      },
      "source": [
        "### Load model"
      ]
    },
    {
      "cell_type": "code",
      "metadata": {
        "id": "BYhd9GGozWVF",
        "colab_type": "code",
        "colab": {
          "base_uri": "https://localhost:8080/",
          "height": 88
        },
        "outputId": "3fa9425f-4747-44c4-ca8d-4a9d65f2d78a"
      },
      "source": [
        "model = AutoModelForSeq2SeqLM.from_pretrained(\"t5-small\")\n",
        "model.load_state_dict(torch.load(PATH))"
      ],
      "execution_count": null,
      "outputs": [
        {
          "output_type": "stream",
          "text": [
            "Some weights of T5ForConditionalGeneration were not initialized from the model checkpoint at t5-small and are newly initialized: ['encoder.embed_tokens.weight', 'decoder.embed_tokens.weight', 'lm_head.weight']\n",
            "You should probably TRAIN this model on a down-stream task to be able to use it for predictions and inference.\n"
          ],
          "name": "stderr"
        },
        {
          "output_type": "execute_result",
          "data": {
            "text/plain": [
              "<All keys matched successfully>"
            ]
          },
          "metadata": {
            "tags": []
          },
          "execution_count": 32
        }
      ]
    },
    {
      "cell_type": "markdown",
      "metadata": {
        "id": "1q7jGTlB0ilH",
        "colab_type": "text"
      },
      "source": [
        "### Save at G-Drive"
      ]
    },
    {
      "cell_type": "code",
      "metadata": {
        "id": "BCVSnS7tzreT",
        "colab_type": "code",
        "colab": {}
      },
      "source": [
        "from google.colab import drive\n",
        "drive.mount('/gdrive')"
      ],
      "execution_count": null,
      "outputs": []
    },
    {
      "cell_type": "code",
      "metadata": {
        "id": "jYP432dVz8oN",
        "colab_type": "code",
        "colab": {}
      },
      "source": [
        "!cp num_and_eng_3.pt /gdrive/My\\ Drive"
      ],
      "execution_count": null,
      "outputs": []
    },
    {
      "cell_type": "code",
      "metadata": {
        "id": "vhBKR6zA03pz",
        "colab_type": "code",
        "colab": {}
      },
      "source": [
        ""
      ],
      "execution_count": null,
      "outputs": []
    }
  ]
}