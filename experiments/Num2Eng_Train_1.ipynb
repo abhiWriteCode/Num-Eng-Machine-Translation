{
  "nbformat": 4,
  "nbformat_minor": 0,
  "metadata": {
    "colab": {
      "name": "Num2Eng Train - 1",
      "provenance": [],
      "collapsed_sections": [],
      "toc_visible": true
    },
    "kernelspec": {
      "name": "python3",
      "display_name": "Python 3"
    },
    "widgets": {
      "application/vnd.jupyter.widget-state+json": {
        "f21649eddd5c4d5c80ab0fe6975a215e": {
          "model_module": "@jupyter-widgets/controls",
          "model_name": "HBoxModel",
          "state": {
            "_view_name": "HBoxView",
            "_dom_classes": [],
            "_model_name": "HBoxModel",
            "_view_module": "@jupyter-widgets/controls",
            "_model_module_version": "1.5.0",
            "_view_count": null,
            "_view_module_version": "1.5.0",
            "box_style": "",
            "layout": "IPY_MODEL_e59b7236badf4523aa2901c6bc972658",
            "_model_module": "@jupyter-widgets/controls",
            "children": [
              "IPY_MODEL_b3df86a17782412d8e539a8fc1c56f29",
              "IPY_MODEL_f68937faf946483e90328b7fe13d9f85"
            ]
          }
        },
        "e59b7236badf4523aa2901c6bc972658": {
          "model_module": "@jupyter-widgets/base",
          "model_name": "LayoutModel",
          "state": {
            "_view_name": "LayoutView",
            "grid_template_rows": null,
            "right": null,
            "justify_content": null,
            "_view_module": "@jupyter-widgets/base",
            "overflow": null,
            "_model_module_version": "1.2.0",
            "_view_count": null,
            "flex_flow": null,
            "width": null,
            "min_width": null,
            "border": null,
            "align_items": null,
            "bottom": null,
            "_model_module": "@jupyter-widgets/base",
            "top": null,
            "grid_column": null,
            "overflow_y": null,
            "overflow_x": null,
            "grid_auto_flow": null,
            "grid_area": null,
            "grid_template_columns": null,
            "flex": null,
            "_model_name": "LayoutModel",
            "justify_items": null,
            "grid_row": null,
            "max_height": null,
            "align_content": null,
            "visibility": null,
            "align_self": null,
            "height": null,
            "min_height": null,
            "padding": null,
            "grid_auto_rows": null,
            "grid_gap": null,
            "max_width": null,
            "order": null,
            "_view_module_version": "1.2.0",
            "grid_template_areas": null,
            "object_position": null,
            "object_fit": null,
            "grid_auto_columns": null,
            "margin": null,
            "display": null,
            "left": null
          }
        },
        "b3df86a17782412d8e539a8fc1c56f29": {
          "model_module": "@jupyter-widgets/controls",
          "model_name": "FloatProgressModel",
          "state": {
            "_view_name": "ProgressView",
            "style": "IPY_MODEL_d8109a8c67a3463fa0aa70468a1a141c",
            "_dom_classes": [],
            "description": "",
            "_model_name": "FloatProgressModel",
            "bar_style": "success",
            "max": 1,
            "_view_module": "@jupyter-widgets/controls",
            "_model_module_version": "1.5.0",
            "value": 1,
            "_view_count": null,
            "_view_module_version": "1.5.0",
            "orientation": "horizontal",
            "min": 0,
            "description_tooltip": null,
            "_model_module": "@jupyter-widgets/controls",
            "layout": "IPY_MODEL_106e3c978c894ee3ac97f8d21d667154"
          }
        },
        "f68937faf946483e90328b7fe13d9f85": {
          "model_module": "@jupyter-widgets/controls",
          "model_name": "HTMLModel",
          "state": {
            "_view_name": "HTMLView",
            "style": "IPY_MODEL_0397a8b49ef641168ff61a94cf571cbb",
            "_dom_classes": [],
            "description": "",
            "_model_name": "HTMLModel",
            "placeholder": "​",
            "_view_module": "@jupyter-widgets/controls",
            "_model_module_version": "1.5.0",
            "value": " 115/? [02:20&lt;00:00,  1.23s/it]",
            "_view_count": null,
            "_view_module_version": "1.5.0",
            "description_tooltip": null,
            "_model_module": "@jupyter-widgets/controls",
            "layout": "IPY_MODEL_d717466787ea442bb2f375b907c483c7"
          }
        },
        "d8109a8c67a3463fa0aa70468a1a141c": {
          "model_module": "@jupyter-widgets/controls",
          "model_name": "ProgressStyleModel",
          "state": {
            "_view_name": "StyleView",
            "_model_name": "ProgressStyleModel",
            "description_width": "initial",
            "_view_module": "@jupyter-widgets/base",
            "_model_module_version": "1.5.0",
            "_view_count": null,
            "_view_module_version": "1.2.0",
            "bar_color": null,
            "_model_module": "@jupyter-widgets/controls"
          }
        },
        "106e3c978c894ee3ac97f8d21d667154": {
          "model_module": "@jupyter-widgets/base",
          "model_name": "LayoutModel",
          "state": {
            "_view_name": "LayoutView",
            "grid_template_rows": null,
            "right": null,
            "justify_content": null,
            "_view_module": "@jupyter-widgets/base",
            "overflow": null,
            "_model_module_version": "1.2.0",
            "_view_count": null,
            "flex_flow": null,
            "width": null,
            "min_width": null,
            "border": null,
            "align_items": null,
            "bottom": null,
            "_model_module": "@jupyter-widgets/base",
            "top": null,
            "grid_column": null,
            "overflow_y": null,
            "overflow_x": null,
            "grid_auto_flow": null,
            "grid_area": null,
            "grid_template_columns": null,
            "flex": null,
            "_model_name": "LayoutModel",
            "justify_items": null,
            "grid_row": null,
            "max_height": null,
            "align_content": null,
            "visibility": null,
            "align_self": null,
            "height": null,
            "min_height": null,
            "padding": null,
            "grid_auto_rows": null,
            "grid_gap": null,
            "max_width": null,
            "order": null,
            "_view_module_version": "1.2.0",
            "grid_template_areas": null,
            "object_position": null,
            "object_fit": null,
            "grid_auto_columns": null,
            "margin": null,
            "display": null,
            "left": null
          }
        },
        "0397a8b49ef641168ff61a94cf571cbb": {
          "model_module": "@jupyter-widgets/controls",
          "model_name": "DescriptionStyleModel",
          "state": {
            "_view_name": "StyleView",
            "_model_name": "DescriptionStyleModel",
            "description_width": "",
            "_view_module": "@jupyter-widgets/base",
            "_model_module_version": "1.5.0",
            "_view_count": null,
            "_view_module_version": "1.2.0",
            "_model_module": "@jupyter-widgets/controls"
          }
        },
        "d717466787ea442bb2f375b907c483c7": {
          "model_module": "@jupyter-widgets/base",
          "model_name": "LayoutModel",
          "state": {
            "_view_name": "LayoutView",
            "grid_template_rows": null,
            "right": null,
            "justify_content": null,
            "_view_module": "@jupyter-widgets/base",
            "overflow": null,
            "_model_module_version": "1.2.0",
            "_view_count": null,
            "flex_flow": null,
            "width": null,
            "min_width": null,
            "border": null,
            "align_items": null,
            "bottom": null,
            "_model_module": "@jupyter-widgets/base",
            "top": null,
            "grid_column": null,
            "overflow_y": null,
            "overflow_x": null,
            "grid_auto_flow": null,
            "grid_area": null,
            "grid_template_columns": null,
            "flex": null,
            "_model_name": "LayoutModel",
            "justify_items": null,
            "grid_row": null,
            "max_height": null,
            "align_content": null,
            "visibility": null,
            "align_self": null,
            "height": null,
            "min_height": null,
            "padding": null,
            "grid_auto_rows": null,
            "grid_gap": null,
            "max_width": null,
            "order": null,
            "_view_module_version": "1.2.0",
            "grid_template_areas": null,
            "object_position": null,
            "object_fit": null,
            "grid_auto_columns": null,
            "margin": null,
            "display": null,
            "left": null
          }
        },
        "b082f6876e7e4075baecec9def068417": {
          "model_module": "@jupyter-widgets/controls",
          "model_name": "HBoxModel",
          "state": {
            "_view_name": "HBoxView",
            "_dom_classes": [],
            "_model_name": "HBoxModel",
            "_view_module": "@jupyter-widgets/controls",
            "_model_module_version": "1.5.0",
            "_view_count": null,
            "_view_module_version": "1.5.0",
            "box_style": "",
            "layout": "IPY_MODEL_f72445d21be74e67878e012060676c67",
            "_model_module": "@jupyter-widgets/controls",
            "children": [
              "IPY_MODEL_425b9bad7f134da5bfa087cbade487f4",
              "IPY_MODEL_71a134e9923a4c549728c8ddd4243e1a"
            ]
          }
        },
        "f72445d21be74e67878e012060676c67": {
          "model_module": "@jupyter-widgets/base",
          "model_name": "LayoutModel",
          "state": {
            "_view_name": "LayoutView",
            "grid_template_rows": null,
            "right": null,
            "justify_content": null,
            "_view_module": "@jupyter-widgets/base",
            "overflow": null,
            "_model_module_version": "1.2.0",
            "_view_count": null,
            "flex_flow": null,
            "width": null,
            "min_width": null,
            "border": null,
            "align_items": null,
            "bottom": null,
            "_model_module": "@jupyter-widgets/base",
            "top": null,
            "grid_column": null,
            "overflow_y": null,
            "overflow_x": null,
            "grid_auto_flow": null,
            "grid_area": null,
            "grid_template_columns": null,
            "flex": null,
            "_model_name": "LayoutModel",
            "justify_items": null,
            "grid_row": null,
            "max_height": null,
            "align_content": null,
            "visibility": null,
            "align_self": null,
            "height": null,
            "min_height": null,
            "padding": null,
            "grid_auto_rows": null,
            "grid_gap": null,
            "max_width": null,
            "order": null,
            "_view_module_version": "1.2.0",
            "grid_template_areas": null,
            "object_position": null,
            "object_fit": null,
            "grid_auto_columns": null,
            "margin": null,
            "display": null,
            "left": null
          }
        },
        "425b9bad7f134da5bfa087cbade487f4": {
          "model_module": "@jupyter-widgets/controls",
          "model_name": "FloatProgressModel",
          "state": {
            "_view_name": "ProgressView",
            "style": "IPY_MODEL_96af87443d0b48dbbd11781bf874247f",
            "_dom_classes": [],
            "description": "",
            "_model_name": "FloatProgressModel",
            "bar_style": "success",
            "max": 1,
            "_view_module": "@jupyter-widgets/controls",
            "_model_module_version": "1.5.0",
            "value": 1,
            "_view_count": null,
            "_view_module_version": "1.5.0",
            "orientation": "horizontal",
            "min": 0,
            "description_tooltip": null,
            "_model_module": "@jupyter-widgets/controls",
            "layout": "IPY_MODEL_2dc43d06f16d4069824d69fc81104e77"
          }
        },
        "71a134e9923a4c549728c8ddd4243e1a": {
          "model_module": "@jupyter-widgets/controls",
          "model_name": "HTMLModel",
          "state": {
            "_view_name": "HTMLView",
            "style": "IPY_MODEL_e1ca22f8df784b8fa9829b0fbbec963c",
            "_dom_classes": [],
            "description": "",
            "_model_name": "HTMLModel",
            "placeholder": "​",
            "_view_module": "@jupyter-widgets/controls",
            "_model_module_version": "1.5.0",
            "value": " 115/? [01:10&lt;00:00,  1.62it/s]",
            "_view_count": null,
            "_view_module_version": "1.5.0",
            "description_tooltip": null,
            "_model_module": "@jupyter-widgets/controls",
            "layout": "IPY_MODEL_17764f3c993f46138da7dfe130fdda72"
          }
        },
        "96af87443d0b48dbbd11781bf874247f": {
          "model_module": "@jupyter-widgets/controls",
          "model_name": "ProgressStyleModel",
          "state": {
            "_view_name": "StyleView",
            "_model_name": "ProgressStyleModel",
            "description_width": "initial",
            "_view_module": "@jupyter-widgets/base",
            "_model_module_version": "1.5.0",
            "_view_count": null,
            "_view_module_version": "1.2.0",
            "bar_color": null,
            "_model_module": "@jupyter-widgets/controls"
          }
        },
        "2dc43d06f16d4069824d69fc81104e77": {
          "model_module": "@jupyter-widgets/base",
          "model_name": "LayoutModel",
          "state": {
            "_view_name": "LayoutView",
            "grid_template_rows": null,
            "right": null,
            "justify_content": null,
            "_view_module": "@jupyter-widgets/base",
            "overflow": null,
            "_model_module_version": "1.2.0",
            "_view_count": null,
            "flex_flow": null,
            "width": null,
            "min_width": null,
            "border": null,
            "align_items": null,
            "bottom": null,
            "_model_module": "@jupyter-widgets/base",
            "top": null,
            "grid_column": null,
            "overflow_y": null,
            "overflow_x": null,
            "grid_auto_flow": null,
            "grid_area": null,
            "grid_template_columns": null,
            "flex": null,
            "_model_name": "LayoutModel",
            "justify_items": null,
            "grid_row": null,
            "max_height": null,
            "align_content": null,
            "visibility": null,
            "align_self": null,
            "height": null,
            "min_height": null,
            "padding": null,
            "grid_auto_rows": null,
            "grid_gap": null,
            "max_width": null,
            "order": null,
            "_view_module_version": "1.2.0",
            "grid_template_areas": null,
            "object_position": null,
            "object_fit": null,
            "grid_auto_columns": null,
            "margin": null,
            "display": null,
            "left": null
          }
        },
        "e1ca22f8df784b8fa9829b0fbbec963c": {
          "model_module": "@jupyter-widgets/controls",
          "model_name": "DescriptionStyleModel",
          "state": {
            "_view_name": "StyleView",
            "_model_name": "DescriptionStyleModel",
            "description_width": "",
            "_view_module": "@jupyter-widgets/base",
            "_model_module_version": "1.5.0",
            "_view_count": null,
            "_view_module_version": "1.2.0",
            "_model_module": "@jupyter-widgets/controls"
          }
        },
        "17764f3c993f46138da7dfe130fdda72": {
          "model_module": "@jupyter-widgets/base",
          "model_name": "LayoutModel",
          "state": {
            "_view_name": "LayoutView",
            "grid_template_rows": null,
            "right": null,
            "justify_content": null,
            "_view_module": "@jupyter-widgets/base",
            "overflow": null,
            "_model_module_version": "1.2.0",
            "_view_count": null,
            "flex_flow": null,
            "width": null,
            "min_width": null,
            "border": null,
            "align_items": null,
            "bottom": null,
            "_model_module": "@jupyter-widgets/base",
            "top": null,
            "grid_column": null,
            "overflow_y": null,
            "overflow_x": null,
            "grid_auto_flow": null,
            "grid_area": null,
            "grid_template_columns": null,
            "flex": null,
            "_model_name": "LayoutModel",
            "justify_items": null,
            "grid_row": null,
            "max_height": null,
            "align_content": null,
            "visibility": null,
            "align_self": null,
            "height": null,
            "min_height": null,
            "padding": null,
            "grid_auto_rows": null,
            "grid_gap": null,
            "max_width": null,
            "order": null,
            "_view_module_version": "1.2.0",
            "grid_template_areas": null,
            "object_position": null,
            "object_fit": null,
            "grid_auto_columns": null,
            "margin": null,
            "display": null,
            "left": null
          }
        },
        "57556cf81ed3499eb54c9ae1a61b6852": {
          "model_module": "@jupyter-widgets/controls",
          "model_name": "HBoxModel",
          "state": {
            "_view_name": "HBoxView",
            "_dom_classes": [],
            "_model_name": "HBoxModel",
            "_view_module": "@jupyter-widgets/controls",
            "_model_module_version": "1.5.0",
            "_view_count": null,
            "_view_module_version": "1.5.0",
            "box_style": "",
            "layout": "IPY_MODEL_defa5806353a4f279147db4e31d85a44",
            "_model_module": "@jupyter-widgets/controls",
            "children": [
              "IPY_MODEL_58775b9fa07542cc8fceced7225d796c",
              "IPY_MODEL_681a437f95534f6d922c34171352466c"
            ]
          }
        },
        "defa5806353a4f279147db4e31d85a44": {
          "model_module": "@jupyter-widgets/base",
          "model_name": "LayoutModel",
          "state": {
            "_view_name": "LayoutView",
            "grid_template_rows": null,
            "right": null,
            "justify_content": null,
            "_view_module": "@jupyter-widgets/base",
            "overflow": null,
            "_model_module_version": "1.2.0",
            "_view_count": null,
            "flex_flow": null,
            "width": null,
            "min_width": null,
            "border": null,
            "align_items": null,
            "bottom": null,
            "_model_module": "@jupyter-widgets/base",
            "top": null,
            "grid_column": null,
            "overflow_y": null,
            "overflow_x": null,
            "grid_auto_flow": null,
            "grid_area": null,
            "grid_template_columns": null,
            "flex": null,
            "_model_name": "LayoutModel",
            "justify_items": null,
            "grid_row": null,
            "max_height": null,
            "align_content": null,
            "visibility": null,
            "align_self": null,
            "height": null,
            "min_height": null,
            "padding": null,
            "grid_auto_rows": null,
            "grid_gap": null,
            "max_width": null,
            "order": null,
            "_view_module_version": "1.2.0",
            "grid_template_areas": null,
            "object_position": null,
            "object_fit": null,
            "grid_auto_columns": null,
            "margin": null,
            "display": null,
            "left": null
          }
        },
        "58775b9fa07542cc8fceced7225d796c": {
          "model_module": "@jupyter-widgets/controls",
          "model_name": "FloatProgressModel",
          "state": {
            "_view_name": "ProgressView",
            "style": "IPY_MODEL_c5b55a6d0fb446a2886a8ee80009d325",
            "_dom_classes": [],
            "description": "",
            "_model_name": "FloatProgressModel",
            "bar_style": "success",
            "max": 1,
            "_view_module": "@jupyter-widgets/controls",
            "_model_module_version": "1.5.0",
            "value": 1,
            "_view_count": null,
            "_view_module_version": "1.5.0",
            "orientation": "horizontal",
            "min": 0,
            "description_tooltip": null,
            "_model_module": "@jupyter-widgets/controls",
            "layout": "IPY_MODEL_87d7000b1e9443f2ae6a70942da60e01"
          }
        },
        "681a437f95534f6d922c34171352466c": {
          "model_module": "@jupyter-widgets/controls",
          "model_name": "HTMLModel",
          "state": {
            "_view_name": "HTMLView",
            "style": "IPY_MODEL_3164e3cf3a0144589e20f3d651c793cb",
            "_dom_classes": [],
            "description": "",
            "_model_name": "HTMLModel",
            "placeholder": "​",
            "_view_module": "@jupyter-widgets/controls",
            "_model_module_version": "1.5.0",
            "value": " 115/? [01:09&lt;00:00,  1.65it/s]",
            "_view_count": null,
            "_view_module_version": "1.5.0",
            "description_tooltip": null,
            "_model_module": "@jupyter-widgets/controls",
            "layout": "IPY_MODEL_326c7020a35c4c408e918a1df8f220ee"
          }
        },
        "c5b55a6d0fb446a2886a8ee80009d325": {
          "model_module": "@jupyter-widgets/controls",
          "model_name": "ProgressStyleModel",
          "state": {
            "_view_name": "StyleView",
            "_model_name": "ProgressStyleModel",
            "description_width": "initial",
            "_view_module": "@jupyter-widgets/base",
            "_model_module_version": "1.5.0",
            "_view_count": null,
            "_view_module_version": "1.2.0",
            "bar_color": null,
            "_model_module": "@jupyter-widgets/controls"
          }
        },
        "87d7000b1e9443f2ae6a70942da60e01": {
          "model_module": "@jupyter-widgets/base",
          "model_name": "LayoutModel",
          "state": {
            "_view_name": "LayoutView",
            "grid_template_rows": null,
            "right": null,
            "justify_content": null,
            "_view_module": "@jupyter-widgets/base",
            "overflow": null,
            "_model_module_version": "1.2.0",
            "_view_count": null,
            "flex_flow": null,
            "width": null,
            "min_width": null,
            "border": null,
            "align_items": null,
            "bottom": null,
            "_model_module": "@jupyter-widgets/base",
            "top": null,
            "grid_column": null,
            "overflow_y": null,
            "overflow_x": null,
            "grid_auto_flow": null,
            "grid_area": null,
            "grid_template_columns": null,
            "flex": null,
            "_model_name": "LayoutModel",
            "justify_items": null,
            "grid_row": null,
            "max_height": null,
            "align_content": null,
            "visibility": null,
            "align_self": null,
            "height": null,
            "min_height": null,
            "padding": null,
            "grid_auto_rows": null,
            "grid_gap": null,
            "max_width": null,
            "order": null,
            "_view_module_version": "1.2.0",
            "grid_template_areas": null,
            "object_position": null,
            "object_fit": null,
            "grid_auto_columns": null,
            "margin": null,
            "display": null,
            "left": null
          }
        },
        "3164e3cf3a0144589e20f3d651c793cb": {
          "model_module": "@jupyter-widgets/controls",
          "model_name": "DescriptionStyleModel",
          "state": {
            "_view_name": "StyleView",
            "_model_name": "DescriptionStyleModel",
            "description_width": "",
            "_view_module": "@jupyter-widgets/base",
            "_model_module_version": "1.5.0",
            "_view_count": null,
            "_view_module_version": "1.2.0",
            "_model_module": "@jupyter-widgets/controls"
          }
        },
        "326c7020a35c4c408e918a1df8f220ee": {
          "model_module": "@jupyter-widgets/base",
          "model_name": "LayoutModel",
          "state": {
            "_view_name": "LayoutView",
            "grid_template_rows": null,
            "right": null,
            "justify_content": null,
            "_view_module": "@jupyter-widgets/base",
            "overflow": null,
            "_model_module_version": "1.2.0",
            "_view_count": null,
            "flex_flow": null,
            "width": null,
            "min_width": null,
            "border": null,
            "align_items": null,
            "bottom": null,
            "_model_module": "@jupyter-widgets/base",
            "top": null,
            "grid_column": null,
            "overflow_y": null,
            "overflow_x": null,
            "grid_auto_flow": null,
            "grid_area": null,
            "grid_template_columns": null,
            "flex": null,
            "_model_name": "LayoutModel",
            "justify_items": null,
            "grid_row": null,
            "max_height": null,
            "align_content": null,
            "visibility": null,
            "align_self": null,
            "height": null,
            "min_height": null,
            "padding": null,
            "grid_auto_rows": null,
            "grid_gap": null,
            "max_width": null,
            "order": null,
            "_view_module_version": "1.2.0",
            "grid_template_areas": null,
            "object_position": null,
            "object_fit": null,
            "grid_auto_columns": null,
            "margin": null,
            "display": null,
            "left": null
          }
        },
        "50591e7acbf4484ca960c20899c8304e": {
          "model_module": "@jupyter-widgets/controls",
          "model_name": "HBoxModel",
          "state": {
            "_view_name": "HBoxView",
            "_dom_classes": [],
            "_model_name": "HBoxModel",
            "_view_module": "@jupyter-widgets/controls",
            "_model_module_version": "1.5.0",
            "_view_count": null,
            "_view_module_version": "1.5.0",
            "box_style": "",
            "layout": "IPY_MODEL_676c4cc917334180b8809a30bc898611",
            "_model_module": "@jupyter-widgets/controls",
            "children": [
              "IPY_MODEL_b184938e85084f75ad1880e60f476e0b",
              "IPY_MODEL_2e60aef04975464ba3949c6ae47d19b8"
            ]
          }
        },
        "676c4cc917334180b8809a30bc898611": {
          "model_module": "@jupyter-widgets/base",
          "model_name": "LayoutModel",
          "state": {
            "_view_name": "LayoutView",
            "grid_template_rows": null,
            "right": null,
            "justify_content": null,
            "_view_module": "@jupyter-widgets/base",
            "overflow": null,
            "_model_module_version": "1.2.0",
            "_view_count": null,
            "flex_flow": null,
            "width": null,
            "min_width": null,
            "border": null,
            "align_items": null,
            "bottom": null,
            "_model_module": "@jupyter-widgets/base",
            "top": null,
            "grid_column": null,
            "overflow_y": null,
            "overflow_x": null,
            "grid_auto_flow": null,
            "grid_area": null,
            "grid_template_columns": null,
            "flex": null,
            "_model_name": "LayoutModel",
            "justify_items": null,
            "grid_row": null,
            "max_height": null,
            "align_content": null,
            "visibility": null,
            "align_self": null,
            "height": null,
            "min_height": null,
            "padding": null,
            "grid_auto_rows": null,
            "grid_gap": null,
            "max_width": null,
            "order": null,
            "_view_module_version": "1.2.0",
            "grid_template_areas": null,
            "object_position": null,
            "object_fit": null,
            "grid_auto_columns": null,
            "margin": null,
            "display": null,
            "left": null
          }
        },
        "b184938e85084f75ad1880e60f476e0b": {
          "model_module": "@jupyter-widgets/controls",
          "model_name": "FloatProgressModel",
          "state": {
            "_view_name": "ProgressView",
            "style": "IPY_MODEL_e8c7426b4f484c37af03138c7ef8dfe4",
            "_dom_classes": [],
            "description": "",
            "_model_name": "FloatProgressModel",
            "bar_style": "success",
            "max": 1,
            "_view_module": "@jupyter-widgets/controls",
            "_model_module_version": "1.5.0",
            "value": 1,
            "_view_count": null,
            "_view_module_version": "1.5.0",
            "orientation": "horizontal",
            "min": 0,
            "description_tooltip": null,
            "_model_module": "@jupyter-widgets/controls",
            "layout": "IPY_MODEL_da3d6ef320304da3bd2cef681a6fab9d"
          }
        },
        "2e60aef04975464ba3949c6ae47d19b8": {
          "model_module": "@jupyter-widgets/controls",
          "model_name": "HTMLModel",
          "state": {
            "_view_name": "HTMLView",
            "style": "IPY_MODEL_cc5b87e20644445da037dd6eed61d205",
            "_dom_classes": [],
            "description": "",
            "_model_name": "HTMLModel",
            "placeholder": "​",
            "_view_module": "@jupyter-widgets/controls",
            "_model_module_version": "1.5.0",
            "value": " 115/? [02:26&lt;00:00,  1.27s/it]",
            "_view_count": null,
            "_view_module_version": "1.5.0",
            "description_tooltip": null,
            "_model_module": "@jupyter-widgets/controls",
            "layout": "IPY_MODEL_3ebd15cd13dc4ab9aaa0874b828f82a3"
          }
        },
        "e8c7426b4f484c37af03138c7ef8dfe4": {
          "model_module": "@jupyter-widgets/controls",
          "model_name": "ProgressStyleModel",
          "state": {
            "_view_name": "StyleView",
            "_model_name": "ProgressStyleModel",
            "description_width": "initial",
            "_view_module": "@jupyter-widgets/base",
            "_model_module_version": "1.5.0",
            "_view_count": null,
            "_view_module_version": "1.2.0",
            "bar_color": null,
            "_model_module": "@jupyter-widgets/controls"
          }
        },
        "da3d6ef320304da3bd2cef681a6fab9d": {
          "model_module": "@jupyter-widgets/base",
          "model_name": "LayoutModel",
          "state": {
            "_view_name": "LayoutView",
            "grid_template_rows": null,
            "right": null,
            "justify_content": null,
            "_view_module": "@jupyter-widgets/base",
            "overflow": null,
            "_model_module_version": "1.2.0",
            "_view_count": null,
            "flex_flow": null,
            "width": null,
            "min_width": null,
            "border": null,
            "align_items": null,
            "bottom": null,
            "_model_module": "@jupyter-widgets/base",
            "top": null,
            "grid_column": null,
            "overflow_y": null,
            "overflow_x": null,
            "grid_auto_flow": null,
            "grid_area": null,
            "grid_template_columns": null,
            "flex": null,
            "_model_name": "LayoutModel",
            "justify_items": null,
            "grid_row": null,
            "max_height": null,
            "align_content": null,
            "visibility": null,
            "align_self": null,
            "height": null,
            "min_height": null,
            "padding": null,
            "grid_auto_rows": null,
            "grid_gap": null,
            "max_width": null,
            "order": null,
            "_view_module_version": "1.2.0",
            "grid_template_areas": null,
            "object_position": null,
            "object_fit": null,
            "grid_auto_columns": null,
            "margin": null,
            "display": null,
            "left": null
          }
        },
        "cc5b87e20644445da037dd6eed61d205": {
          "model_module": "@jupyter-widgets/controls",
          "model_name": "DescriptionStyleModel",
          "state": {
            "_view_name": "StyleView",
            "_model_name": "DescriptionStyleModel",
            "description_width": "",
            "_view_module": "@jupyter-widgets/base",
            "_model_module_version": "1.5.0",
            "_view_count": null,
            "_view_module_version": "1.2.0",
            "_model_module": "@jupyter-widgets/controls"
          }
        },
        "3ebd15cd13dc4ab9aaa0874b828f82a3": {
          "model_module": "@jupyter-widgets/base",
          "model_name": "LayoutModel",
          "state": {
            "_view_name": "LayoutView",
            "grid_template_rows": null,
            "right": null,
            "justify_content": null,
            "_view_module": "@jupyter-widgets/base",
            "overflow": null,
            "_model_module_version": "1.2.0",
            "_view_count": null,
            "flex_flow": null,
            "width": null,
            "min_width": null,
            "border": null,
            "align_items": null,
            "bottom": null,
            "_model_module": "@jupyter-widgets/base",
            "top": null,
            "grid_column": null,
            "overflow_y": null,
            "overflow_x": null,
            "grid_auto_flow": null,
            "grid_area": null,
            "grid_template_columns": null,
            "flex": null,
            "_model_name": "LayoutModel",
            "justify_items": null,
            "grid_row": null,
            "max_height": null,
            "align_content": null,
            "visibility": null,
            "align_self": null,
            "height": null,
            "min_height": null,
            "padding": null,
            "grid_auto_rows": null,
            "grid_gap": null,
            "max_width": null,
            "order": null,
            "_view_module_version": "1.2.0",
            "grid_template_areas": null,
            "object_position": null,
            "object_fit": null,
            "grid_auto_columns": null,
            "margin": null,
            "display": null,
            "left": null
          }
        },
        "02ebaf8900e84576a73dbfc2158dc236": {
          "model_module": "@jupyter-widgets/controls",
          "model_name": "HBoxModel",
          "state": {
            "_view_name": "HBoxView",
            "_dom_classes": [],
            "_model_name": "HBoxModel",
            "_view_module": "@jupyter-widgets/controls",
            "_model_module_version": "1.5.0",
            "_view_count": null,
            "_view_module_version": "1.5.0",
            "box_style": "",
            "layout": "IPY_MODEL_ff9bee5a199e448cb116d2a854bab538",
            "_model_module": "@jupyter-widgets/controls",
            "children": [
              "IPY_MODEL_da87c682c7ff4fd094c0f3c6ad0fbda3",
              "IPY_MODEL_b6f0895d43d947c98d723110c09eebe4"
            ]
          }
        },
        "ff9bee5a199e448cb116d2a854bab538": {
          "model_module": "@jupyter-widgets/base",
          "model_name": "LayoutModel",
          "state": {
            "_view_name": "LayoutView",
            "grid_template_rows": null,
            "right": null,
            "justify_content": null,
            "_view_module": "@jupyter-widgets/base",
            "overflow": null,
            "_model_module_version": "1.2.0",
            "_view_count": null,
            "flex_flow": null,
            "width": null,
            "min_width": null,
            "border": null,
            "align_items": null,
            "bottom": null,
            "_model_module": "@jupyter-widgets/base",
            "top": null,
            "grid_column": null,
            "overflow_y": null,
            "overflow_x": null,
            "grid_auto_flow": null,
            "grid_area": null,
            "grid_template_columns": null,
            "flex": null,
            "_model_name": "LayoutModel",
            "justify_items": null,
            "grid_row": null,
            "max_height": null,
            "align_content": null,
            "visibility": null,
            "align_self": null,
            "height": null,
            "min_height": null,
            "padding": null,
            "grid_auto_rows": null,
            "grid_gap": null,
            "max_width": null,
            "order": null,
            "_view_module_version": "1.2.0",
            "grid_template_areas": null,
            "object_position": null,
            "object_fit": null,
            "grid_auto_columns": null,
            "margin": null,
            "display": null,
            "left": null
          }
        },
        "da87c682c7ff4fd094c0f3c6ad0fbda3": {
          "model_module": "@jupyter-widgets/controls",
          "model_name": "FloatProgressModel",
          "state": {
            "_view_name": "ProgressView",
            "style": "IPY_MODEL_dcabef881c9343249a3d989c8d23ba22",
            "_dom_classes": [],
            "description": "",
            "_model_name": "FloatProgressModel",
            "bar_style": "success",
            "max": 1,
            "_view_module": "@jupyter-widgets/controls",
            "_model_module_version": "1.5.0",
            "value": 1,
            "_view_count": null,
            "_view_module_version": "1.5.0",
            "orientation": "horizontal",
            "min": 0,
            "description_tooltip": null,
            "_model_module": "@jupyter-widgets/controls",
            "layout": "IPY_MODEL_cc9e7d626a4f45708c44afd150188f03"
          }
        },
        "b6f0895d43d947c98d723110c09eebe4": {
          "model_module": "@jupyter-widgets/controls",
          "model_name": "HTMLModel",
          "state": {
            "_view_name": "HTMLView",
            "style": "IPY_MODEL_516275ece502470793fd9a1be98c389b",
            "_dom_classes": [],
            "description": "",
            "_model_name": "HTMLModel",
            "placeholder": "​",
            "_view_module": "@jupyter-widgets/controls",
            "_model_module_version": "1.5.0",
            "value": " 115/? [01:15&lt;00:00,  1.53it/s]",
            "_view_count": null,
            "_view_module_version": "1.5.0",
            "description_tooltip": null,
            "_model_module": "@jupyter-widgets/controls",
            "layout": "IPY_MODEL_729dd0789d3c4cfd84595044d953e1f0"
          }
        },
        "dcabef881c9343249a3d989c8d23ba22": {
          "model_module": "@jupyter-widgets/controls",
          "model_name": "ProgressStyleModel",
          "state": {
            "_view_name": "StyleView",
            "_model_name": "ProgressStyleModel",
            "description_width": "initial",
            "_view_module": "@jupyter-widgets/base",
            "_model_module_version": "1.5.0",
            "_view_count": null,
            "_view_module_version": "1.2.0",
            "bar_color": null,
            "_model_module": "@jupyter-widgets/controls"
          }
        },
        "cc9e7d626a4f45708c44afd150188f03": {
          "model_module": "@jupyter-widgets/base",
          "model_name": "LayoutModel",
          "state": {
            "_view_name": "LayoutView",
            "grid_template_rows": null,
            "right": null,
            "justify_content": null,
            "_view_module": "@jupyter-widgets/base",
            "overflow": null,
            "_model_module_version": "1.2.0",
            "_view_count": null,
            "flex_flow": null,
            "width": null,
            "min_width": null,
            "border": null,
            "align_items": null,
            "bottom": null,
            "_model_module": "@jupyter-widgets/base",
            "top": null,
            "grid_column": null,
            "overflow_y": null,
            "overflow_x": null,
            "grid_auto_flow": null,
            "grid_area": null,
            "grid_template_columns": null,
            "flex": null,
            "_model_name": "LayoutModel",
            "justify_items": null,
            "grid_row": null,
            "max_height": null,
            "align_content": null,
            "visibility": null,
            "align_self": null,
            "height": null,
            "min_height": null,
            "padding": null,
            "grid_auto_rows": null,
            "grid_gap": null,
            "max_width": null,
            "order": null,
            "_view_module_version": "1.2.0",
            "grid_template_areas": null,
            "object_position": null,
            "object_fit": null,
            "grid_auto_columns": null,
            "margin": null,
            "display": null,
            "left": null
          }
        },
        "516275ece502470793fd9a1be98c389b": {
          "model_module": "@jupyter-widgets/controls",
          "model_name": "DescriptionStyleModel",
          "state": {
            "_view_name": "StyleView",
            "_model_name": "DescriptionStyleModel",
            "description_width": "",
            "_view_module": "@jupyter-widgets/base",
            "_model_module_version": "1.5.0",
            "_view_count": null,
            "_view_module_version": "1.2.0",
            "_model_module": "@jupyter-widgets/controls"
          }
        },
        "729dd0789d3c4cfd84595044d953e1f0": {
          "model_module": "@jupyter-widgets/base",
          "model_name": "LayoutModel",
          "state": {
            "_view_name": "LayoutView",
            "grid_template_rows": null,
            "right": null,
            "justify_content": null,
            "_view_module": "@jupyter-widgets/base",
            "overflow": null,
            "_model_module_version": "1.2.0",
            "_view_count": null,
            "flex_flow": null,
            "width": null,
            "min_width": null,
            "border": null,
            "align_items": null,
            "bottom": null,
            "_model_module": "@jupyter-widgets/base",
            "top": null,
            "grid_column": null,
            "overflow_y": null,
            "overflow_x": null,
            "grid_auto_flow": null,
            "grid_area": null,
            "grid_template_columns": null,
            "flex": null,
            "_model_name": "LayoutModel",
            "justify_items": null,
            "grid_row": null,
            "max_height": null,
            "align_content": null,
            "visibility": null,
            "align_self": null,
            "height": null,
            "min_height": null,
            "padding": null,
            "grid_auto_rows": null,
            "grid_gap": null,
            "max_width": null,
            "order": null,
            "_view_module_version": "1.2.0",
            "grid_template_areas": null,
            "object_position": null,
            "object_fit": null,
            "grid_auto_columns": null,
            "margin": null,
            "display": null,
            "left": null
          }
        },
        "794e0aa4183d4a3f891d3e2f907f9f4e": {
          "model_module": "@jupyter-widgets/controls",
          "model_name": "HBoxModel",
          "state": {
            "_view_name": "HBoxView",
            "_dom_classes": [],
            "_model_name": "HBoxModel",
            "_view_module": "@jupyter-widgets/controls",
            "_model_module_version": "1.5.0",
            "_view_count": null,
            "_view_module_version": "1.5.0",
            "box_style": "",
            "layout": "IPY_MODEL_65fd905284b6488d8b1d8f14279c532d",
            "_model_module": "@jupyter-widgets/controls",
            "children": [
              "IPY_MODEL_43b6b8f31bac4e639a1991bc64d9dc15",
              "IPY_MODEL_dd17b35b8370461c89c7c20bc065df7e"
            ]
          }
        },
        "65fd905284b6488d8b1d8f14279c532d": {
          "model_module": "@jupyter-widgets/base",
          "model_name": "LayoutModel",
          "state": {
            "_view_name": "LayoutView",
            "grid_template_rows": null,
            "right": null,
            "justify_content": null,
            "_view_module": "@jupyter-widgets/base",
            "overflow": null,
            "_model_module_version": "1.2.0",
            "_view_count": null,
            "flex_flow": null,
            "width": null,
            "min_width": null,
            "border": null,
            "align_items": null,
            "bottom": null,
            "_model_module": "@jupyter-widgets/base",
            "top": null,
            "grid_column": null,
            "overflow_y": null,
            "overflow_x": null,
            "grid_auto_flow": null,
            "grid_area": null,
            "grid_template_columns": null,
            "flex": null,
            "_model_name": "LayoutModel",
            "justify_items": null,
            "grid_row": null,
            "max_height": null,
            "align_content": null,
            "visibility": null,
            "align_self": null,
            "height": null,
            "min_height": null,
            "padding": null,
            "grid_auto_rows": null,
            "grid_gap": null,
            "max_width": null,
            "order": null,
            "_view_module_version": "1.2.0",
            "grid_template_areas": null,
            "object_position": null,
            "object_fit": null,
            "grid_auto_columns": null,
            "margin": null,
            "display": null,
            "left": null
          }
        },
        "43b6b8f31bac4e639a1991bc64d9dc15": {
          "model_module": "@jupyter-widgets/controls",
          "model_name": "FloatProgressModel",
          "state": {
            "_view_name": "ProgressView",
            "style": "IPY_MODEL_f0b793bb69844eaeb37ecc25ba1fb7d4",
            "_dom_classes": [],
            "description": "",
            "_model_name": "FloatProgressModel",
            "bar_style": "success",
            "max": 1,
            "_view_module": "@jupyter-widgets/controls",
            "_model_module_version": "1.5.0",
            "value": 1,
            "_view_count": null,
            "_view_module_version": "1.5.0",
            "orientation": "horizontal",
            "min": 0,
            "description_tooltip": null,
            "_model_module": "@jupyter-widgets/controls",
            "layout": "IPY_MODEL_8c632bb943b84dd3b5a22f134ebbe973"
          }
        },
        "dd17b35b8370461c89c7c20bc065df7e": {
          "model_module": "@jupyter-widgets/controls",
          "model_name": "HTMLModel",
          "state": {
            "_view_name": "HTMLView",
            "style": "IPY_MODEL_ff7228ef35c84d2b9ae3b6924de4d75e",
            "_dom_classes": [],
            "description": "",
            "_model_name": "HTMLModel",
            "placeholder": "​",
            "_view_module": "@jupyter-widgets/controls",
            "_model_module_version": "1.5.0",
            "value": " 115/? [14:36&lt;00:00,  7.62s/it]",
            "_view_count": null,
            "_view_module_version": "1.5.0",
            "description_tooltip": null,
            "_model_module": "@jupyter-widgets/controls",
            "layout": "IPY_MODEL_89310df301044241ad017b582feebb67"
          }
        },
        "f0b793bb69844eaeb37ecc25ba1fb7d4": {
          "model_module": "@jupyter-widgets/controls",
          "model_name": "ProgressStyleModel",
          "state": {
            "_view_name": "StyleView",
            "_model_name": "ProgressStyleModel",
            "description_width": "initial",
            "_view_module": "@jupyter-widgets/base",
            "_model_module_version": "1.5.0",
            "_view_count": null,
            "_view_module_version": "1.2.0",
            "bar_color": null,
            "_model_module": "@jupyter-widgets/controls"
          }
        },
        "8c632bb943b84dd3b5a22f134ebbe973": {
          "model_module": "@jupyter-widgets/base",
          "model_name": "LayoutModel",
          "state": {
            "_view_name": "LayoutView",
            "grid_template_rows": null,
            "right": null,
            "justify_content": null,
            "_view_module": "@jupyter-widgets/base",
            "overflow": null,
            "_model_module_version": "1.2.0",
            "_view_count": null,
            "flex_flow": null,
            "width": null,
            "min_width": null,
            "border": null,
            "align_items": null,
            "bottom": null,
            "_model_module": "@jupyter-widgets/base",
            "top": null,
            "grid_column": null,
            "overflow_y": null,
            "overflow_x": null,
            "grid_auto_flow": null,
            "grid_area": null,
            "grid_template_columns": null,
            "flex": null,
            "_model_name": "LayoutModel",
            "justify_items": null,
            "grid_row": null,
            "max_height": null,
            "align_content": null,
            "visibility": null,
            "align_self": null,
            "height": null,
            "min_height": null,
            "padding": null,
            "grid_auto_rows": null,
            "grid_gap": null,
            "max_width": null,
            "order": null,
            "_view_module_version": "1.2.0",
            "grid_template_areas": null,
            "object_position": null,
            "object_fit": null,
            "grid_auto_columns": null,
            "margin": null,
            "display": null,
            "left": null
          }
        },
        "ff7228ef35c84d2b9ae3b6924de4d75e": {
          "model_module": "@jupyter-widgets/controls",
          "model_name": "DescriptionStyleModel",
          "state": {
            "_view_name": "StyleView",
            "_model_name": "DescriptionStyleModel",
            "description_width": "",
            "_view_module": "@jupyter-widgets/base",
            "_model_module_version": "1.5.0",
            "_view_count": null,
            "_view_module_version": "1.2.0",
            "_model_module": "@jupyter-widgets/controls"
          }
        },
        "89310df301044241ad017b582feebb67": {
          "model_module": "@jupyter-widgets/base",
          "model_name": "LayoutModel",
          "state": {
            "_view_name": "LayoutView",
            "grid_template_rows": null,
            "right": null,
            "justify_content": null,
            "_view_module": "@jupyter-widgets/base",
            "overflow": null,
            "_model_module_version": "1.2.0",
            "_view_count": null,
            "flex_flow": null,
            "width": null,
            "min_width": null,
            "border": null,
            "align_items": null,
            "bottom": null,
            "_model_module": "@jupyter-widgets/base",
            "top": null,
            "grid_column": null,
            "overflow_y": null,
            "overflow_x": null,
            "grid_auto_flow": null,
            "grid_area": null,
            "grid_template_columns": null,
            "flex": null,
            "_model_name": "LayoutModel",
            "justify_items": null,
            "grid_row": null,
            "max_height": null,
            "align_content": null,
            "visibility": null,
            "align_self": null,
            "height": null,
            "min_height": null,
            "padding": null,
            "grid_auto_rows": null,
            "grid_gap": null,
            "max_width": null,
            "order": null,
            "_view_module_version": "1.2.0",
            "grid_template_areas": null,
            "object_position": null,
            "object_fit": null,
            "grid_auto_columns": null,
            "margin": null,
            "display": null,
            "left": null
          }
        },
        "b6e7504414664f7dbd0223705b5ac345": {
          "model_module": "@jupyter-widgets/controls",
          "model_name": "HBoxModel",
          "state": {
            "_view_name": "HBoxView",
            "_dom_classes": [],
            "_model_name": "HBoxModel",
            "_view_module": "@jupyter-widgets/controls",
            "_model_module_version": "1.5.0",
            "_view_count": null,
            "_view_module_version": "1.5.0",
            "box_style": "",
            "layout": "IPY_MODEL_eb075437344e43df901e9b19de6469b3",
            "_model_module": "@jupyter-widgets/controls",
            "children": [
              "IPY_MODEL_ff1165bd24284575bcfcc4855e515c3a",
              "IPY_MODEL_c32dc7e102c14b2f9cadd2cd38512bb7"
            ]
          }
        },
        "eb075437344e43df901e9b19de6469b3": {
          "model_module": "@jupyter-widgets/base",
          "model_name": "LayoutModel",
          "state": {
            "_view_name": "LayoutView",
            "grid_template_rows": null,
            "right": null,
            "justify_content": null,
            "_view_module": "@jupyter-widgets/base",
            "overflow": null,
            "_model_module_version": "1.2.0",
            "_view_count": null,
            "flex_flow": null,
            "width": null,
            "min_width": null,
            "border": null,
            "align_items": null,
            "bottom": null,
            "_model_module": "@jupyter-widgets/base",
            "top": null,
            "grid_column": null,
            "overflow_y": null,
            "overflow_x": null,
            "grid_auto_flow": null,
            "grid_area": null,
            "grid_template_columns": null,
            "flex": null,
            "_model_name": "LayoutModel",
            "justify_items": null,
            "grid_row": null,
            "max_height": null,
            "align_content": null,
            "visibility": null,
            "align_self": null,
            "height": null,
            "min_height": null,
            "padding": null,
            "grid_auto_rows": null,
            "grid_gap": null,
            "max_width": null,
            "order": null,
            "_view_module_version": "1.2.0",
            "grid_template_areas": null,
            "object_position": null,
            "object_fit": null,
            "grid_auto_columns": null,
            "margin": null,
            "display": null,
            "left": null
          }
        },
        "ff1165bd24284575bcfcc4855e515c3a": {
          "model_module": "@jupyter-widgets/controls",
          "model_name": "FloatProgressModel",
          "state": {
            "_view_name": "ProgressView",
            "style": "IPY_MODEL_52d659ba885745a2b1bbaf55b77cdc7d",
            "_dom_classes": [],
            "description": "",
            "_model_name": "FloatProgressModel",
            "bar_style": "success",
            "max": 1,
            "_view_module": "@jupyter-widgets/controls",
            "_model_module_version": "1.5.0",
            "value": 1,
            "_view_count": null,
            "_view_module_version": "1.5.0",
            "orientation": "horizontal",
            "min": 0,
            "description_tooltip": null,
            "_model_module": "@jupyter-widgets/controls",
            "layout": "IPY_MODEL_afe6ceb6506d44c9999a5a8bdc7bff02"
          }
        },
        "c32dc7e102c14b2f9cadd2cd38512bb7": {
          "model_module": "@jupyter-widgets/controls",
          "model_name": "HTMLModel",
          "state": {
            "_view_name": "HTMLView",
            "style": "IPY_MODEL_9b26244541794541ae4f8a95f3ef08d1",
            "_dom_classes": [],
            "description": "",
            "_model_name": "HTMLModel",
            "placeholder": "​",
            "_view_module": "@jupyter-widgets/controls",
            "_model_module_version": "1.5.0",
            "value": " 115/? [02:26&lt;00:00,  1.27s/it]",
            "_view_count": null,
            "_view_module_version": "1.5.0",
            "description_tooltip": null,
            "_model_module": "@jupyter-widgets/controls",
            "layout": "IPY_MODEL_d5848440d9f74f2aa59f1418aaba9cef"
          }
        },
        "52d659ba885745a2b1bbaf55b77cdc7d": {
          "model_module": "@jupyter-widgets/controls",
          "model_name": "ProgressStyleModel",
          "state": {
            "_view_name": "StyleView",
            "_model_name": "ProgressStyleModel",
            "description_width": "initial",
            "_view_module": "@jupyter-widgets/base",
            "_model_module_version": "1.5.0",
            "_view_count": null,
            "_view_module_version": "1.2.0",
            "bar_color": null,
            "_model_module": "@jupyter-widgets/controls"
          }
        },
        "afe6ceb6506d44c9999a5a8bdc7bff02": {
          "model_module": "@jupyter-widgets/base",
          "model_name": "LayoutModel",
          "state": {
            "_view_name": "LayoutView",
            "grid_template_rows": null,
            "right": null,
            "justify_content": null,
            "_view_module": "@jupyter-widgets/base",
            "overflow": null,
            "_model_module_version": "1.2.0",
            "_view_count": null,
            "flex_flow": null,
            "width": null,
            "min_width": null,
            "border": null,
            "align_items": null,
            "bottom": null,
            "_model_module": "@jupyter-widgets/base",
            "top": null,
            "grid_column": null,
            "overflow_y": null,
            "overflow_x": null,
            "grid_auto_flow": null,
            "grid_area": null,
            "grid_template_columns": null,
            "flex": null,
            "_model_name": "LayoutModel",
            "justify_items": null,
            "grid_row": null,
            "max_height": null,
            "align_content": null,
            "visibility": null,
            "align_self": null,
            "height": null,
            "min_height": null,
            "padding": null,
            "grid_auto_rows": null,
            "grid_gap": null,
            "max_width": null,
            "order": null,
            "_view_module_version": "1.2.0",
            "grid_template_areas": null,
            "object_position": null,
            "object_fit": null,
            "grid_auto_columns": null,
            "margin": null,
            "display": null,
            "left": null
          }
        },
        "9b26244541794541ae4f8a95f3ef08d1": {
          "model_module": "@jupyter-widgets/controls",
          "model_name": "DescriptionStyleModel",
          "state": {
            "_view_name": "StyleView",
            "_model_name": "DescriptionStyleModel",
            "description_width": "",
            "_view_module": "@jupyter-widgets/base",
            "_model_module_version": "1.5.0",
            "_view_count": null,
            "_view_module_version": "1.2.0",
            "_model_module": "@jupyter-widgets/controls"
          }
        },
        "d5848440d9f74f2aa59f1418aaba9cef": {
          "model_module": "@jupyter-widgets/base",
          "model_name": "LayoutModel",
          "state": {
            "_view_name": "LayoutView",
            "grid_template_rows": null,
            "right": null,
            "justify_content": null,
            "_view_module": "@jupyter-widgets/base",
            "overflow": null,
            "_model_module_version": "1.2.0",
            "_view_count": null,
            "flex_flow": null,
            "width": null,
            "min_width": null,
            "border": null,
            "align_items": null,
            "bottom": null,
            "_model_module": "@jupyter-widgets/base",
            "top": null,
            "grid_column": null,
            "overflow_y": null,
            "overflow_x": null,
            "grid_auto_flow": null,
            "grid_area": null,
            "grid_template_columns": null,
            "flex": null,
            "_model_name": "LayoutModel",
            "justify_items": null,
            "grid_row": null,
            "max_height": null,
            "align_content": null,
            "visibility": null,
            "align_self": null,
            "height": null,
            "min_height": null,
            "padding": null,
            "grid_auto_rows": null,
            "grid_gap": null,
            "max_width": null,
            "order": null,
            "_view_module_version": "1.2.0",
            "grid_template_areas": null,
            "object_position": null,
            "object_fit": null,
            "grid_auto_columns": null,
            "margin": null,
            "display": null,
            "left": null
          }
        },
        "77d7815ce2b542948365e2dd6de611d4": {
          "model_module": "@jupyter-widgets/controls",
          "model_name": "HBoxModel",
          "state": {
            "_view_name": "HBoxView",
            "_dom_classes": [],
            "_model_name": "HBoxModel",
            "_view_module": "@jupyter-widgets/controls",
            "_model_module_version": "1.5.0",
            "_view_count": null,
            "_view_module_version": "1.5.0",
            "box_style": "",
            "layout": "IPY_MODEL_3ac7f444edc44a76802a7fdd73d1c39d",
            "_model_module": "@jupyter-widgets/controls",
            "children": [
              "IPY_MODEL_f18bc98337a04936ab0b23abaa76050a",
              "IPY_MODEL_b2aab4e9d9de43769f1866afccb345a3"
            ]
          }
        },
        "3ac7f444edc44a76802a7fdd73d1c39d": {
          "model_module": "@jupyter-widgets/base",
          "model_name": "LayoutModel",
          "state": {
            "_view_name": "LayoutView",
            "grid_template_rows": null,
            "right": null,
            "justify_content": null,
            "_view_module": "@jupyter-widgets/base",
            "overflow": null,
            "_model_module_version": "1.2.0",
            "_view_count": null,
            "flex_flow": null,
            "width": null,
            "min_width": null,
            "border": null,
            "align_items": null,
            "bottom": null,
            "_model_module": "@jupyter-widgets/base",
            "top": null,
            "grid_column": null,
            "overflow_y": null,
            "overflow_x": null,
            "grid_auto_flow": null,
            "grid_area": null,
            "grid_template_columns": null,
            "flex": null,
            "_model_name": "LayoutModel",
            "justify_items": null,
            "grid_row": null,
            "max_height": null,
            "align_content": null,
            "visibility": null,
            "align_self": null,
            "height": null,
            "min_height": null,
            "padding": null,
            "grid_auto_rows": null,
            "grid_gap": null,
            "max_width": null,
            "order": null,
            "_view_module_version": "1.2.0",
            "grid_template_areas": null,
            "object_position": null,
            "object_fit": null,
            "grid_auto_columns": null,
            "margin": null,
            "display": null,
            "left": null
          }
        },
        "f18bc98337a04936ab0b23abaa76050a": {
          "model_module": "@jupyter-widgets/controls",
          "model_name": "FloatProgressModel",
          "state": {
            "_view_name": "ProgressView",
            "style": "IPY_MODEL_b1879d1c7ba54248ba86cadb99083408",
            "_dom_classes": [],
            "description": "",
            "_model_name": "FloatProgressModel",
            "bar_style": "success",
            "max": 1,
            "_view_module": "@jupyter-widgets/controls",
            "_model_module_version": "1.5.0",
            "value": 1,
            "_view_count": null,
            "_view_module_version": "1.5.0",
            "orientation": "horizontal",
            "min": 0,
            "description_tooltip": null,
            "_model_module": "@jupyter-widgets/controls",
            "layout": "IPY_MODEL_9e7a456436bf4314b1a9783c40c57ac8"
          }
        },
        "b2aab4e9d9de43769f1866afccb345a3": {
          "model_module": "@jupyter-widgets/controls",
          "model_name": "HTMLModel",
          "state": {
            "_view_name": "HTMLView",
            "style": "IPY_MODEL_532aff1860454cfdad83ac9d0fb64455",
            "_dom_classes": [],
            "description": "",
            "_model_name": "HTMLModel",
            "placeholder": "​",
            "_view_module": "@jupyter-widgets/controls",
            "_model_module_version": "1.5.0",
            "value": " 115/? [01:15&lt;00:00,  1.53it/s]",
            "_view_count": null,
            "_view_module_version": "1.5.0",
            "description_tooltip": null,
            "_model_module": "@jupyter-widgets/controls",
            "layout": "IPY_MODEL_fe011ca327ae45c88f591f03a6b52128"
          }
        },
        "b1879d1c7ba54248ba86cadb99083408": {
          "model_module": "@jupyter-widgets/controls",
          "model_name": "ProgressStyleModel",
          "state": {
            "_view_name": "StyleView",
            "_model_name": "ProgressStyleModel",
            "description_width": "initial",
            "_view_module": "@jupyter-widgets/base",
            "_model_module_version": "1.5.0",
            "_view_count": null,
            "_view_module_version": "1.2.0",
            "bar_color": null,
            "_model_module": "@jupyter-widgets/controls"
          }
        },
        "9e7a456436bf4314b1a9783c40c57ac8": {
          "model_module": "@jupyter-widgets/base",
          "model_name": "LayoutModel",
          "state": {
            "_view_name": "LayoutView",
            "grid_template_rows": null,
            "right": null,
            "justify_content": null,
            "_view_module": "@jupyter-widgets/base",
            "overflow": null,
            "_model_module_version": "1.2.0",
            "_view_count": null,
            "flex_flow": null,
            "width": null,
            "min_width": null,
            "border": null,
            "align_items": null,
            "bottom": null,
            "_model_module": "@jupyter-widgets/base",
            "top": null,
            "grid_column": null,
            "overflow_y": null,
            "overflow_x": null,
            "grid_auto_flow": null,
            "grid_area": null,
            "grid_template_columns": null,
            "flex": null,
            "_model_name": "LayoutModel",
            "justify_items": null,
            "grid_row": null,
            "max_height": null,
            "align_content": null,
            "visibility": null,
            "align_self": null,
            "height": null,
            "min_height": null,
            "padding": null,
            "grid_auto_rows": null,
            "grid_gap": null,
            "max_width": null,
            "order": null,
            "_view_module_version": "1.2.0",
            "grid_template_areas": null,
            "object_position": null,
            "object_fit": null,
            "grid_auto_columns": null,
            "margin": null,
            "display": null,
            "left": null
          }
        },
        "532aff1860454cfdad83ac9d0fb64455": {
          "model_module": "@jupyter-widgets/controls",
          "model_name": "DescriptionStyleModel",
          "state": {
            "_view_name": "StyleView",
            "_model_name": "DescriptionStyleModel",
            "description_width": "",
            "_view_module": "@jupyter-widgets/base",
            "_model_module_version": "1.5.0",
            "_view_count": null,
            "_view_module_version": "1.2.0",
            "_model_module": "@jupyter-widgets/controls"
          }
        },
        "fe011ca327ae45c88f591f03a6b52128": {
          "model_module": "@jupyter-widgets/base",
          "model_name": "LayoutModel",
          "state": {
            "_view_name": "LayoutView",
            "grid_template_rows": null,
            "right": null,
            "justify_content": null,
            "_view_module": "@jupyter-widgets/base",
            "overflow": null,
            "_model_module_version": "1.2.0",
            "_view_count": null,
            "flex_flow": null,
            "width": null,
            "min_width": null,
            "border": null,
            "align_items": null,
            "bottom": null,
            "_model_module": "@jupyter-widgets/base",
            "top": null,
            "grid_column": null,
            "overflow_y": null,
            "overflow_x": null,
            "grid_auto_flow": null,
            "grid_area": null,
            "grid_template_columns": null,
            "flex": null,
            "_model_name": "LayoutModel",
            "justify_items": null,
            "grid_row": null,
            "max_height": null,
            "align_content": null,
            "visibility": null,
            "align_self": null,
            "height": null,
            "min_height": null,
            "padding": null,
            "grid_auto_rows": null,
            "grid_gap": null,
            "max_width": null,
            "order": null,
            "_view_module_version": "1.2.0",
            "grid_template_areas": null,
            "object_position": null,
            "object_fit": null,
            "grid_auto_columns": null,
            "margin": null,
            "display": null,
            "left": null
          }
        },
        "279904d7470745a58e27c3fa2f2270ed": {
          "model_module": "@jupyter-widgets/controls",
          "model_name": "HBoxModel",
          "state": {
            "_view_name": "HBoxView",
            "_dom_classes": [],
            "_model_name": "HBoxModel",
            "_view_module": "@jupyter-widgets/controls",
            "_model_module_version": "1.5.0",
            "_view_count": null,
            "_view_module_version": "1.5.0",
            "box_style": "",
            "layout": "IPY_MODEL_6e5df3dbab994a088bfed7943b76c931",
            "_model_module": "@jupyter-widgets/controls",
            "children": [
              "IPY_MODEL_2761e93c83ba441ca869439b49dadb11",
              "IPY_MODEL_b8365e329f6c473e9abbb39a9b49ca6b"
            ]
          }
        },
        "6e5df3dbab994a088bfed7943b76c931": {
          "model_module": "@jupyter-widgets/base",
          "model_name": "LayoutModel",
          "state": {
            "_view_name": "LayoutView",
            "grid_template_rows": null,
            "right": null,
            "justify_content": null,
            "_view_module": "@jupyter-widgets/base",
            "overflow": null,
            "_model_module_version": "1.2.0",
            "_view_count": null,
            "flex_flow": null,
            "width": null,
            "min_width": null,
            "border": null,
            "align_items": null,
            "bottom": null,
            "_model_module": "@jupyter-widgets/base",
            "top": null,
            "grid_column": null,
            "overflow_y": null,
            "overflow_x": null,
            "grid_auto_flow": null,
            "grid_area": null,
            "grid_template_columns": null,
            "flex": null,
            "_model_name": "LayoutModel",
            "justify_items": null,
            "grid_row": null,
            "max_height": null,
            "align_content": null,
            "visibility": null,
            "align_self": null,
            "height": null,
            "min_height": null,
            "padding": null,
            "grid_auto_rows": null,
            "grid_gap": null,
            "max_width": null,
            "order": null,
            "_view_module_version": "1.2.0",
            "grid_template_areas": null,
            "object_position": null,
            "object_fit": null,
            "grid_auto_columns": null,
            "margin": null,
            "display": null,
            "left": null
          }
        },
        "2761e93c83ba441ca869439b49dadb11": {
          "model_module": "@jupyter-widgets/controls",
          "model_name": "FloatProgressModel",
          "state": {
            "_view_name": "ProgressView",
            "style": "IPY_MODEL_f14ed138fdd44181a71ff51196c5b40f",
            "_dom_classes": [],
            "description": "",
            "_model_name": "FloatProgressModel",
            "bar_style": "success",
            "max": 1,
            "_view_module": "@jupyter-widgets/controls",
            "_model_module_version": "1.5.0",
            "value": 1,
            "_view_count": null,
            "_view_module_version": "1.5.0",
            "orientation": "horizontal",
            "min": 0,
            "description_tooltip": null,
            "_model_module": "@jupyter-widgets/controls",
            "layout": "IPY_MODEL_98d33b098de64dcc9d2e09d93e96b211"
          }
        },
        "b8365e329f6c473e9abbb39a9b49ca6b": {
          "model_module": "@jupyter-widgets/controls",
          "model_name": "HTMLModel",
          "state": {
            "_view_name": "HTMLView",
            "style": "IPY_MODEL_9b7b63836c474d3794181dfbbde589e3",
            "_dom_classes": [],
            "description": "",
            "_model_name": "HTMLModel",
            "placeholder": "​",
            "_view_module": "@jupyter-widgets/controls",
            "_model_module_version": "1.5.0",
            "value": " 115/? [11:03&lt;00:00,  5.77s/it]",
            "_view_count": null,
            "_view_module_version": "1.5.0",
            "description_tooltip": null,
            "_model_module": "@jupyter-widgets/controls",
            "layout": "IPY_MODEL_e75ad1fdd10942b590b9be72ee1d6bc8"
          }
        },
        "f14ed138fdd44181a71ff51196c5b40f": {
          "model_module": "@jupyter-widgets/controls",
          "model_name": "ProgressStyleModel",
          "state": {
            "_view_name": "StyleView",
            "_model_name": "ProgressStyleModel",
            "description_width": "initial",
            "_view_module": "@jupyter-widgets/base",
            "_model_module_version": "1.5.0",
            "_view_count": null,
            "_view_module_version": "1.2.0",
            "bar_color": null,
            "_model_module": "@jupyter-widgets/controls"
          }
        },
        "98d33b098de64dcc9d2e09d93e96b211": {
          "model_module": "@jupyter-widgets/base",
          "model_name": "LayoutModel",
          "state": {
            "_view_name": "LayoutView",
            "grid_template_rows": null,
            "right": null,
            "justify_content": null,
            "_view_module": "@jupyter-widgets/base",
            "overflow": null,
            "_model_module_version": "1.2.0",
            "_view_count": null,
            "flex_flow": null,
            "width": null,
            "min_width": null,
            "border": null,
            "align_items": null,
            "bottom": null,
            "_model_module": "@jupyter-widgets/base",
            "top": null,
            "grid_column": null,
            "overflow_y": null,
            "overflow_x": null,
            "grid_auto_flow": null,
            "grid_area": null,
            "grid_template_columns": null,
            "flex": null,
            "_model_name": "LayoutModel",
            "justify_items": null,
            "grid_row": null,
            "max_height": null,
            "align_content": null,
            "visibility": null,
            "align_self": null,
            "height": null,
            "min_height": null,
            "padding": null,
            "grid_auto_rows": null,
            "grid_gap": null,
            "max_width": null,
            "order": null,
            "_view_module_version": "1.2.0",
            "grid_template_areas": null,
            "object_position": null,
            "object_fit": null,
            "grid_auto_columns": null,
            "margin": null,
            "display": null,
            "left": null
          }
        },
        "9b7b63836c474d3794181dfbbde589e3": {
          "model_module": "@jupyter-widgets/controls",
          "model_name": "DescriptionStyleModel",
          "state": {
            "_view_name": "StyleView",
            "_model_name": "DescriptionStyleModel",
            "description_width": "",
            "_view_module": "@jupyter-widgets/base",
            "_model_module_version": "1.5.0",
            "_view_count": null,
            "_view_module_version": "1.2.0",
            "_model_module": "@jupyter-widgets/controls"
          }
        },
        "e75ad1fdd10942b590b9be72ee1d6bc8": {
          "model_module": "@jupyter-widgets/base",
          "model_name": "LayoutModel",
          "state": {
            "_view_name": "LayoutView",
            "grid_template_rows": null,
            "right": null,
            "justify_content": null,
            "_view_module": "@jupyter-widgets/base",
            "overflow": null,
            "_model_module_version": "1.2.0",
            "_view_count": null,
            "flex_flow": null,
            "width": null,
            "min_width": null,
            "border": null,
            "align_items": null,
            "bottom": null,
            "_model_module": "@jupyter-widgets/base",
            "top": null,
            "grid_column": null,
            "overflow_y": null,
            "overflow_x": null,
            "grid_auto_flow": null,
            "grid_area": null,
            "grid_template_columns": null,
            "flex": null,
            "_model_name": "LayoutModel",
            "justify_items": null,
            "grid_row": null,
            "max_height": null,
            "align_content": null,
            "visibility": null,
            "align_self": null,
            "height": null,
            "min_height": null,
            "padding": null,
            "grid_auto_rows": null,
            "grid_gap": null,
            "max_width": null,
            "order": null,
            "_view_module_version": "1.2.0",
            "grid_template_areas": null,
            "object_position": null,
            "object_fit": null,
            "grid_auto_columns": null,
            "margin": null,
            "display": null,
            "left": null
          }
        },
        "a9a0564433ab4f5e9d8675abf1e0a9e3": {
          "model_module": "@jupyter-widgets/controls",
          "model_name": "HBoxModel",
          "state": {
            "_view_name": "HBoxView",
            "_dom_classes": [],
            "_model_name": "HBoxModel",
            "_view_module": "@jupyter-widgets/controls",
            "_model_module_version": "1.5.0",
            "_view_count": null,
            "_view_module_version": "1.5.0",
            "box_style": "",
            "layout": "IPY_MODEL_32c48ad8d6e74895afbea47eaed37cdb",
            "_model_module": "@jupyter-widgets/controls",
            "children": [
              "IPY_MODEL_8b7cac83bbb54d7487d0349d0c32a584",
              "IPY_MODEL_66ebe44a866f46c3b22ba6c343961c8f"
            ]
          }
        },
        "32c48ad8d6e74895afbea47eaed37cdb": {
          "model_module": "@jupyter-widgets/base",
          "model_name": "LayoutModel",
          "state": {
            "_view_name": "LayoutView",
            "grid_template_rows": null,
            "right": null,
            "justify_content": null,
            "_view_module": "@jupyter-widgets/base",
            "overflow": null,
            "_model_module_version": "1.2.0",
            "_view_count": null,
            "flex_flow": null,
            "width": null,
            "min_width": null,
            "border": null,
            "align_items": null,
            "bottom": null,
            "_model_module": "@jupyter-widgets/base",
            "top": null,
            "grid_column": null,
            "overflow_y": null,
            "overflow_x": null,
            "grid_auto_flow": null,
            "grid_area": null,
            "grid_template_columns": null,
            "flex": null,
            "_model_name": "LayoutModel",
            "justify_items": null,
            "grid_row": null,
            "max_height": null,
            "align_content": null,
            "visibility": null,
            "align_self": null,
            "height": null,
            "min_height": null,
            "padding": null,
            "grid_auto_rows": null,
            "grid_gap": null,
            "max_width": null,
            "order": null,
            "_view_module_version": "1.2.0",
            "grid_template_areas": null,
            "object_position": null,
            "object_fit": null,
            "grid_auto_columns": null,
            "margin": null,
            "display": null,
            "left": null
          }
        },
        "8b7cac83bbb54d7487d0349d0c32a584": {
          "model_module": "@jupyter-widgets/controls",
          "model_name": "FloatProgressModel",
          "state": {
            "_view_name": "ProgressView",
            "style": "IPY_MODEL_43a5857ce77e4344a8f9e359d12e9882",
            "_dom_classes": [],
            "description": "",
            "_model_name": "FloatProgressModel",
            "bar_style": "success",
            "max": 1,
            "_view_module": "@jupyter-widgets/controls",
            "_model_module_version": "1.5.0",
            "value": 1,
            "_view_count": null,
            "_view_module_version": "1.5.0",
            "orientation": "horizontal",
            "min": 0,
            "description_tooltip": null,
            "_model_module": "@jupyter-widgets/controls",
            "layout": "IPY_MODEL_4c93f2942cfc49abb6b9db39885c46ff"
          }
        },
        "66ebe44a866f46c3b22ba6c343961c8f": {
          "model_module": "@jupyter-widgets/controls",
          "model_name": "HTMLModel",
          "state": {
            "_view_name": "HTMLView",
            "style": "IPY_MODEL_57f8b2c59c9a486f8096f51dad34559b",
            "_dom_classes": [],
            "description": "",
            "_model_name": "HTMLModel",
            "placeholder": "​",
            "_view_module": "@jupyter-widgets/controls",
            "_model_module_version": "1.5.0",
            "value": " 115/? [08:13&lt;00:00,  4.29s/it]",
            "_view_count": null,
            "_view_module_version": "1.5.0",
            "description_tooltip": null,
            "_model_module": "@jupyter-widgets/controls",
            "layout": "IPY_MODEL_31cbab2891c44b98a40907d64d0dac75"
          }
        },
        "43a5857ce77e4344a8f9e359d12e9882": {
          "model_module": "@jupyter-widgets/controls",
          "model_name": "ProgressStyleModel",
          "state": {
            "_view_name": "StyleView",
            "_model_name": "ProgressStyleModel",
            "description_width": "initial",
            "_view_module": "@jupyter-widgets/base",
            "_model_module_version": "1.5.0",
            "_view_count": null,
            "_view_module_version": "1.2.0",
            "bar_color": null,
            "_model_module": "@jupyter-widgets/controls"
          }
        },
        "4c93f2942cfc49abb6b9db39885c46ff": {
          "model_module": "@jupyter-widgets/base",
          "model_name": "LayoutModel",
          "state": {
            "_view_name": "LayoutView",
            "grid_template_rows": null,
            "right": null,
            "justify_content": null,
            "_view_module": "@jupyter-widgets/base",
            "overflow": null,
            "_model_module_version": "1.2.0",
            "_view_count": null,
            "flex_flow": null,
            "width": null,
            "min_width": null,
            "border": null,
            "align_items": null,
            "bottom": null,
            "_model_module": "@jupyter-widgets/base",
            "top": null,
            "grid_column": null,
            "overflow_y": null,
            "overflow_x": null,
            "grid_auto_flow": null,
            "grid_area": null,
            "grid_template_columns": null,
            "flex": null,
            "_model_name": "LayoutModel",
            "justify_items": null,
            "grid_row": null,
            "max_height": null,
            "align_content": null,
            "visibility": null,
            "align_self": null,
            "height": null,
            "min_height": null,
            "padding": null,
            "grid_auto_rows": null,
            "grid_gap": null,
            "max_width": null,
            "order": null,
            "_view_module_version": "1.2.0",
            "grid_template_areas": null,
            "object_position": null,
            "object_fit": null,
            "grid_auto_columns": null,
            "margin": null,
            "display": null,
            "left": null
          }
        },
        "57f8b2c59c9a486f8096f51dad34559b": {
          "model_module": "@jupyter-widgets/controls",
          "model_name": "DescriptionStyleModel",
          "state": {
            "_view_name": "StyleView",
            "_model_name": "DescriptionStyleModel",
            "description_width": "",
            "_view_module": "@jupyter-widgets/base",
            "_model_module_version": "1.5.0",
            "_view_count": null,
            "_view_module_version": "1.2.0",
            "_model_module": "@jupyter-widgets/controls"
          }
        },
        "31cbab2891c44b98a40907d64d0dac75": {
          "model_module": "@jupyter-widgets/base",
          "model_name": "LayoutModel",
          "state": {
            "_view_name": "LayoutView",
            "grid_template_rows": null,
            "right": null,
            "justify_content": null,
            "_view_module": "@jupyter-widgets/base",
            "overflow": null,
            "_model_module_version": "1.2.0",
            "_view_count": null,
            "flex_flow": null,
            "width": null,
            "min_width": null,
            "border": null,
            "align_items": null,
            "bottom": null,
            "_model_module": "@jupyter-widgets/base",
            "top": null,
            "grid_column": null,
            "overflow_y": null,
            "overflow_x": null,
            "grid_auto_flow": null,
            "grid_area": null,
            "grid_template_columns": null,
            "flex": null,
            "_model_name": "LayoutModel",
            "justify_items": null,
            "grid_row": null,
            "max_height": null,
            "align_content": null,
            "visibility": null,
            "align_self": null,
            "height": null,
            "min_height": null,
            "padding": null,
            "grid_auto_rows": null,
            "grid_gap": null,
            "max_width": null,
            "order": null,
            "_view_module_version": "1.2.0",
            "grid_template_areas": null,
            "object_position": null,
            "object_fit": null,
            "grid_auto_columns": null,
            "margin": null,
            "display": null,
            "left": null
          }
        }
      }
    },
    "accelerator": "GPU"
  },
  "cells": [
    {
      "cell_type": "code",
      "metadata": {
        "id": "U4cip0sOoLsp",
        "colab_type": "code",
        "colab": {
          "base_uri": "https://localhost:8080/",
          "height": 102
        },
        "outputId": "7ce39f99-8f1c-4a2d-822b-5d9a74d54e7c"
      },
      "source": [
        "# !pip install transformers -q"
      ],
      "execution_count": null,
      "outputs": [
        {
          "output_type": "stream",
          "text": [
            "\u001b[K     |████████████████████████████████| 778kB 6.9MB/s \n",
            "\u001b[K     |████████████████████████████████| 3.0MB 42.0MB/s \n",
            "\u001b[K     |████████████████████████████████| 890kB 40.3MB/s \n",
            "\u001b[K     |████████████████████████████████| 1.1MB 37.7MB/s \n",
            "\u001b[?25h  Building wheel for sacremoses (setup.py) ... \u001b[?25l\u001b[?25hdone\n"
          ],
          "name": "stdout"
        }
      ]
    },
    {
      "cell_type": "code",
      "metadata": {
        "id": "diExRFILkIAP",
        "colab_type": "code",
        "colab": {}
      },
      "source": [
        "import transformers\n",
        "from transformers import AutoTokenizer, AutoModelForSeq2SeqLM\n",
        "import torch\n",
        "import torch.nn.functional as F\n",
        "import numpy as np\n",
        "import pandas as pd\n",
        "\n",
        "from glob import glob\n",
        "from tqdm.notebook import tqdm\n",
        "from IPython.display import display\n",
        "\n",
        "SEED = 2020"
      ],
      "execution_count": null,
      "outputs": []
    },
    {
      "cell_type": "code",
      "metadata": {
        "id": "QvZxkbFpoH8R",
        "colab_type": "code",
        "colab": {
          "base_uri": "https://localhost:8080/",
          "height": 71
        },
        "outputId": "2de69ddd-847f-4e1e-cf70-cadecbc7a880"
      },
      "source": [
        "tokenizer = AutoTokenizer.from_pretrained(\"t5-small\")\n",
        "model = AutoModelForSeq2SeqLM.from_pretrained(\"t5-small\").cuda()"
      ],
      "execution_count": null,
      "outputs": [
        {
          "output_type": "stream",
          "text": [
            "Some weights of T5ForConditionalGeneration were not initialized from the model checkpoint at t5-small and are newly initialized: ['encoder.embed_tokens.weight', 'decoder.embed_tokens.weight', 'lm_head.weight']\n",
            "You should probably TRAIN this model on a down-stream task to be able to use it for predictions and inference.\n"
          ],
          "name": "stderr"
        }
      ]
    },
    {
      "cell_type": "markdown",
      "metadata": {
        "id": "Y90Uu5pzMj7N",
        "colab_type": "text"
      },
      "source": [
        "## Pre-process data"
      ]
    },
    {
      "cell_type": "code",
      "metadata": {
        "id": "ogJfOLGOMrL8",
        "colab_type": "code",
        "colab": {}
      },
      "source": [
        "# !unzip -q data.zip\n",
        "# !rm data.zip"
      ],
      "execution_count": null,
      "outputs": []
    },
    {
      "cell_type": "code",
      "metadata": {
        "id": "9uPTo-RtDqSY",
        "colab_type": "code",
        "colab": {
          "base_uri": "https://localhost:8080/",
          "height": 34
        },
        "outputId": "94fbc6bd-bd5c-4f13-8874-59f98b675fed"
      },
      "source": [
        "df_raw = [pd.read_csv(path) for path in glob('data/num_text_pair *.csv')]\n",
        "df_raw = (pd.concat(df_raw).\n",
        "          sample(frac=1.0, random_state=SEED).\n",
        "          reset_index(drop=True))\n",
        "df_raw = df_raw.astype(str)\n",
        "df_raw['number'] = df_raw['number'].apply(lambda x: ' '.join(x))\n",
        "\n",
        "df_raw.shape"
      ],
      "execution_count": null,
      "outputs": [
        {
          "output_type": "execute_result",
          "data": {
            "text/plain": [
              "(12200, 2)"
            ]
          },
          "metadata": {
            "tags": []
          },
          "execution_count": 4
        }
      ]
    },
    {
      "cell_type": "code",
      "metadata": {
        "id": "wkpfLy5zNNe1",
        "colab_type": "code",
        "colab": {
          "base_uri": "https://localhost:8080/",
          "height": 204
        },
        "outputId": "2b5d43b3-d6dc-4a10-de05-665c4f7a74e1"
      },
      "source": [
        "df_raw.tail()"
      ],
      "execution_count": null,
      "outputs": [
        {
          "output_type": "execute_result",
          "data": {
            "text/html": [
              "<div>\n",
              "<style scoped>\n",
              "    .dataframe tbody tr th:only-of-type {\n",
              "        vertical-align: middle;\n",
              "    }\n",
              "\n",
              "    .dataframe tbody tr th {\n",
              "        vertical-align: top;\n",
              "    }\n",
              "\n",
              "    .dataframe thead th {\n",
              "        text-align: right;\n",
              "    }\n",
              "</style>\n",
              "<table border=\"1\" class=\"dataframe\">\n",
              "  <thead>\n",
              "    <tr style=\"text-align: right;\">\n",
              "      <th></th>\n",
              "      <th>number</th>\n",
              "      <th>text</th>\n",
              "    </tr>\n",
              "  </thead>\n",
              "  <tbody>\n",
              "    <tr>\n",
              "      <th>12195</th>\n",
              "      <td>7 8 6 6 9 9</td>\n",
              "      <td>seven hundred eighty-six thousand six hundred ...</td>\n",
              "    </tr>\n",
              "    <tr>\n",
              "      <th>12196</th>\n",
              "      <td>8 6 1 1 1 7</td>\n",
              "      <td>eight hundred sixty-one thousand one hundred s...</td>\n",
              "    </tr>\n",
              "    <tr>\n",
              "      <th>12197</th>\n",
              "      <td>5 2 2 6</td>\n",
              "      <td>five thousand two hundred twenty-six</td>\n",
              "    </tr>\n",
              "    <tr>\n",
              "      <th>12198</th>\n",
              "      <td>9 2 6 4 7</td>\n",
              "      <td>ninety-two thousand six hundred forty-seven</td>\n",
              "    </tr>\n",
              "    <tr>\n",
              "      <th>12199</th>\n",
              "      <td>2 0 5 6 0 8</td>\n",
              "      <td>two hundred five thousand six hundred eight</td>\n",
              "    </tr>\n",
              "  </tbody>\n",
              "</table>\n",
              "</div>"
            ],
            "text/plain": [
              "            number                                               text\n",
              "12195  7 8 6 6 9 9  seven hundred eighty-six thousand six hundred ...\n",
              "12196  8 6 1 1 1 7  eight hundred sixty-one thousand one hundred s...\n",
              "12197      5 2 2 6               five thousand two hundred twenty-six\n",
              "12198    9 2 6 4 7        ninety-two thousand six hundred forty-seven\n",
              "12199  2 0 5 6 0 8        two hundred five thousand six hundred eight"
            ]
          },
          "metadata": {
            "tags": []
          },
          "execution_count": 5
        }
      ]
    },
    {
      "cell_type": "markdown",
      "metadata": {
        "id": "ZlX2otuAOZsP",
        "colab_type": "text"
      },
      "source": [
        "## Unsupervised denoising training"
      ]
    },
    {
      "cell_type": "code",
      "metadata": {
        "id": "UVU7_2O6N-ck",
        "colab_type": "code",
        "colab": {}
      },
      "source": [
        ""
      ],
      "execution_count": null,
      "outputs": []
    },
    {
      "cell_type": "markdown",
      "metadata": {
        "id": "yt6k5cXyUGjl",
        "colab_type": "text"
      },
      "source": [
        "## Supervised training"
      ]
    },
    {
      "cell_type": "code",
      "metadata": {
        "id": "M43nBgIyVHLB",
        "colab_type": "code",
        "colab": {}
      },
      "source": [
        "# from sklearn.model_selection import train_test_split"
      ],
      "execution_count": null,
      "outputs": []
    },
    {
      "cell_type": "code",
      "metadata": {
        "id": "OT-qudyDVejG",
        "colab_type": "code",
        "colab": {}
      },
      "source": [
        "df_train, df_test = df_raw[:11000], df_raw[11000:]\n",
        "df_val, df_test = df_test[:600], df_test[600:]"
      ],
      "execution_count": null,
      "outputs": []
    },
    {
      "cell_type": "code",
      "metadata": {
        "id": "4tNluTYePD4c",
        "colab_type": "code",
        "colab": {
          "base_uri": "https://localhost:8080/",
          "height": 85
        },
        "outputId": "ff2448f8-52c2-46a1-c134-5c002c17da20"
      },
      "source": [
        "print('Total data:', df_raw.shape[0])\n",
        "print('Total train data:', df_train.shape[0])\n",
        "print('Total validation data:', df_val.shape[0])\n",
        "print('Total test data:', df_test.shape[0])"
      ],
      "execution_count": null,
      "outputs": [
        {
          "output_type": "stream",
          "text": [
            "Total data: 12200\n",
            "Total train data: 11000\n",
            "Total validation data: 600\n",
            "Total test data: 600\n"
          ],
          "name": "stdout"
        }
      ]
    },
    {
      "cell_type": "code",
      "metadata": {
        "id": "FREoGgrQV9rm",
        "colab_type": "code",
        "colab": {}
      },
      "source": [
        "def pre_process(df: pd.DataFrame, num2text: bool) -> pd.DataFrame:\n",
        "    new_df = pd.DataFrame(columns=['inputs', 'targets'])\n",
        "\n",
        "    if num2text is True:\n",
        "        task = 'number to english'\n",
        "        new_df['inputs'] = df['number'].apply(lambda x: f'{task}: {x} </s>')\n",
        "        new_df['targets'] = df['text'].apply(lambda x: f'{x} </s>')\n",
        "    else: \n",
        "        task = 'english to number'\n",
        "        new_df['inputs'] = df['text'].apply(lambda x: f'{task}: {x} </s>')\n",
        "        new_df['targets'] = df['number'].apply(lambda x: f'{x} </s>')\n",
        "\n",
        "    return new_df"
      ],
      "execution_count": null,
      "outputs": []
    },
    {
      "cell_type": "code",
      "metadata": {
        "id": "FkmYZRZYbdJY",
        "colab_type": "code",
        "colab": {
          "base_uri": "https://localhost:8080/",
          "height": 204
        },
        "outputId": "a17633e8-1c79-4b7a-c648-879bfacb796d"
      },
      "source": [
        "pre_process(df_raw.tail(), num2text=False)"
      ],
      "execution_count": null,
      "outputs": [
        {
          "output_type": "execute_result",
          "data": {
            "text/html": [
              "<div>\n",
              "<style scoped>\n",
              "    .dataframe tbody tr th:only-of-type {\n",
              "        vertical-align: middle;\n",
              "    }\n",
              "\n",
              "    .dataframe tbody tr th {\n",
              "        vertical-align: top;\n",
              "    }\n",
              "\n",
              "    .dataframe thead th {\n",
              "        text-align: right;\n",
              "    }\n",
              "</style>\n",
              "<table border=\"1\" class=\"dataframe\">\n",
              "  <thead>\n",
              "    <tr style=\"text-align: right;\">\n",
              "      <th></th>\n",
              "      <th>inputs</th>\n",
              "      <th>targets</th>\n",
              "    </tr>\n",
              "  </thead>\n",
              "  <tbody>\n",
              "    <tr>\n",
              "      <th>12195</th>\n",
              "      <td>english to number: seven hundred eighty-six th...</td>\n",
              "      <td>7 8 6 6 9 9 &lt;/s&gt;</td>\n",
              "    </tr>\n",
              "    <tr>\n",
              "      <th>12196</th>\n",
              "      <td>english to number: eight hundred sixty-one tho...</td>\n",
              "      <td>8 6 1 1 1 7 &lt;/s&gt;</td>\n",
              "    </tr>\n",
              "    <tr>\n",
              "      <th>12197</th>\n",
              "      <td>english to number: five thousand two hundred t...</td>\n",
              "      <td>5 2 2 6 &lt;/s&gt;</td>\n",
              "    </tr>\n",
              "    <tr>\n",
              "      <th>12198</th>\n",
              "      <td>english to number: ninety-two thousand six hun...</td>\n",
              "      <td>9 2 6 4 7 &lt;/s&gt;</td>\n",
              "    </tr>\n",
              "    <tr>\n",
              "      <th>12199</th>\n",
              "      <td>english to number: two hundred five thousand s...</td>\n",
              "      <td>2 0 5 6 0 8 &lt;/s&gt;</td>\n",
              "    </tr>\n",
              "  </tbody>\n",
              "</table>\n",
              "</div>"
            ],
            "text/plain": [
              "                                                  inputs           targets\n",
              "12195  english to number: seven hundred eighty-six th...  7 8 6 6 9 9 </s>\n",
              "12196  english to number: eight hundred sixty-one tho...  8 6 1 1 1 7 </s>\n",
              "12197  english to number: five thousand two hundred t...      5 2 2 6 </s>\n",
              "12198  english to number: ninety-two thousand six hun...    9 2 6 4 7 </s>\n",
              "12199  english to number: two hundred five thousand s...  2 0 5 6 0 8 </s>"
            ]
          },
          "metadata": {
            "tags": []
          },
          "execution_count": 10
        }
      ]
    },
    {
      "cell_type": "markdown",
      "metadata": {
        "id": "x63cl_1lpFZF",
        "colab_type": "text"
      },
      "source": [
        "### Train dataset preparation"
      ]
    },
    {
      "cell_type": "code",
      "metadata": {
        "id": "A-surQQMbwWu",
        "colab_type": "code",
        "colab": {
          "base_uri": "https://localhost:8080/",
          "height": 51
        },
        "outputId": "9abc6bf0-1c45-4d6f-8b99-1b4e927a1277"
      },
      "source": [
        "df_train_processed_1 = pre_process(df_train[0::3], num2text=False)\n",
        "df_train_processed_2 = pre_process(df_train[1::3], num2text=True)\n",
        "df_train_processed_3 = pre_process(df_train[2::3], num2text=False)\n",
        "df_train_processed_4 = pre_process(df_train[2::3], num2text=True)\n",
        "\n",
        "print(df_train_processed_1.shape[0], df_train_processed_2.shape[0])\n",
        "print(df_train_processed_3.shape[0], df_train_processed_4.shape[0])"
      ],
      "execution_count": null,
      "outputs": [
        {
          "output_type": "stream",
          "text": [
            "3667 3667\n",
            "3666 3666\n"
          ],
          "name": "stdout"
        }
      ]
    },
    {
      "cell_type": "code",
      "metadata": {
        "id": "arGk_jVcmxrh",
        "colab_type": "code",
        "colab": {
          "base_uri": "https://localhost:8080/",
          "height": 34
        },
        "outputId": "e856355e-2545-4957-e578-a0c22a5b3cd6"
      },
      "source": [
        "total_train_size = (df_train_processed_1.shape[0] + \n",
        "                    df_train_processed_2.shape[0] + \n",
        "                    df_train_processed_3.shape[0] + \n",
        "                    df_train_processed_4.shape[0])\n",
        "\n",
        "total_train_size"
      ],
      "execution_count": null,
      "outputs": [
        {
          "output_type": "execute_result",
          "data": {
            "text/plain": [
              "14666"
            ]
          },
          "metadata": {
            "tags": []
          },
          "execution_count": 12
        }
      ]
    },
    {
      "cell_type": "code",
      "metadata": {
        "id": "VXOspP_wm6wV",
        "colab_type": "code",
        "colab": {
          "base_uri": "https://localhost:8080/",
          "height": 436
        },
        "outputId": "713d2196-e799-4e46-c64b-dcfe18813e15"
      },
      "source": [
        "df_train_total = pd.concat([\n",
        "    df_train_processed_1,\n",
        "    df_train_processed_2,\n",
        "    df_train_processed_3,\n",
        "    df_train_processed_4\n",
        "])\n",
        "\n",
        "df_train_total = (df_train_total\n",
        "                  .sample(frac=1.0, random_state=SEED)\n",
        "                  .reset_index(drop=True))\n",
        "\n",
        "del df_train_processed_1, df_train_processed_2, df_train_processed_3, df_train_processed_4\n",
        "\n",
        "print(df_train_total.shape)\n",
        "df_train_total"
      ],
      "execution_count": null,
      "outputs": [
        {
          "output_type": "stream",
          "text": [
            "(14666, 2)\n"
          ],
          "name": "stdout"
        },
        {
          "output_type": "execute_result",
          "data": {
            "text/html": [
              "<div>\n",
              "<style scoped>\n",
              "    .dataframe tbody tr th:only-of-type {\n",
              "        vertical-align: middle;\n",
              "    }\n",
              "\n",
              "    .dataframe tbody tr th {\n",
              "        vertical-align: top;\n",
              "    }\n",
              "\n",
              "    .dataframe thead th {\n",
              "        text-align: right;\n",
              "    }\n",
              "</style>\n",
              "<table border=\"1\" class=\"dataframe\">\n",
              "  <thead>\n",
              "    <tr style=\"text-align: right;\">\n",
              "      <th></th>\n",
              "      <th>inputs</th>\n",
              "      <th>targets</th>\n",
              "    </tr>\n",
              "  </thead>\n",
              "  <tbody>\n",
              "    <tr>\n",
              "      <th>0</th>\n",
              "      <td>english to number: fifty-three thousand one hu...</td>\n",
              "      <td>5 3 1 9 1 &lt;/s&gt;</td>\n",
              "    </tr>\n",
              "    <tr>\n",
              "      <th>1</th>\n",
              "      <td>english to number: twenty-four thousand three ...</td>\n",
              "      <td>2 4 3 0 1 &lt;/s&gt;</td>\n",
              "    </tr>\n",
              "    <tr>\n",
              "      <th>2</th>\n",
              "      <td>english to number: eight hundred sixty-four th...</td>\n",
              "      <td>8 6 4 7 0 2 &lt;/s&gt;</td>\n",
              "    </tr>\n",
              "    <tr>\n",
              "      <th>3</th>\n",
              "      <td>number to english: 5 4 4 3 4 3 &lt;/s&gt;</td>\n",
              "      <td>five hundred forty-four thousand three hundred...</td>\n",
              "    </tr>\n",
              "    <tr>\n",
              "      <th>4</th>\n",
              "      <td>number to english: 4 3 2 3 0 &lt;/s&gt;</td>\n",
              "      <td>forty-three thousand two hundred thirty &lt;/s&gt;</td>\n",
              "    </tr>\n",
              "    <tr>\n",
              "      <th>...</th>\n",
              "      <td>...</td>\n",
              "      <td>...</td>\n",
              "    </tr>\n",
              "    <tr>\n",
              "      <th>14661</th>\n",
              "      <td>english to number: one hundred sixty-three tho...</td>\n",
              "      <td>1 6 3 4 1 6 &lt;/s&gt;</td>\n",
              "    </tr>\n",
              "    <tr>\n",
              "      <th>14662</th>\n",
              "      <td>number to english: 6 9 3 1 3 1 &lt;/s&gt;</td>\n",
              "      <td>six hundred ninety-three thousand one hundred ...</td>\n",
              "    </tr>\n",
              "    <tr>\n",
              "      <th>14663</th>\n",
              "      <td>english to number: one hundred fifty-nine thou...</td>\n",
              "      <td>1 5 9 1 4 8 &lt;/s&gt;</td>\n",
              "    </tr>\n",
              "    <tr>\n",
              "      <th>14664</th>\n",
              "      <td>number to english: 1 9 0 3 8 &lt;/s&gt;</td>\n",
              "      <td>nineteen thousand thirty-eight &lt;/s&gt;</td>\n",
              "    </tr>\n",
              "    <tr>\n",
              "      <th>14665</th>\n",
              "      <td>english to number: three thousand one hundred ...</td>\n",
              "      <td>3 1 9 5 &lt;/s&gt;</td>\n",
              "    </tr>\n",
              "  </tbody>\n",
              "</table>\n",
              "<p>14666 rows × 2 columns</p>\n",
              "</div>"
            ],
            "text/plain": [
              "                                                  inputs                                            targets\n",
              "0      english to number: fifty-three thousand one hu...                                     5 3 1 9 1 </s>\n",
              "1      english to number: twenty-four thousand three ...                                     2 4 3 0 1 </s>\n",
              "2      english to number: eight hundred sixty-four th...                                   8 6 4 7 0 2 </s>\n",
              "3                    number to english: 5 4 4 3 4 3 </s>  five hundred forty-four thousand three hundred...\n",
              "4                      number to english: 4 3 2 3 0 </s>       forty-three thousand two hundred thirty </s>\n",
              "...                                                  ...                                                ...\n",
              "14661  english to number: one hundred sixty-three tho...                                   1 6 3 4 1 6 </s>\n",
              "14662                number to english: 6 9 3 1 3 1 </s>  six hundred ninety-three thousand one hundred ...\n",
              "14663  english to number: one hundred fifty-nine thou...                                   1 5 9 1 4 8 </s>\n",
              "14664                  number to english: 1 9 0 3 8 </s>                nineteen thousand thirty-eight </s>\n",
              "14665  english to number: three thousand one hundred ...                                       3 1 9 5 </s>\n",
              "\n",
              "[14666 rows x 2 columns]"
            ]
          },
          "metadata": {
            "tags": []
          },
          "execution_count": 13
        }
      ]
    },
    {
      "cell_type": "code",
      "metadata": {
        "id": "Q0axbZ1yBc0-",
        "colab_type": "code",
        "colab": {
          "base_uri": "https://localhost:8080/",
          "height": 419
        },
        "outputId": "22db652f-6734-4491-f7e4-967ab9157adf"
      },
      "source": [
        "df_train_total_encoded = pd.DataFrame()\n",
        "df_train_total_encoded['inputs'] = (df_train_total['inputs']\n",
        "                                    .apply(lambda x: tokenizer.encode(x, return_tensors='pt')))\n",
        "df_train_total_encoded['targets'] = (df_train_total['targets']\n",
        "                                     .apply(lambda x: tokenizer.encode(x, return_tensors='pt')))\n",
        "\n",
        "df_train_total_encoded"
      ],
      "execution_count": null,
      "outputs": [
        {
          "output_type": "execute_result",
          "data": {
            "text/html": [
              "<div>\n",
              "<style scoped>\n",
              "    .dataframe tbody tr th:only-of-type {\n",
              "        vertical-align: middle;\n",
              "    }\n",
              "\n",
              "    .dataframe tbody tr th {\n",
              "        vertical-align: top;\n",
              "    }\n",
              "\n",
              "    .dataframe thead th {\n",
              "        text-align: right;\n",
              "    }\n",
              "</style>\n",
              "<table border=\"1\" class=\"dataframe\">\n",
              "  <thead>\n",
              "    <tr style=\"text-align: right;\">\n",
              "      <th></th>\n",
              "      <th>inputs</th>\n",
              "      <th>targets</th>\n",
              "    </tr>\n",
              "  </thead>\n",
              "  <tbody>\n",
              "    <tr>\n",
              "      <th>0</th>\n",
              "      <td>[[tensor(22269), tensor(12), tensor(381), tens...</td>\n",
              "      <td>[[tensor(305), tensor(220), tensor(209), tenso...</td>\n",
              "    </tr>\n",
              "    <tr>\n",
              "      <th>1</th>\n",
              "      <td>[[tensor(22269), tensor(12), tensor(381), tens...</td>\n",
              "      <td>[[tensor(204), tensor(314), tensor(220), tenso...</td>\n",
              "    </tr>\n",
              "    <tr>\n",
              "      <th>2</th>\n",
              "      <td>[[tensor(22269), tensor(12), tensor(381), tens...</td>\n",
              "      <td>[[tensor(505), tensor(431), tensor(314), tenso...</td>\n",
              "    </tr>\n",
              "    <tr>\n",
              "      <th>3</th>\n",
              "      <td>[[tensor(381), tensor(12), tensor(22269), tens...</td>\n",
              "      <td>[[tensor(874), tensor(6189), tensor(19662), te...</td>\n",
              "    </tr>\n",
              "    <tr>\n",
              "      <th>4</th>\n",
              "      <td>[[tensor(381), tensor(12), tensor(22269), tens...</td>\n",
              "      <td>[[tensor(19662), tensor(18), tensor(21182), te...</td>\n",
              "    </tr>\n",
              "    <tr>\n",
              "      <th>...</th>\n",
              "      <td>...</td>\n",
              "      <td>...</td>\n",
              "    </tr>\n",
              "    <tr>\n",
              "      <th>14661</th>\n",
              "      <td>[[tensor(22269), tensor(12), tensor(381), tens...</td>\n",
              "      <td>[[tensor(209), tensor(431), tensor(220), tenso...</td>\n",
              "    </tr>\n",
              "    <tr>\n",
              "      <th>14662</th>\n",
              "      <td>[[tensor(381), tensor(12), tensor(22269), tens...</td>\n",
              "      <td>[[tensor(1296), tensor(6189), tensor(4169), te...</td>\n",
              "    </tr>\n",
              "    <tr>\n",
              "      <th>14663</th>\n",
              "      <td>[[tensor(22269), tensor(12), tensor(381), tens...</td>\n",
              "      <td>[[tensor(209), tensor(305), tensor(668), tenso...</td>\n",
              "    </tr>\n",
              "    <tr>\n",
              "      <th>14664</th>\n",
              "      <td>[[tensor(381), tensor(12), tensor(22269), tens...</td>\n",
              "      <td>[[tensor(4169), tensor(6808), tensor(7863), te...</td>\n",
              "    </tr>\n",
              "    <tr>\n",
              "      <th>14665</th>\n",
              "      <td>[[tensor(22269), tensor(12), tensor(381), tens...</td>\n",
              "      <td>[[tensor(220), tensor(209), tensor(668), tenso...</td>\n",
              "    </tr>\n",
              "  </tbody>\n",
              "</table>\n",
              "<p>14666 rows × 2 columns</p>\n",
              "</div>"
            ],
            "text/plain": [
              "                                                  inputs                                            targets\n",
              "0      [[tensor(22269), tensor(12), tensor(381), tens...  [[tensor(305), tensor(220), tensor(209), tenso...\n",
              "1      [[tensor(22269), tensor(12), tensor(381), tens...  [[tensor(204), tensor(314), tensor(220), tenso...\n",
              "2      [[tensor(22269), tensor(12), tensor(381), tens...  [[tensor(505), tensor(431), tensor(314), tenso...\n",
              "3      [[tensor(381), tensor(12), tensor(22269), tens...  [[tensor(874), tensor(6189), tensor(19662), te...\n",
              "4      [[tensor(381), tensor(12), tensor(22269), tens...  [[tensor(19662), tensor(18), tensor(21182), te...\n",
              "...                                                  ...                                                ...\n",
              "14661  [[tensor(22269), tensor(12), tensor(381), tens...  [[tensor(209), tensor(431), tensor(220), tenso...\n",
              "14662  [[tensor(381), tensor(12), tensor(22269), tens...  [[tensor(1296), tensor(6189), tensor(4169), te...\n",
              "14663  [[tensor(22269), tensor(12), tensor(381), tens...  [[tensor(209), tensor(305), tensor(668), tenso...\n",
              "14664  [[tensor(381), tensor(12), tensor(22269), tens...  [[tensor(4169), tensor(6808), tensor(7863), te...\n",
              "14665  [[tensor(22269), tensor(12), tensor(381), tens...  [[tensor(220), tensor(209), tensor(668), tenso...\n",
              "\n",
              "[14666 rows x 2 columns]"
            ]
          },
          "metadata": {
            "tags": []
          },
          "execution_count": 14
        }
      ]
    },
    {
      "cell_type": "markdown",
      "metadata": {
        "id": "uvPri4IppMuZ",
        "colab_type": "text"
      },
      "source": [
        "### Validation dataset preparation"
      ]
    },
    {
      "cell_type": "code",
      "metadata": {
        "id": "t4-IrREgofYR",
        "colab_type": "code",
        "colab": {
          "base_uri": "https://localhost:8080/",
          "height": 436
        },
        "outputId": "104a79b0-7f81-4977-9bbe-663be27e6cd8"
      },
      "source": [
        "df_val_processed_1 = pre_process(df_val[0::2], num2text=False)\n",
        "df_val_processed_2 = pre_process(df_val[1::2], num2text=True)\n",
        "\n",
        "df_val_total = pd.concat([\n",
        "    df_val_processed_1,\n",
        "    df_val_processed_2\n",
        "])\n",
        "\n",
        "df_val_total = (df_val_total\n",
        "                .sample(frac=1.0, random_state=SEED)\n",
        "                .reset_index(drop=True))\n",
        "\n",
        "del df_val_processed_1, df_val_processed_2\n",
        "\n",
        "print(df_val_total.shape)\n",
        "df_val_total"
      ],
      "execution_count": null,
      "outputs": [
        {
          "output_type": "stream",
          "text": [
            "(600, 2)\n"
          ],
          "name": "stdout"
        },
        {
          "output_type": "execute_result",
          "data": {
            "text/html": [
              "<div>\n",
              "<style scoped>\n",
              "    .dataframe tbody tr th:only-of-type {\n",
              "        vertical-align: middle;\n",
              "    }\n",
              "\n",
              "    .dataframe tbody tr th {\n",
              "        vertical-align: top;\n",
              "    }\n",
              "\n",
              "    .dataframe thead th {\n",
              "        text-align: right;\n",
              "    }\n",
              "</style>\n",
              "<table border=\"1\" class=\"dataframe\">\n",
              "  <thead>\n",
              "    <tr style=\"text-align: right;\">\n",
              "      <th></th>\n",
              "      <th>inputs</th>\n",
              "      <th>targets</th>\n",
              "    </tr>\n",
              "  </thead>\n",
              "  <tbody>\n",
              "    <tr>\n",
              "      <th>0</th>\n",
              "      <td>number to english: 1 3 7 9 2 6 &lt;/s&gt;</td>\n",
              "      <td>one hundred thirty-seven thousand nine hundred...</td>\n",
              "    </tr>\n",
              "    <tr>\n",
              "      <th>1</th>\n",
              "      <td>english to number: two hundred eighty thousand...</td>\n",
              "      <td>2 8 0 0 8 9 &lt;/s&gt;</td>\n",
              "    </tr>\n",
              "    <tr>\n",
              "      <th>2</th>\n",
              "      <td>english to number: fifty thousand three hundre...</td>\n",
              "      <td>5 0 3 0 4 &lt;/s&gt;</td>\n",
              "    </tr>\n",
              "    <tr>\n",
              "      <th>3</th>\n",
              "      <td>english to number: three hundred five thousand...</td>\n",
              "      <td>3 0 5 8 8 3 &lt;/s&gt;</td>\n",
              "    </tr>\n",
              "    <tr>\n",
              "      <th>4</th>\n",
              "      <td>number to english: 6 0 7 0 5 1 &lt;/s&gt;</td>\n",
              "      <td>six hundred seven thousand fifty-one &lt;/s&gt;</td>\n",
              "    </tr>\n",
              "    <tr>\n",
              "      <th>...</th>\n",
              "      <td>...</td>\n",
              "      <td>...</td>\n",
              "    </tr>\n",
              "    <tr>\n",
              "      <th>595</th>\n",
              "      <td>english to number: forty-eight thousand one hu...</td>\n",
              "      <td>4 8 1 1 7 &lt;/s&gt;</td>\n",
              "    </tr>\n",
              "    <tr>\n",
              "      <th>596</th>\n",
              "      <td>number to english: 7 5 8 3 9 4 &lt;/s&gt;</td>\n",
              "      <td>seven hundred fifty-eight thousand three hundr...</td>\n",
              "    </tr>\n",
              "    <tr>\n",
              "      <th>597</th>\n",
              "      <td>english to number: eight hundred four thousand...</td>\n",
              "      <td>8 0 4 6 3 4 &lt;/s&gt;</td>\n",
              "    </tr>\n",
              "    <tr>\n",
              "      <th>598</th>\n",
              "      <td>number to english: 7 2 9 8 2 6 &lt;/s&gt;</td>\n",
              "      <td>seven hundred twenty-nine thousand eight hundr...</td>\n",
              "    </tr>\n",
              "    <tr>\n",
              "      <th>599</th>\n",
              "      <td>number to english: 1 2 6 4 7 0 &lt;/s&gt;</td>\n",
              "      <td>one hundred twenty-six thousand four hundred s...</td>\n",
              "    </tr>\n",
              "  </tbody>\n",
              "</table>\n",
              "<p>600 rows × 2 columns</p>\n",
              "</div>"
            ],
            "text/plain": [
              "                                                inputs                                            targets\n",
              "0                  number to english: 1 3 7 9 2 6 </s>  one hundred thirty-seven thousand nine hundred...\n",
              "1    english to number: two hundred eighty thousand...                                   2 8 0 0 8 9 </s>\n",
              "2    english to number: fifty thousand three hundre...                                     5 0 3 0 4 </s>\n",
              "3    english to number: three hundred five thousand...                                   3 0 5 8 8 3 </s>\n",
              "4                  number to english: 6 0 7 0 5 1 </s>          six hundred seven thousand fifty-one </s>\n",
              "..                                                 ...                                                ...\n",
              "595  english to number: forty-eight thousand one hu...                                     4 8 1 1 7 </s>\n",
              "596                number to english: 7 5 8 3 9 4 </s>  seven hundred fifty-eight thousand three hundr...\n",
              "597  english to number: eight hundred four thousand...                                   8 0 4 6 3 4 </s>\n",
              "598                number to english: 7 2 9 8 2 6 </s>  seven hundred twenty-nine thousand eight hundr...\n",
              "599                number to english: 1 2 6 4 7 0 </s>  one hundred twenty-six thousand four hundred s...\n",
              "\n",
              "[600 rows x 2 columns]"
            ]
          },
          "metadata": {
            "tags": []
          },
          "execution_count": 15
        }
      ]
    },
    {
      "cell_type": "code",
      "metadata": {
        "id": "c6a7ZdKEBi0I",
        "colab_type": "code",
        "colab": {
          "base_uri": "https://localhost:8080/",
          "height": 419
        },
        "outputId": "a5653067-c1c0-496f-f4c3-ac29046633af"
      },
      "source": [
        "df_val_total_encoded = pd.DataFrame()\n",
        "df_val_total_encoded['inputs'] = (df_val_total['inputs']\n",
        "                                  .apply(lambda x: tokenizer.encode(x, return_tensors='pt')))\n",
        "df_val_total_encoded['targets'] = (df_val_total['targets']\n",
        "                                   .apply(lambda x: tokenizer.encode(x, return_tensors='pt')))\n",
        "\n",
        "df_val_total_encoded"
      ],
      "execution_count": null,
      "outputs": [
        {
          "output_type": "execute_result",
          "data": {
            "text/html": [
              "<div>\n",
              "<style scoped>\n",
              "    .dataframe tbody tr th:only-of-type {\n",
              "        vertical-align: middle;\n",
              "    }\n",
              "\n",
              "    .dataframe tbody tr th {\n",
              "        vertical-align: top;\n",
              "    }\n",
              "\n",
              "    .dataframe thead th {\n",
              "        text-align: right;\n",
              "    }\n",
              "</style>\n",
              "<table border=\"1\" class=\"dataframe\">\n",
              "  <thead>\n",
              "    <tr style=\"text-align: right;\">\n",
              "      <th></th>\n",
              "      <th>inputs</th>\n",
              "      <th>targets</th>\n",
              "    </tr>\n",
              "  </thead>\n",
              "  <tbody>\n",
              "    <tr>\n",
              "      <th>0</th>\n",
              "      <td>[[tensor(381), tensor(12), tensor(22269), tens...</td>\n",
              "      <td>[[tensor(80), tensor(6189), tensor(12010), ten...</td>\n",
              "    </tr>\n",
              "    <tr>\n",
              "      <th>1</th>\n",
              "      <td>[[tensor(22269), tensor(12), tensor(381), tens...</td>\n",
              "      <td>[[tensor(204), tensor(505), tensor(3), tensor(...</td>\n",
              "    </tr>\n",
              "    <tr>\n",
              "      <th>2</th>\n",
              "      <td>[[tensor(22269), tensor(12), tensor(381), tens...</td>\n",
              "      <td>[[tensor(305), tensor(3), tensor(632), tensor(...</td>\n",
              "    </tr>\n",
              "    <tr>\n",
              "      <th>3</th>\n",
              "      <td>[[tensor(22269), tensor(12), tensor(381), tens...</td>\n",
              "      <td>[[tensor(220), tensor(3), tensor(632), tensor(...</td>\n",
              "    </tr>\n",
              "    <tr>\n",
              "      <th>4</th>\n",
              "      <td>[[tensor(381), tensor(12), tensor(22269), tens...</td>\n",
              "      <td>[[tensor(1296), tensor(6189), tensor(2391), te...</td>\n",
              "    </tr>\n",
              "    <tr>\n",
              "      <th>...</th>\n",
              "      <td>...</td>\n",
              "      <td>...</td>\n",
              "    </tr>\n",
              "    <tr>\n",
              "      <th>595</th>\n",
              "      <td>[[tensor(22269), tensor(12), tensor(381), tens...</td>\n",
              "      <td>[[tensor(314), tensor(505), tensor(209), tenso...</td>\n",
              "    </tr>\n",
              "    <tr>\n",
              "      <th>596</th>\n",
              "      <td>[[tensor(381), tensor(12), tensor(22269), tens...</td>\n",
              "      <td>[[tensor(2391), tensor(6189), tensor(18358), t...</td>\n",
              "    </tr>\n",
              "    <tr>\n",
              "      <th>597</th>\n",
              "      <td>[[tensor(22269), tensor(12), tensor(381), tens...</td>\n",
              "      <td>[[tensor(505), tensor(3), tensor(632), tensor(...</td>\n",
              "    </tr>\n",
              "    <tr>\n",
              "      <th>598</th>\n",
              "      <td>[[tensor(381), tensor(12), tensor(22269), tens...</td>\n",
              "      <td>[[tensor(2391), tensor(6189), tensor(6786), te...</td>\n",
              "    </tr>\n",
              "    <tr>\n",
              "      <th>599</th>\n",
              "      <td>[[tensor(381), tensor(12), tensor(22269), tens...</td>\n",
              "      <td>[[tensor(80), tensor(6189), tensor(6786), tens...</td>\n",
              "    </tr>\n",
              "  </tbody>\n",
              "</table>\n",
              "<p>600 rows × 2 columns</p>\n",
              "</div>"
            ],
            "text/plain": [
              "                                                inputs                                            targets\n",
              "0    [[tensor(381), tensor(12), tensor(22269), tens...  [[tensor(80), tensor(6189), tensor(12010), ten...\n",
              "1    [[tensor(22269), tensor(12), tensor(381), tens...  [[tensor(204), tensor(505), tensor(3), tensor(...\n",
              "2    [[tensor(22269), tensor(12), tensor(381), tens...  [[tensor(305), tensor(3), tensor(632), tensor(...\n",
              "3    [[tensor(22269), tensor(12), tensor(381), tens...  [[tensor(220), tensor(3), tensor(632), tensor(...\n",
              "4    [[tensor(381), tensor(12), tensor(22269), tens...  [[tensor(1296), tensor(6189), tensor(2391), te...\n",
              "..                                                 ...                                                ...\n",
              "595  [[tensor(22269), tensor(12), tensor(381), tens...  [[tensor(314), tensor(505), tensor(209), tenso...\n",
              "596  [[tensor(381), tensor(12), tensor(22269), tens...  [[tensor(2391), tensor(6189), tensor(18358), t...\n",
              "597  [[tensor(22269), tensor(12), tensor(381), tens...  [[tensor(505), tensor(3), tensor(632), tensor(...\n",
              "598  [[tensor(381), tensor(12), tensor(22269), tens...  [[tensor(2391), tensor(6189), tensor(6786), te...\n",
              "599  [[tensor(381), tensor(12), tensor(22269), tens...  [[tensor(80), tensor(6189), tensor(6786), tens...\n",
              "\n",
              "[600 rows x 2 columns]"
            ]
          },
          "metadata": {
            "tags": []
          },
          "execution_count": 16
        }
      ]
    },
    {
      "cell_type": "markdown",
      "metadata": {
        "id": "4_PM9vlEpPuK",
        "colab_type": "text"
      },
      "source": [
        "### Test dataset preparation"
      ]
    },
    {
      "cell_type": "code",
      "metadata": {
        "id": "hE78AgWZpRSc",
        "colab_type": "code",
        "colab": {
          "base_uri": "https://localhost:8080/",
          "height": 436
        },
        "outputId": "8968fcb1-64e4-4432-ca6a-c2c86fe3453c"
      },
      "source": [
        "df_test_processed_1 = pre_process(df_test[0::2], num2text=False)\n",
        "df_test_processed_2 = pre_process(df_test[1::2], num2text=True)\n",
        "\n",
        "df_test_total = pd.concat([\n",
        "    df_test_processed_1,\n",
        "    df_test_processed_2\n",
        "])\n",
        "\n",
        "df_test_total = (df_test_total\n",
        "                 .sample(frac=1.0, random_state=SEED)\n",
        "                 .reset_index(drop=True))\n",
        "\n",
        "del df_test_processed_1, df_test_processed_2\n",
        "\n",
        "print(df_test_total.shape)\n",
        "df_test_total"
      ],
      "execution_count": null,
      "outputs": [
        {
          "output_type": "stream",
          "text": [
            "(600, 2)\n"
          ],
          "name": "stdout"
        },
        {
          "output_type": "execute_result",
          "data": {
            "text/html": [
              "<div>\n",
              "<style scoped>\n",
              "    .dataframe tbody tr th:only-of-type {\n",
              "        vertical-align: middle;\n",
              "    }\n",
              "\n",
              "    .dataframe tbody tr th {\n",
              "        vertical-align: top;\n",
              "    }\n",
              "\n",
              "    .dataframe thead th {\n",
              "        text-align: right;\n",
              "    }\n",
              "</style>\n",
              "<table border=\"1\" class=\"dataframe\">\n",
              "  <thead>\n",
              "    <tr style=\"text-align: right;\">\n",
              "      <th></th>\n",
              "      <th>inputs</th>\n",
              "      <th>targets</th>\n",
              "    </tr>\n",
              "  </thead>\n",
              "  <tbody>\n",
              "    <tr>\n",
              "      <th>0</th>\n",
              "      <td>number to english: 7 5 4 3 6 3 &lt;/s&gt;</td>\n",
              "      <td>seven hundred fifty-four thousand three hundre...</td>\n",
              "    </tr>\n",
              "    <tr>\n",
              "      <th>1</th>\n",
              "      <td>english to number: forty-one thousand eight hu...</td>\n",
              "      <td>4 1 8 8 5 &lt;/s&gt;</td>\n",
              "    </tr>\n",
              "    <tr>\n",
              "      <th>2</th>\n",
              "      <td>english to number: two hundred forty-eight tho...</td>\n",
              "      <td>2 4 8 0 9 5 &lt;/s&gt;</td>\n",
              "    </tr>\n",
              "    <tr>\n",
              "      <th>3</th>\n",
              "      <td>english to number: sixty-one thousand one hund...</td>\n",
              "      <td>6 1 1 8 4 &lt;/s&gt;</td>\n",
              "    </tr>\n",
              "    <tr>\n",
              "      <th>4</th>\n",
              "      <td>number to english: 4 7 3 0 9 5 &lt;/s&gt;</td>\n",
              "      <td>four hundred seventy-three thousand ninety-fiv...</td>\n",
              "    </tr>\n",
              "    <tr>\n",
              "      <th>...</th>\n",
              "      <td>...</td>\n",
              "      <td>...</td>\n",
              "    </tr>\n",
              "    <tr>\n",
              "      <th>595</th>\n",
              "      <td>english to number: eight hundred eighty-eight ...</td>\n",
              "      <td>8 8 8 2 5 1 &lt;/s&gt;</td>\n",
              "    </tr>\n",
              "    <tr>\n",
              "      <th>596</th>\n",
              "      <td>number to english: 6 5 2 0 1 4 &lt;/s&gt;</td>\n",
              "      <td>six hundred fifty-two thousand fourteen &lt;/s&gt;</td>\n",
              "    </tr>\n",
              "    <tr>\n",
              "      <th>597</th>\n",
              "      <td>english to number: three hundred six thousand ...</td>\n",
              "      <td>3 0 6 3 3 0 &lt;/s&gt;</td>\n",
              "    </tr>\n",
              "    <tr>\n",
              "      <th>598</th>\n",
              "      <td>number to english: 5 8 3 7 0 3 &lt;/s&gt;</td>\n",
              "      <td>five hundred eighty-three thousand seven hundr...</td>\n",
              "    </tr>\n",
              "    <tr>\n",
              "      <th>599</th>\n",
              "      <td>number to english: 9 3 2 0 5 &lt;/s&gt;</td>\n",
              "      <td>ninety-three thousand two hundred five &lt;/s&gt;</td>\n",
              "    </tr>\n",
              "  </tbody>\n",
              "</table>\n",
              "<p>600 rows × 2 columns</p>\n",
              "</div>"
            ],
            "text/plain": [
              "                                                inputs                                            targets\n",
              "0                  number to english: 7 5 4 3 6 3 </s>  seven hundred fifty-four thousand three hundre...\n",
              "1    english to number: forty-one thousand eight hu...                                     4 1 8 8 5 </s>\n",
              "2    english to number: two hundred forty-eight tho...                                   2 4 8 0 9 5 </s>\n",
              "3    english to number: sixty-one thousand one hund...                                     6 1 1 8 4 </s>\n",
              "4                  number to english: 4 7 3 0 9 5 </s>  four hundred seventy-three thousand ninety-fiv...\n",
              "..                                                 ...                                                ...\n",
              "595  english to number: eight hundred eighty-eight ...                                   8 8 8 2 5 1 </s>\n",
              "596                number to english: 6 5 2 0 1 4 </s>       six hundred fifty-two thousand fourteen </s>\n",
              "597  english to number: three hundred six thousand ...                                   3 0 6 3 3 0 </s>\n",
              "598                number to english: 5 8 3 7 0 3 </s>  five hundred eighty-three thousand seven hundr...\n",
              "599                  number to english: 9 3 2 0 5 </s>        ninety-three thousand two hundred five </s>\n",
              "\n",
              "[600 rows x 2 columns]"
            ]
          },
          "metadata": {
            "tags": []
          },
          "execution_count": 17
        }
      ]
    },
    {
      "cell_type": "code",
      "metadata": {
        "id": "NKfZNup58Z0x",
        "colab_type": "code",
        "colab": {
          "base_uri": "https://localhost:8080/",
          "height": 419
        },
        "outputId": "d36285cf-7298-41cc-da17-18d71eb51626"
      },
      "source": [
        "df_test_total_encoded = pd.DataFrame()\n",
        "df_test_total_encoded['inputs'] = (df_test_total['inputs']\n",
        "                                   .apply(lambda x: tokenizer.encode(x, return_tensors='pt')))\n",
        "df_test_total_encoded['targets'] = (df_test_total['targets']\n",
        "                                    .apply(lambda x: tokenizer.encode(x, return_tensors='pt')))\n",
        "\n",
        "df_test_total_encoded"
      ],
      "execution_count": null,
      "outputs": [
        {
          "output_type": "execute_result",
          "data": {
            "text/html": [
              "<div>\n",
              "<style scoped>\n",
              "    .dataframe tbody tr th:only-of-type {\n",
              "        vertical-align: middle;\n",
              "    }\n",
              "\n",
              "    .dataframe tbody tr th {\n",
              "        vertical-align: top;\n",
              "    }\n",
              "\n",
              "    .dataframe thead th {\n",
              "        text-align: right;\n",
              "    }\n",
              "</style>\n",
              "<table border=\"1\" class=\"dataframe\">\n",
              "  <thead>\n",
              "    <tr style=\"text-align: right;\">\n",
              "      <th></th>\n",
              "      <th>inputs</th>\n",
              "      <th>targets</th>\n",
              "    </tr>\n",
              "  </thead>\n",
              "  <tbody>\n",
              "    <tr>\n",
              "      <th>0</th>\n",
              "      <td>[[tensor(381), tensor(12), tensor(22269), tens...</td>\n",
              "      <td>[[tensor(2391), tensor(6189), tensor(18358), t...</td>\n",
              "    </tr>\n",
              "    <tr>\n",
              "      <th>1</th>\n",
              "      <td>[[tensor(22269), tensor(12), tensor(381), tens...</td>\n",
              "      <td>[[tensor(314), tensor(209), tensor(505), tenso...</td>\n",
              "    </tr>\n",
              "    <tr>\n",
              "      <th>2</th>\n",
              "      <td>[[tensor(22269), tensor(12), tensor(381), tens...</td>\n",
              "      <td>[[tensor(204), tensor(314), tensor(505), tenso...</td>\n",
              "    </tr>\n",
              "    <tr>\n",
              "      <th>3</th>\n",
              "      <td>[[tensor(22269), tensor(12), tensor(381), tens...</td>\n",
              "      <td>[[tensor(431), tensor(209), tensor(209), tenso...</td>\n",
              "    </tr>\n",
              "    <tr>\n",
              "      <th>4</th>\n",
              "      <td>[[tensor(381), tensor(12), tensor(22269), tens...</td>\n",
              "      <td>[[tensor(662), tensor(6189), tensor(2391), ten...</td>\n",
              "    </tr>\n",
              "    <tr>\n",
              "      <th>...</th>\n",
              "      <td>...</td>\n",
              "      <td>...</td>\n",
              "    </tr>\n",
              "    <tr>\n",
              "      <th>595</th>\n",
              "      <td>[[tensor(22269), tensor(12), tensor(381), tens...</td>\n",
              "      <td>[[tensor(505), tensor(505), tensor(505), tenso...</td>\n",
              "    </tr>\n",
              "    <tr>\n",
              "      <th>596</th>\n",
              "      <td>[[tensor(381), tensor(12), tensor(22269), tens...</td>\n",
              "      <td>[[tensor(1296), tensor(6189), tensor(18358), t...</td>\n",
              "    </tr>\n",
              "    <tr>\n",
              "      <th>597</th>\n",
              "      <td>[[tensor(22269), tensor(12), tensor(381), tens...</td>\n",
              "      <td>[[tensor(220), tensor(3), tensor(632), tensor(...</td>\n",
              "    </tr>\n",
              "    <tr>\n",
              "      <th>598</th>\n",
              "      <td>[[tensor(381), tensor(12), tensor(22269), tens...</td>\n",
              "      <td>[[tensor(874), tensor(6189), tensor(2641), ten...</td>\n",
              "    </tr>\n",
              "    <tr>\n",
              "      <th>599</th>\n",
              "      <td>[[tensor(381), tensor(12), tensor(22269), tens...</td>\n",
              "      <td>[[tensor(4169), tensor(17), tensor(63), tensor...</td>\n",
              "    </tr>\n",
              "  </tbody>\n",
              "</table>\n",
              "<p>600 rows × 2 columns</p>\n",
              "</div>"
            ],
            "text/plain": [
              "                                                inputs                                            targets\n",
              "0    [[tensor(381), tensor(12), tensor(22269), tens...  [[tensor(2391), tensor(6189), tensor(18358), t...\n",
              "1    [[tensor(22269), tensor(12), tensor(381), tens...  [[tensor(314), tensor(209), tensor(505), tenso...\n",
              "2    [[tensor(22269), tensor(12), tensor(381), tens...  [[tensor(204), tensor(314), tensor(505), tenso...\n",
              "3    [[tensor(22269), tensor(12), tensor(381), tens...  [[tensor(431), tensor(209), tensor(209), tenso...\n",
              "4    [[tensor(381), tensor(12), tensor(22269), tens...  [[tensor(662), tensor(6189), tensor(2391), ten...\n",
              "..                                                 ...                                                ...\n",
              "595  [[tensor(22269), tensor(12), tensor(381), tens...  [[tensor(505), tensor(505), tensor(505), tenso...\n",
              "596  [[tensor(381), tensor(12), tensor(22269), tens...  [[tensor(1296), tensor(6189), tensor(18358), t...\n",
              "597  [[tensor(22269), tensor(12), tensor(381), tens...  [[tensor(220), tensor(3), tensor(632), tensor(...\n",
              "598  [[tensor(381), tensor(12), tensor(22269), tens...  [[tensor(874), tensor(6189), tensor(2641), ten...\n",
              "599  [[tensor(381), tensor(12), tensor(22269), tens...  [[tensor(4169), tensor(17), tensor(63), tensor...\n",
              "\n",
              "[600 rows x 2 columns]"
            ]
          },
          "metadata": {
            "tags": []
          },
          "execution_count": 18
        }
      ]
    },
    {
      "cell_type": "code",
      "metadata": {
        "id": "pIhLgy6b7TMt",
        "colab_type": "code",
        "colab": {}
      },
      "source": [
        "# df_test_total_encoded['inputs'] = df_test_total_encoded['inputs'].astype(int)\n",
        "# df_test_total_encoded['targets'] = df_test_total_encoded['targets'].astype(int)"
      ],
      "execution_count": null,
      "outputs": []
    },
    {
      "cell_type": "code",
      "metadata": {
        "id": "6YrfqRVZ8Bpq",
        "colab_type": "code",
        "colab": {
          "base_uri": "https://localhost:8080/",
          "height": 170
        },
        "outputId": "c5aa1b94-6882-422d-8da2-0119c00f1e11"
      },
      "source": [
        "df_test_total_encoded.info()"
      ],
      "execution_count": null,
      "outputs": [
        {
          "output_type": "stream",
          "text": [
            "<class 'pandas.core.frame.DataFrame'>\n",
            "RangeIndex: 600 entries, 0 to 599\n",
            "Data columns (total 2 columns):\n",
            " #   Column   Non-Null Count  Dtype \n",
            "---  ------   --------------  ----- \n",
            " 0   inputs   600 non-null    object\n",
            " 1   targets  600 non-null    object\n",
            "dtypes: object(2)\n",
            "memory usage: 9.5+ KB\n"
          ],
          "name": "stdout"
        }
      ]
    },
    {
      "cell_type": "code",
      "metadata": {
        "id": "R5XkKXtj8xNI",
        "colab_type": "code",
        "colab": {}
      },
      "source": [
        "def generate_batch(df, batch_size=128):\n",
        "    i = 0\n",
        "\n",
        "    def add_pad(tensor):\n",
        "        max_len = max([x.squeeze().numel() for x in tensor])\n",
        "        tensor = [F.pad(x, pad=(0, max_len - x.numel()), mode='constant', value=0) for x in tensor]\n",
        "        tensor = torch.stack(tensor).squeeze()\n",
        "        return tensor\n",
        "\n",
        "    while True:\n",
        "        rows = df.iloc[i*batch_size : (i+1)*batch_size, :]\n",
        "        \n",
        "        if len(rows) == 0:\n",
        "            break\n",
        "            \n",
        "        inputs, targets = rows['inputs'].values, rows['targets'].values\n",
        "\n",
        "        inputs, targets = add_pad(inputs), add_pad(targets)\n",
        "\n",
        "        yield inputs, targets\n",
        "        i += 1"
      ],
      "execution_count": null,
      "outputs": []
    },
    {
      "cell_type": "markdown",
      "metadata": {
        "id": "LrsCj1uN8yjp",
        "colab_type": "text"
      },
      "source": [
        "### Train"
      ]
    },
    {
      "cell_type": "code",
      "metadata": {
        "id": "6wxBXZxTAs5b",
        "colab_type": "code",
        "colab": {}
      },
      "source": [
        "n_epochs = 10\n",
        "batch_size = 128\n",
        "lr = 0.001\n",
        "optimizer = transformers.AdamW(model.parameters(), lr=lr)"
      ],
      "execution_count": null,
      "outputs": []
    },
    {
      "cell_type": "code",
      "metadata": {
        "id": "bk5eOS6m8tBI",
        "colab_type": "code",
        "colab": {}
      },
      "source": [
        "def evaluate(df = df_val_total_encoded):\n",
        "    model.eval()\n",
        "    val_loss = 0.0\n",
        "\n",
        "    for inputs, targets in generate_batch(df, batch_size=batch_size):\n",
        "        inputs, targets = inputs.cuda(), targets.cuda()\n",
        "        loss, _, _, _ = model(input_ids=inputs, labels=targets)\n",
        "        val_loss += loss.item()\n",
        "\n",
        "    val_loss /= len(df.iloc[::batch_size, :])\n",
        "\n",
        "    random_index = np.random.choice(20)\n",
        "    input = inputs[random_index].cuda()\n",
        "    output = model.generate(input.unsqueeze(0))\n",
        "    output = tokenizer.decode(output[0])\n",
        "\n",
        "    model.train()\n",
        "\n",
        "    return val_loss, tokenizer.decode(input), output\n",
        "        \n",
        "\n",
        "def train(df = df_train_total_encoded):\n",
        "    model.train()\n",
        "\n",
        "    for epoch in range(n_epochs):\n",
        "        \n",
        "        epoch_loss = 0.0\n",
        "        \n",
        "        # get all sentences and corresponding tags in the training data\n",
        "        for inputs, targets in tqdm(generate_batch(df, batch_size=batch_size)):\n",
        "            inputs, targets = inputs.cuda(), targets.cuda()\n",
        "            \n",
        "            model.zero_grad()\n",
        "\n",
        "            loss, _, _, _ = model(input_ids=inputs, labels=targets)\n",
        "            epoch_loss += loss.item()\n",
        "            loss.backward()\n",
        "            \n",
        "            optimizer.step()\n",
        "            \n",
        "        # print out avg loss per 1 epochs\n",
        "        if(epoch%1 == 0):\n",
        "            val_loss, input, output = evaluate()\n",
        "\n",
        "            print(f\"Epoch: {epoch+1}, |\",\n",
        "            f\"Training loss: {epoch_loss/len(df.iloc[::batch_size, :]):2.6f} |\",\n",
        "            f\"Val loss: {val_loss:2.6f} |\",\n",
        "            f'\\n',\n",
        "            f'Input=> \"{input:}\" |',\n",
        "            f'Pred output=> \"{output:}\" |')\n",
        "\n",
        "    model.eval()"
      ],
      "execution_count": null,
      "outputs": []
    },
    {
      "cell_type": "code",
      "metadata": {
        "id": "9dGw0NJwHupp",
        "colab_type": "code",
        "colab": {
          "base_uri": "https://localhost:8080/",
          "height": 847,
          "referenced_widgets": [
            "f21649eddd5c4d5c80ab0fe6975a215e",
            "e59b7236badf4523aa2901c6bc972658",
            "b3df86a17782412d8e539a8fc1c56f29",
            "f68937faf946483e90328b7fe13d9f85",
            "d8109a8c67a3463fa0aa70468a1a141c",
            "106e3c978c894ee3ac97f8d21d667154",
            "0397a8b49ef641168ff61a94cf571cbb",
            "d717466787ea442bb2f375b907c483c7",
            "b082f6876e7e4075baecec9def068417",
            "f72445d21be74e67878e012060676c67",
            "425b9bad7f134da5bfa087cbade487f4",
            "71a134e9923a4c549728c8ddd4243e1a",
            "96af87443d0b48dbbd11781bf874247f",
            "2dc43d06f16d4069824d69fc81104e77",
            "e1ca22f8df784b8fa9829b0fbbec963c",
            "17764f3c993f46138da7dfe130fdda72",
            "57556cf81ed3499eb54c9ae1a61b6852",
            "defa5806353a4f279147db4e31d85a44",
            "58775b9fa07542cc8fceced7225d796c",
            "681a437f95534f6d922c34171352466c",
            "c5b55a6d0fb446a2886a8ee80009d325",
            "87d7000b1e9443f2ae6a70942da60e01",
            "3164e3cf3a0144589e20f3d651c793cb",
            "326c7020a35c4c408e918a1df8f220ee",
            "50591e7acbf4484ca960c20899c8304e",
            "676c4cc917334180b8809a30bc898611",
            "b184938e85084f75ad1880e60f476e0b",
            "2e60aef04975464ba3949c6ae47d19b8",
            "e8c7426b4f484c37af03138c7ef8dfe4",
            "da3d6ef320304da3bd2cef681a6fab9d",
            "cc5b87e20644445da037dd6eed61d205",
            "3ebd15cd13dc4ab9aaa0874b828f82a3",
            "02ebaf8900e84576a73dbfc2158dc236",
            "ff9bee5a199e448cb116d2a854bab538",
            "da87c682c7ff4fd094c0f3c6ad0fbda3",
            "b6f0895d43d947c98d723110c09eebe4",
            "dcabef881c9343249a3d989c8d23ba22",
            "cc9e7d626a4f45708c44afd150188f03",
            "516275ece502470793fd9a1be98c389b",
            "729dd0789d3c4cfd84595044d953e1f0",
            "794e0aa4183d4a3f891d3e2f907f9f4e",
            "65fd905284b6488d8b1d8f14279c532d",
            "43b6b8f31bac4e639a1991bc64d9dc15",
            "dd17b35b8370461c89c7c20bc065df7e",
            "f0b793bb69844eaeb37ecc25ba1fb7d4",
            "8c632bb943b84dd3b5a22f134ebbe973",
            "ff7228ef35c84d2b9ae3b6924de4d75e",
            "89310df301044241ad017b582feebb67",
            "b6e7504414664f7dbd0223705b5ac345",
            "eb075437344e43df901e9b19de6469b3",
            "ff1165bd24284575bcfcc4855e515c3a",
            "c32dc7e102c14b2f9cadd2cd38512bb7",
            "52d659ba885745a2b1bbaf55b77cdc7d",
            "afe6ceb6506d44c9999a5a8bdc7bff02",
            "9b26244541794541ae4f8a95f3ef08d1",
            "d5848440d9f74f2aa59f1418aaba9cef",
            "77d7815ce2b542948365e2dd6de611d4",
            "3ac7f444edc44a76802a7fdd73d1c39d",
            "f18bc98337a04936ab0b23abaa76050a",
            "b2aab4e9d9de43769f1866afccb345a3",
            "b1879d1c7ba54248ba86cadb99083408",
            "9e7a456436bf4314b1a9783c40c57ac8",
            "532aff1860454cfdad83ac9d0fb64455",
            "fe011ca327ae45c88f591f03a6b52128",
            "279904d7470745a58e27c3fa2f2270ed",
            "6e5df3dbab994a088bfed7943b76c931",
            "2761e93c83ba441ca869439b49dadb11",
            "b8365e329f6c473e9abbb39a9b49ca6b",
            "f14ed138fdd44181a71ff51196c5b40f",
            "98d33b098de64dcc9d2e09d93e96b211",
            "9b7b63836c474d3794181dfbbde589e3",
            "e75ad1fdd10942b590b9be72ee1d6bc8",
            "a9a0564433ab4f5e9d8675abf1e0a9e3",
            "32c48ad8d6e74895afbea47eaed37cdb",
            "8b7cac83bbb54d7487d0349d0c32a584",
            "66ebe44a866f46c3b22ba6c343961c8f",
            "43a5857ce77e4344a8f9e359d12e9882",
            "4c93f2942cfc49abb6b9db39885c46ff",
            "57f8b2c59c9a486f8096f51dad34559b",
            "31cbab2891c44b98a40907d64d0dac75"
          ]
        },
        "outputId": "a8eece95-04b4-4f1d-e7b7-0cc5b4ed352b"
      },
      "source": [
        "train()"
      ],
      "execution_count": null,
      "outputs": [
        {
          "output_type": "display_data",
          "data": {
            "application/vnd.jupyter.widget-view+json": {
              "model_id": "f21649eddd5c4d5c80ab0fe6975a215e",
              "version_minor": 0,
              "version_major": 2
            },
            "text/plain": [
              "HBox(children=(FloatProgress(value=1.0, bar_style='info', max=1.0), HTML(value='')))"
            ]
          },
          "metadata": {
            "tags": []
          }
        },
        {
          "output_type": "stream",
          "text": [
            "\n",
            "Epoch: 1, | Training loss: 0.39759 | Val loss: 0.02946 | \n",
            " Input=> \"english to number: thirty-two thousand eight hundred forty-one\" | Pred output=> \"3 2 8 4 1\" |\n"
          ],
          "name": "stdout"
        },
        {
          "output_type": "display_data",
          "data": {
            "application/vnd.jupyter.widget-view+json": {
              "model_id": "b082f6876e7e4075baecec9def068417",
              "version_minor": 0,
              "version_major": 2
            },
            "text/plain": [
              "HBox(children=(FloatProgress(value=1.0, bar_style='info', max=1.0), HTML(value='')))"
            ]
          },
          "metadata": {
            "tags": []
          }
        },
        {
          "output_type": "stream",
          "text": [
            "\n",
            "Epoch: 2, | Training loss: 0.04324 | Val loss: 0.01491 | \n",
            " Input=> \"number to english: 7 1 4 1 1\" | Pred output=> \"seven hundred fourteen thousand one hundred eleven\" |\n"
          ],
          "name": "stdout"
        },
        {
          "output_type": "display_data",
          "data": {
            "application/vnd.jupyter.widget-view+json": {
              "model_id": "57556cf81ed3499eb54c9ae1a61b6852",
              "version_minor": 0,
              "version_major": 2
            },
            "text/plain": [
              "HBox(children=(FloatProgress(value=1.0, bar_style='info', max=1.0), HTML(value='')))"
            ]
          },
          "metadata": {
            "tags": []
          }
        },
        {
          "output_type": "stream",
          "text": [
            "\n",
            "Epoch: 3, | Training loss: 0.02275 | Val loss: 0.00463 | \n",
            " Input=> \"number to english: 9 2 5 5 1 4\" | Pred output=> \"nine hundred twenty-five thousand five hundred fourteen\" |\n"
          ],
          "name": "stdout"
        },
        {
          "output_type": "display_data",
          "data": {
            "application/vnd.jupyter.widget-view+json": {
              "model_id": "50591e7acbf4484ca960c20899c8304e",
              "version_minor": 0,
              "version_major": 2
            },
            "text/plain": [
              "HBox(children=(FloatProgress(value=1.0, bar_style='info', max=1.0), HTML(value='')))"
            ]
          },
          "metadata": {
            "tags": []
          }
        },
        {
          "output_type": "stream",
          "text": [
            "\n",
            "Epoch: 4, | Training loss: 0.01018 | Val loss: 0.00137 | \n",
            " Input=> \"english to number: thirty-two thousand eight hundred forty-one\" | Pred output=> \"3 2 8 4 1\" |\n"
          ],
          "name": "stdout"
        },
        {
          "output_type": "display_data",
          "data": {
            "application/vnd.jupyter.widget-view+json": {
              "model_id": "02ebaf8900e84576a73dbfc2158dc236",
              "version_minor": 0,
              "version_major": 2
            },
            "text/plain": [
              "HBox(children=(FloatProgress(value=1.0, bar_style='info', max=1.0), HTML(value='')))"
            ]
          },
          "metadata": {
            "tags": []
          }
        },
        {
          "output_type": "stream",
          "text": [
            "\n",
            "Epoch: 5, | Training loss: 0.00602 | Val loss: 0.00012 | \n",
            " Input=> \"number to english: 2 0 8 0 9 8\" | Pred output=> \"two hundred eight thousand nine hundred ninety-eight\" |\n"
          ],
          "name": "stdout"
        },
        {
          "output_type": "display_data",
          "data": {
            "application/vnd.jupyter.widget-view+json": {
              "model_id": "794e0aa4183d4a3f891d3e2f907f9f4e",
              "version_minor": 0,
              "version_major": 2
            },
            "text/plain": [
              "HBox(children=(FloatProgress(value=1.0, bar_style='info', max=1.0), HTML(value='')))"
            ]
          },
          "metadata": {
            "tags": []
          }
        },
        {
          "output_type": "stream",
          "text": [
            "\n",
            "Epoch: 6, | Training loss: 0.00454 | Val loss: 0.00007 | \n",
            " Input=> \"number to english: 4 9 4 3 2\" | Pred output=> \"four hundred ninety-four thousand three hundred twenty-two\" |\n"
          ],
          "name": "stdout"
        },
        {
          "output_type": "display_data",
          "data": {
            "application/vnd.jupyter.widget-view+json": {
              "model_id": "b6e7504414664f7dbd0223705b5ac345",
              "version_minor": 0,
              "version_major": 2
            },
            "text/plain": [
              "HBox(children=(FloatProgress(value=1.0, bar_style='info', max=1.0), HTML(value='')))"
            ]
          },
          "metadata": {
            "tags": []
          }
        },
        {
          "output_type": "stream",
          "text": [
            "\n",
            "Epoch: 7, | Training loss: 0.00305 | Val loss: 0.00005 | \n",
            " Input=> \"number to english: 7 1 4 1 1\" | Pred output=> \"seven hundred fourteen thousand one hundred eleven\" |\n"
          ],
          "name": "stdout"
        },
        {
          "output_type": "display_data",
          "data": {
            "application/vnd.jupyter.widget-view+json": {
              "model_id": "77d7815ce2b542948365e2dd6de611d4",
              "version_minor": 0,
              "version_major": 2
            },
            "text/plain": [
              "HBox(children=(FloatProgress(value=1.0, bar_style='info', max=1.0), HTML(value='')))"
            ]
          },
          "metadata": {
            "tags": []
          }
        },
        {
          "output_type": "stream",
          "text": [
            "\n",
            "Epoch: 8, | Training loss: 0.00265 | Val loss: 0.00001 | \n",
            " Input=> \"number to english: 3 0 4 5 7 1\" | Pred output=> \"three hundred four thousand five hundred seventy-one\" |\n"
          ],
          "name": "stdout"
        },
        {
          "output_type": "display_data",
          "data": {
            "application/vnd.jupyter.widget-view+json": {
              "model_id": "279904d7470745a58e27c3fa2f2270ed",
              "version_minor": 0,
              "version_major": 2
            },
            "text/plain": [
              "HBox(children=(FloatProgress(value=1.0, bar_style='info', max=1.0), HTML(value='')))"
            ]
          },
          "metadata": {
            "tags": []
          }
        },
        {
          "output_type": "stream",
          "text": [
            "\n",
            "Epoch: 9, | Training loss: 0.00146 | Val loss: 0.00001 | \n",
            " Input=> \"english to number: one hundred seventy-one thousand eight hundred eighty-nine\" | Pred output=> \"1 7 1 8 8 9\" |\n"
          ],
          "name": "stdout"
        },
        {
          "output_type": "display_data",
          "data": {
            "application/vnd.jupyter.widget-view+json": {
              "model_id": "a9a0564433ab4f5e9d8675abf1e0a9e3",
              "version_minor": 0,
              "version_major": 2
            },
            "text/plain": [
              "HBox(children=(FloatProgress(value=1.0, bar_style='info', max=1.0), HTML(value='')))"
            ]
          },
          "metadata": {
            "tags": []
          }
        },
        {
          "output_type": "stream",
          "text": [
            "\n",
            "Epoch: 10, | Training loss: 0.00260 | Val loss: 0.00037 | \n",
            " Input=> \"number to english: 2 0 8 6 5 4\" | Pred output=> \"two hundred eight thousand six hundred fifty-four\" |\n"
          ],
          "name": "stdout"
        }
      ]
    },
    {
      "cell_type": "code",
      "metadata": {
        "id": "Ye06r-tvJXwE",
        "colab_type": "code",
        "colab": {
          "base_uri": "https://localhost:8080/",
          "height": 54
        },
        "outputId": "027eb22b-d8ba-4db9-9b23-2e61d3bc0e32"
      },
      "source": [
        "test_loss, input, output = evaluate(df_test_total_encoded)\n",
        "\n",
        "print(f\"Test loss: {test_loss:2.5f} |\",\n",
        "      f'Input=> \"{input:}\" |',\n",
        "      f'Pred output=> \"{output:}\" |')"
      ],
      "execution_count": null,
      "outputs": [
        {
          "output_type": "stream",
          "text": [
            "Test loss: 0.00004 | Input=> \"number to english: 7 8 6 6 9 9\" | Pred output=> \"seven hundred eighty-six thousand six hundred ninety-nine\" |\n"
          ],
          "name": "stdout"
        }
      ]
    },
    {
      "cell_type": "markdown",
      "metadata": {
        "id": "HMi5y9WdzRdf",
        "colab_type": "text"
      },
      "source": [
        "### Save model"
      ]
    },
    {
      "cell_type": "code",
      "metadata": {
        "id": "QtKTDC9UTuDs",
        "colab_type": "code",
        "colab": {}
      },
      "source": [
        "PATH = 'num_and_eng.pt'\n",
        "torch.save(model.state_dict(), PATH)"
      ],
      "execution_count": null,
      "outputs": []
    },
    {
      "cell_type": "markdown",
      "metadata": {
        "id": "r8MuUCjPzUgc",
        "colab_type": "text"
      },
      "source": [
        "### Load model"
      ]
    },
    {
      "cell_type": "code",
      "metadata": {
        "id": "BYhd9GGozWVF",
        "colab_type": "code",
        "colab": {
          "base_uri": "https://localhost:8080/",
          "height": 88
        },
        "outputId": "3fa9425f-4747-44c4-ca8d-4a9d65f2d78a"
      },
      "source": [
        "model = AutoModelForSeq2SeqLM.from_pretrained(\"t5-small\")\n",
        "model.load_state_dict(torch.load(PATH))"
      ],
      "execution_count": null,
      "outputs": [
        {
          "output_type": "stream",
          "text": [
            "Some weights of T5ForConditionalGeneration were not initialized from the model checkpoint at t5-small and are newly initialized: ['encoder.embed_tokens.weight', 'decoder.embed_tokens.weight', 'lm_head.weight']\n",
            "You should probably TRAIN this model on a down-stream task to be able to use it for predictions and inference.\n"
          ],
          "name": "stderr"
        },
        {
          "output_type": "execute_result",
          "data": {
            "text/plain": [
              "<All keys matched successfully>"
            ]
          },
          "metadata": {
            "tags": []
          },
          "execution_count": 32
        }
      ]
    },
    {
      "cell_type": "markdown",
      "metadata": {
        "id": "1q7jGTlB0ilH",
        "colab_type": "text"
      },
      "source": [
        "### Save at G-Drive"
      ]
    },
    {
      "cell_type": "code",
      "metadata": {
        "id": "BCVSnS7tzreT",
        "colab_type": "code",
        "colab": {}
      },
      "source": [
        "from google.colab import drive\n",
        "drive.mount('/gdrive')"
      ],
      "execution_count": null,
      "outputs": []
    },
    {
      "cell_type": "code",
      "metadata": {
        "id": "jYP432dVz8oN",
        "colab_type": "code",
        "colab": {}
      },
      "source": [
        "!cp num_and_eng.pt /gdrive/My\\ Drive"
      ],
      "execution_count": null,
      "outputs": []
    },
    {
      "cell_type": "code",
      "metadata": {
        "id": "vhBKR6zA03pz",
        "colab_type": "code",
        "colab": {}
      },
      "source": [
        ""
      ],
      "execution_count": null,
      "outputs": []
    }
  ]
}